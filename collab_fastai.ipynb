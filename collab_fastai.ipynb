{
  "nbformat": 4,
  "nbformat_minor": 0,
  "metadata": {
    "colab": {
      "provenance": []
    },
    "kernelspec": {
      "name": "python3",
      "display_name": "Python 3"
    },
    "language_info": {
      "name": "python"
    },
    "accelerator": "GPU"
  },
  "cells": [
    {
      "cell_type": "markdown",
      "source": [
        "# Collaborative Filtering\n",
        "1. Collaborative filtering, which works like this: look at what products the current user has used or liked, find other users that have used or liked similar products, and then recommend other products that those users have used or liked.\n",
        "2. There is actually a more general class of problems that this approach can solve, not necessarily involving users and products. Indeed, for collaborative filtering we more commonly refer to items, rather than products. Items could be links that people click on, diagnoses that are selected for patients, and so forth."
      ],
      "metadata": {
        "id": "ymY4Xkbfkt-C"
      }
    },
    {
      "cell_type": "code",
      "execution_count": null,
      "metadata": {
        "id": "9Qc5aM8SjvH3",
        "colab": {
          "base_uri": "https://localhost:8080/"
        },
        "outputId": "1c58ef5e-a9a1-450e-e948-90319bdf3b8d"
      },
      "outputs": [
        {
          "output_type": "stream",
          "name": "stdout",
          "text": [
            "\u001b[K     |████████████████████████████████| 719 kB 5.4 MB/s \n",
            "\u001b[K     |████████████████████████████████| 1.2 MB 32.1 MB/s \n",
            "\u001b[K     |████████████████████████████████| 197 kB 44.0 MB/s \n",
            "\u001b[K     |████████████████████████████████| 60 kB 6.7 MB/s \n",
            "\u001b[?25hMounted at /content/gdrive\n"
          ]
        }
      ],
      "source": [
        "!pip install -Uqq fastbook\n",
        "import fastbook\n",
        "fastbook.setup_book()"
      ]
    },
    {
      "cell_type": "code",
      "source": [
        "from fastbook import *"
      ],
      "metadata": {
        "id": "ePzsQaRnkAlh"
      },
      "execution_count": null,
      "outputs": []
    },
    {
      "cell_type": "code",
      "source": [
        "import ssl\n",
        "ssl._create_default_https_context = ssl._create_unverified_context"
      ],
      "metadata": {
        "id": "88htBS82j46U"
      },
      "execution_count": null,
      "outputs": []
    },
    {
      "cell_type": "code",
      "source": [
        "from fastai.collab import *\n",
        "path = untar_data(URLs.ML_100k)"
      ],
      "metadata": {
        "colab": {
          "base_uri": "https://localhost:8080/",
          "height": 37
        },
        "id": "AAaGiIwkkDeR",
        "outputId": "484b165c-cc5d-4658-8a7d-b088ea905c6c"
      },
      "execution_count": null,
      "outputs": [
        {
          "output_type": "display_data",
          "data": {
            "text/plain": [
              "<IPython.core.display.HTML object>"
            ],
            "text/html": [
              "\n",
              "<style>\n",
              "    /* Turns off some styling */\n",
              "    progress {\n",
              "        /* gets rid of default border in Firefox and Opera. */\n",
              "        border: none;\n",
              "        /* Needs to be in here for Safari polyfill so background images work as expected. */\n",
              "        background-size: auto;\n",
              "    }\n",
              "    .progress-bar-interrupted, .progress-bar-interrupted::-webkit-progress-bar {\n",
              "        background: #F44336;\n",
              "    }\n",
              "</style>\n"
            ]
          },
          "metadata": {}
        },
        {
          "output_type": "display_data",
          "data": {
            "text/plain": [
              "<IPython.core.display.HTML object>"
            ],
            "text/html": [
              "\n",
              "    <div>\n",
              "      <progress value='4931584' class='' max='4924029' style='width:300px; height:20px; vertical-align: middle;'></progress>\n",
              "      100.15% [4931584/4924029 00:00<00:00]\n",
              "    </div>\n",
              "    "
            ]
          },
          "metadata": {}
        }
      ]
    },
    {
      "cell_type": "markdown",
      "source": [
        "According to the README, the main table is in the file u.data. It is tab-separated and the columns are, respectively user, movie, rating, and timestamp."
      ],
      "metadata": {
        "id": "SDrXTrhjks5o"
      }
    },
    {
      "cell_type": "code",
      "source": [
        "Path.BASE_PATH = path"
      ],
      "metadata": {
        "id": "xXMUrgQwA8Qe"
      },
      "execution_count": null,
      "outputs": []
    },
    {
      "cell_type": "code",
      "source": [
        "readme = (path/'README').read_text()\n",
        "readme.split('\\n')"
      ],
      "metadata": {
        "id": "OuvYCbibl1ac",
        "colab": {
          "base_uri": "https://localhost:8080/"
        },
        "outputId": "3f7cc900-0cd8-4ef8-e465-3c4df10c3a10"
      },
      "execution_count": null,
      "outputs": [
        {
          "output_type": "execute_result",
          "data": {
            "text/plain": [
              "['SUMMARY & USAGE LICENSE',\n",
              " '=============================================',\n",
              " '',\n",
              " 'MovieLens data sets were collected by the GroupLens Research Project',\n",
              " 'at the University of Minnesota.',\n",
              " ' ',\n",
              " 'This data set consists of:',\n",
              " '\\t* 100,000 ratings (1-5) from 943 users on 1682 movies. ',\n",
              " '\\t* Each user has rated at least 20 movies. ',\n",
              " '        * Simple demographic info for the users (age, gender, occupation, zip)',\n",
              " '',\n",
              " 'The data was collected through the MovieLens web site',\n",
              " '(movielens.umn.edu) during the seven-month period from September 19th, ',\n",
              " '1997 through April 22nd, 1998. This data has been cleaned up - users',\n",
              " 'who had less than 20 ratings or did not have complete demographic',\n",
              " 'information were removed from this data set. Detailed descriptions of',\n",
              " 'the data file can be found at the end of this file.',\n",
              " '',\n",
              " 'Neither the University of Minnesota nor any of the researchers',\n",
              " 'involved can guarantee the correctness of the data, its suitability',\n",
              " 'for any particular purpose, or the validity of results based on the',\n",
              " 'use of the data set.  The data set may be used for any research',\n",
              " 'purposes under the following conditions:',\n",
              " '',\n",
              " '     * The user may not state or imply any endorsement from the',\n",
              " '       University of Minnesota or the GroupLens Research Group.',\n",
              " '',\n",
              " '     * The user must acknowledge the use of the data set in',\n",
              " '       publications resulting from the use of the data set',\n",
              " '       (see below for citation information).',\n",
              " '',\n",
              " '     * The user may not redistribute the data without separate',\n",
              " '       permission.',\n",
              " '',\n",
              " '     * The user may not use this information for any commercial or',\n",
              " '       revenue-bearing purposes without first obtaining permission',\n",
              " '       from a faculty member of the GroupLens Research Project at the',\n",
              " '       University of Minnesota.',\n",
              " '',\n",
              " 'If you have any further questions or comments, please contact GroupLens',\n",
              " '<grouplens-info@cs.umn.edu>. ',\n",
              " '',\n",
              " 'CITATION',\n",
              " '==============================================',\n",
              " '',\n",
              " 'To acknowledge use of the dataset in publications, please cite the ',\n",
              " 'following paper:',\n",
              " '',\n",
              " 'F. Maxwell Harper and Joseph A. Konstan. 2015. The MovieLens Datasets:',\n",
              " 'History and Context. ACM Transactions on Interactive Intelligent',\n",
              " 'Systems (TiiS) 5, 4, Article 19 (December 2015), 19 pages.',\n",
              " 'DOI=http://dx.doi.org/10.1145/2827872',\n",
              " '',\n",
              " '',\n",
              " 'ACKNOWLEDGEMENTS',\n",
              " '==============================================',\n",
              " '',\n",
              " 'Thanks to Al Borchers for cleaning up this data and writing the',\n",
              " 'accompanying scripts.',\n",
              " '',\n",
              " 'PUBLISHED WORK THAT HAS USED THIS DATASET',\n",
              " '==============================================',\n",
              " '',\n",
              " 'Herlocker, J., Konstan, J., Borchers, A., Riedl, J.. An Algorithmic',\n",
              " 'Framework for Performing Collaborative Filtering. Proceedings of the',\n",
              " '1999 Conference on Research and Development in Information',\n",
              " 'Retrieval. Aug. 1999.',\n",
              " '',\n",
              " 'FURTHER INFORMATION ABOUT THE GROUPLENS RESEARCH PROJECT',\n",
              " '==============================================',\n",
              " '',\n",
              " 'The GroupLens Research Project is a research group in the Department',\n",
              " 'of Computer Science and Engineering at the University of Minnesota.',\n",
              " 'Members of the GroupLens Research Project are involved in many',\n",
              " 'research projects related to the fields of information filtering,',\n",
              " 'collaborative filtering, and recommender systems. The project is lead',\n",
              " 'by professors John Riedl and Joseph Konstan. The project began to',\n",
              " 'explore automated collaborative filtering in 1992, but is most well',\n",
              " 'known for its world wide trial of an automated collaborative filtering',\n",
              " 'system for Usenet news in 1996.  The technology developed in the',\n",
              " 'Usenet trial formed the base for the formation of Net Perceptions,',\n",
              " 'Inc., which was founded by members of GroupLens Research. Since then',\n",
              " 'the project has expanded its scope to research overall information',\n",
              " 'filtering solutions, integrating in content-based methods as well as',\n",
              " 'improving current collaborative filtering technology.',\n",
              " '',\n",
              " 'Further information on the GroupLens Research project, including',\n",
              " 'research publications, can be found at the following web site:',\n",
              " '        ',\n",
              " '        http://www.grouplens.org/',\n",
              " '',\n",
              " 'GroupLens Research currently operates a movie recommender based on',\n",
              " 'collaborative filtering:',\n",
              " '',\n",
              " '        http://www.movielens.org/',\n",
              " '',\n",
              " 'DETAILED DESCRIPTIONS OF DATA FILES',\n",
              " '==============================================',\n",
              " '',\n",
              " 'Here are brief descriptions of the data.',\n",
              " '',\n",
              " 'ml-data.tar.gz   -- Compressed tar file.  To rebuild the u data files do this:',\n",
              " '                gunzip ml-data.tar.gz',\n",
              " '                tar xvf ml-data.tar',\n",
              " '                mku.sh',\n",
              " '',\n",
              " 'u.data     -- The full u data set, 100000 ratings by 943 users on 1682 items.',\n",
              " '              Each user has rated at least 20 movies.  Users and items are',\n",
              " '              numbered consecutively from 1.  The data is randomly',\n",
              " '              ordered. This is a tab separated list of ',\n",
              " '\\t         user id | item id | rating | timestamp. ',\n",
              " '              The time stamps are unix seconds since 1/1/1970 UTC   ',\n",
              " '',\n",
              " 'u.info     -- The number of users, items, and ratings in the u data set.',\n",
              " '',\n",
              " 'u.item     -- Information about the items (movies); this is a tab separated',\n",
              " '              list of',\n",
              " '              movie id | movie title | release date | video release date |',\n",
              " '              IMDb URL | unknown | Action | Adventure | Animation |',\n",
              " \"              Children's | Comedy | Crime | Documentary | Drama | Fantasy |\",\n",
              " '              Film-Noir | Horror | Musical | Mystery | Romance | Sci-Fi |',\n",
              " '              Thriller | War | Western |',\n",
              " '              The last 19 fields are the genres, a 1 indicates the movie',\n",
              " '              is of that genre, a 0 indicates it is not; movies can be in',\n",
              " '              several genres at once.',\n",
              " '              The movie ids are the ones used in the u.data data set.',\n",
              " '',\n",
              " 'u.genre    -- A list of the genres.',\n",
              " '',\n",
              " 'u.user     -- Demographic information about the users; this is a tab',\n",
              " '              separated list of',\n",
              " '              user id | age | gender | occupation | zip code',\n",
              " '              The user ids are the ones used in the u.data data set.',\n",
              " '',\n",
              " 'u.occupation -- A list of the occupations.',\n",
              " '',\n",
              " 'u1.base    -- The data sets u1.base and u1.test through u5.base and u5.test',\n",
              " 'u1.test       are 80%/20% splits of the u data into training and test data.',\n",
              " 'u2.base       Each of u1, ..., u5 have disjoint test sets; this if for',\n",
              " 'u2.test       5 fold cross validation (where you repeat your experiment',\n",
              " 'u3.base       with each training and test set and average the results).',\n",
              " 'u3.test       These data sets can be generated from u.data by mku.sh.',\n",
              " 'u4.base',\n",
              " 'u4.test',\n",
              " 'u5.base',\n",
              " 'u5.test',\n",
              " '',\n",
              " 'ua.base    -- The data sets ua.base, ua.test, ub.base, and ub.test',\n",
              " 'ua.test       split the u data into a training set and a test set with',\n",
              " 'ub.base       exactly 10 ratings per user in the test set.  The sets',\n",
              " 'ub.test       ua.test and ub.test are disjoint.  These data sets can',\n",
              " '              be generated from u.data by mku.sh.',\n",
              " '',\n",
              " 'allbut.pl  -- The script that generates training and test sets where',\n",
              " '              all but n of a users ratings are in the training data.',\n",
              " '',\n",
              " 'mku.sh     -- A shell script to generate all the u data sets from u.data.',\n",
              " '']"
            ]
          },
          "metadata": {},
          "execution_count": 16
        }
      ]
    },
    {
      "cell_type": "code",
      "source": [
        "ratings = pd.read_csv(path/'u.data', delimiter='\\t', header=None,\n",
        "                      names=['user','movie','rating','timestamp'])\n",
        "ratings.head()"
      ],
      "metadata": {
        "id": "dfoSOzxTkk4n",
        "colab": {
          "base_uri": "https://localhost:8080/",
          "height": 206
        },
        "outputId": "8f137d92-bccc-4bd4-9313-9c61118f7584"
      },
      "execution_count": null,
      "outputs": [
        {
          "output_type": "execute_result",
          "data": {
            "text/plain": [
              "   user  movie  rating  timestamp\n",
              "0   196    242       3  881250949\n",
              "1   186    302       3  891717742\n",
              "2    22    377       1  878887116\n",
              "3   244     51       2  880606923\n",
              "4   166    346       1  886397596"
            ],
            "text/html": [
              "\n",
              "  <div id=\"df-b015f0ce-63bc-449f-a245-8c50588f1b84\">\n",
              "    <div class=\"colab-df-container\">\n",
              "      <div>\n",
              "<style scoped>\n",
              "    .dataframe tbody tr th:only-of-type {\n",
              "        vertical-align: middle;\n",
              "    }\n",
              "\n",
              "    .dataframe tbody tr th {\n",
              "        vertical-align: top;\n",
              "    }\n",
              "\n",
              "    .dataframe thead th {\n",
              "        text-align: right;\n",
              "    }\n",
              "</style>\n",
              "<table border=\"1\" class=\"dataframe\">\n",
              "  <thead>\n",
              "    <tr style=\"text-align: right;\">\n",
              "      <th></th>\n",
              "      <th>user</th>\n",
              "      <th>movie</th>\n",
              "      <th>rating</th>\n",
              "      <th>timestamp</th>\n",
              "    </tr>\n",
              "  </thead>\n",
              "  <tbody>\n",
              "    <tr>\n",
              "      <th>0</th>\n",
              "      <td>196</td>\n",
              "      <td>242</td>\n",
              "      <td>3</td>\n",
              "      <td>881250949</td>\n",
              "    </tr>\n",
              "    <tr>\n",
              "      <th>1</th>\n",
              "      <td>186</td>\n",
              "      <td>302</td>\n",
              "      <td>3</td>\n",
              "      <td>891717742</td>\n",
              "    </tr>\n",
              "    <tr>\n",
              "      <th>2</th>\n",
              "      <td>22</td>\n",
              "      <td>377</td>\n",
              "      <td>1</td>\n",
              "      <td>878887116</td>\n",
              "    </tr>\n",
              "    <tr>\n",
              "      <th>3</th>\n",
              "      <td>244</td>\n",
              "      <td>51</td>\n",
              "      <td>2</td>\n",
              "      <td>880606923</td>\n",
              "    </tr>\n",
              "    <tr>\n",
              "      <th>4</th>\n",
              "      <td>166</td>\n",
              "      <td>346</td>\n",
              "      <td>1</td>\n",
              "      <td>886397596</td>\n",
              "    </tr>\n",
              "  </tbody>\n",
              "</table>\n",
              "</div>\n",
              "      <button class=\"colab-df-convert\" onclick=\"convertToInteractive('df-b015f0ce-63bc-449f-a245-8c50588f1b84')\"\n",
              "              title=\"Convert this dataframe to an interactive table.\"\n",
              "              style=\"display:none;\">\n",
              "        \n",
              "  <svg xmlns=\"http://www.w3.org/2000/svg\" height=\"24px\"viewBox=\"0 0 24 24\"\n",
              "       width=\"24px\">\n",
              "    <path d=\"M0 0h24v24H0V0z\" fill=\"none\"/>\n",
              "    <path d=\"M18.56 5.44l.94 2.06.94-2.06 2.06-.94-2.06-.94-.94-2.06-.94 2.06-2.06.94zm-11 1L8.5 8.5l.94-2.06 2.06-.94-2.06-.94L8.5 2.5l-.94 2.06-2.06.94zm10 10l.94 2.06.94-2.06 2.06-.94-2.06-.94-.94-2.06-.94 2.06-2.06.94z\"/><path d=\"M17.41 7.96l-1.37-1.37c-.4-.4-.92-.59-1.43-.59-.52 0-1.04.2-1.43.59L10.3 9.45l-7.72 7.72c-.78.78-.78 2.05 0 2.83L4 21.41c.39.39.9.59 1.41.59.51 0 1.02-.2 1.41-.59l7.78-7.78 2.81-2.81c.8-.78.8-2.07 0-2.86zM5.41 20L4 18.59l7.72-7.72 1.47 1.35L5.41 20z\"/>\n",
              "  </svg>\n",
              "      </button>\n",
              "      \n",
              "  <style>\n",
              "    .colab-df-container {\n",
              "      display:flex;\n",
              "      flex-wrap:wrap;\n",
              "      gap: 12px;\n",
              "    }\n",
              "\n",
              "    .colab-df-convert {\n",
              "      background-color: #E8F0FE;\n",
              "      border: none;\n",
              "      border-radius: 50%;\n",
              "      cursor: pointer;\n",
              "      display: none;\n",
              "      fill: #1967D2;\n",
              "      height: 32px;\n",
              "      padding: 0 0 0 0;\n",
              "      width: 32px;\n",
              "    }\n",
              "\n",
              "    .colab-df-convert:hover {\n",
              "      background-color: #E2EBFA;\n",
              "      box-shadow: 0px 1px 2px rgba(60, 64, 67, 0.3), 0px 1px 3px 1px rgba(60, 64, 67, 0.15);\n",
              "      fill: #174EA6;\n",
              "    }\n",
              "\n",
              "    [theme=dark] .colab-df-convert {\n",
              "      background-color: #3B4455;\n",
              "      fill: #D2E3FC;\n",
              "    }\n",
              "\n",
              "    [theme=dark] .colab-df-convert:hover {\n",
              "      background-color: #434B5C;\n",
              "      box-shadow: 0px 1px 3px 1px rgba(0, 0, 0, 0.15);\n",
              "      filter: drop-shadow(0px 1px 2px rgba(0, 0, 0, 0.3));\n",
              "      fill: #FFFFFF;\n",
              "    }\n",
              "  </style>\n",
              "\n",
              "      <script>\n",
              "        const buttonEl =\n",
              "          document.querySelector('#df-b015f0ce-63bc-449f-a245-8c50588f1b84 button.colab-df-convert');\n",
              "        buttonEl.style.display =\n",
              "          google.colab.kernel.accessAllowed ? 'block' : 'none';\n",
              "\n",
              "        async function convertToInteractive(key) {\n",
              "          const element = document.querySelector('#df-b015f0ce-63bc-449f-a245-8c50588f1b84');\n",
              "          const dataTable =\n",
              "            await google.colab.kernel.invokeFunction('convertToInteractive',\n",
              "                                                     [key], {});\n",
              "          if (!dataTable) return;\n",
              "\n",
              "          const docLinkHtml = 'Like what you see? Visit the ' +\n",
              "            '<a target=\"_blank\" href=https://colab.research.google.com/notebooks/data_table.ipynb>data table notebook</a>'\n",
              "            + ' to learn more about interactive tables.';\n",
              "          element.innerHTML = '';\n",
              "          dataTable['output_type'] = 'display_data';\n",
              "          await google.colab.output.renderOutput(dataTable, element);\n",
              "          const docLink = document.createElement('div');\n",
              "          docLink.innerHTML = docLinkHtml;\n",
              "          element.appendChild(docLink);\n",
              "        }\n",
              "      </script>\n",
              "    </div>\n",
              "  </div>\n",
              "  "
            ]
          },
          "metadata": {},
          "execution_count": 5
        }
      ]
    },
    {
      "cell_type": "markdown",
      "source": [
        "If we knew for each user to what degree they liked each important category that a movie might fall into, such as genre, age, preferred directors and actors, and so forth, and we knew the same information about each movie, then a simple way to fill in this table would be to multiply this information together for each movie and use a combination. For instance, assuming these factors range between -1 and +1, with positive numbers indicating stronger matches and negative numbers weaker ones, and the categories are science-fiction, action, and old movies, then we could represent the movie The Last Skywalker as:"
      ],
      "metadata": {
        "id": "O14ST2sct-Zm"
      }
    },
    {
      "cell_type": "code",
      "source": [
        "last_skywalker = np.array([0.98, 0.9, -0.9])"
      ],
      "metadata": {
        "id": "uQB3uBVCscjk"
      },
      "execution_count": null,
      "outputs": []
    },
    {
      "cell_type": "markdown",
      "source": [
        "Here, for instance, we are scoring very science-fiction as 0.98, very action as 0.9, and very not old as -0.9. We could represent a user who likes modern sci-fi action movies as:"
      ],
      "metadata": {
        "id": "Pv-I3rdZuW6_"
      }
    },
    {
      "cell_type": "code",
      "source": [
        "user1 = np.array([0.9, 0.8, -0.6])"
      ],
      "metadata": {
        "id": "TcEtZExsuXdQ"
      },
      "execution_count": null,
      "outputs": []
    },
    {
      "cell_type": "markdown",
      "source": [
        "and we can now calculate the match between this combination:"
      ],
      "metadata": {
        "id": "VsJanduSuiKR"
      }
    },
    {
      "cell_type": "code",
      "source": [
        "(user1*last_skywalker).sum()"
      ],
      "metadata": {
        "colab": {
          "base_uri": "https://localhost:8080/"
        },
        "id": "2sB1ALAluiiv",
        "outputId": "8c055aaa-bc38-4a56-8eef-ebdbaef14aca"
      },
      "execution_count": null,
      "outputs": [
        {
          "output_type": "execute_result",
          "data": {
            "text/plain": [
              "2.1420000000000003"
            ]
          },
          "metadata": {},
          "execution_count": 10
        }
      ]
    },
    {
      "cell_type": "markdown",
      "source": [
        "**dot product**: The mathematical operation of multiplying the elements of two vectors together, and then summing up the result."
      ],
      "metadata": {
        "id": "qn8yPbjSvU23"
      }
    },
    {
      "cell_type": "markdown",
      "source": [
        "On the other hand, we might represent the movie Casablanca as:"
      ],
      "metadata": {
        "id": "VW9VXmHGvBAg"
      }
    },
    {
      "cell_type": "code",
      "source": [
        "casablanca = np.array([-0.99, -0.3, 0.8])"
      ],
      "metadata": {
        "id": "4JHAUfpsuoQu"
      },
      "execution_count": null,
      "outputs": []
    },
    {
      "cell_type": "code",
      "source": [
        "(user1*casablanca).sum()"
      ],
      "metadata": {
        "colab": {
          "base_uri": "https://localhost:8080/"
        },
        "id": "FK_T7LQVvIIA",
        "outputId": "4bfd6aed-fa3d-422c-c47f-dc65d9c90633"
      },
      "execution_count": null,
      "outputs": [
        {
          "output_type": "execute_result",
          "data": {
            "text/plain": [
              "-1.611"
            ]
          },
          "metadata": {},
          "execution_count": 12
        }
      ]
    },
    {
      "cell_type": "markdown",
      "source": [
        "## Learning the Latent Factors\n",
        "1. Randomly initialize some **parameters**. These parameters will be a set of latent factors for each user and movie.\n",
        "2. Calculate our **predictions**. We can do this by simply taking the dot product of each movie with each user.\n",
        "3. Calculate our **loss**. We can use any loss function that we wish; let's pick mean squared error for now, since that is one reasonable way to represent the accuracy of a prediction.\n",
        "4. With this in place, we can optimize our parameters (that is, the latent factors) using **stochastic gradient descent**, such as to minimize the loss. At each step, the stochastic gradient descent optimizer will calculate the match between each movie and each user using the dot product, and will compare it to the actual rating that each user gave to each movie. It will then calculate the derivative of this value and will step the weights by multiplying this by the learning rate. After doing this lots of times, the loss will get better and better, and the recommendations will also get better and better."
      ],
      "metadata": {
        "id": "UpVnknScyOun"
      }
    },
    {
      "cell_type": "markdown",
      "source": [
        "## Creating the DataLoaders"
      ],
      "metadata": {
        "id": "oSw1nWaS1w9D"
      }
    },
    {
      "cell_type": "code",
      "source": [
        "movies = pd.read_csv(path/'u.item', delimiter='|', header=None, encoding='latin-1', \n",
        "                     usecols=(0,1), names=('movie', 'title'))\n",
        "movies.head()"
      ],
      "metadata": {
        "id": "dWrHx__YvL6g",
        "colab": {
          "base_uri": "https://localhost:8080/",
          "height": 206
        },
        "outputId": "5e3ffd78-1f5e-4ee6-926b-57f13e58d0ff"
      },
      "execution_count": null,
      "outputs": [
        {
          "output_type": "execute_result",
          "data": {
            "text/plain": [
              "   movie              title\n",
              "0      1   Toy Story (1995)\n",
              "1      2   GoldenEye (1995)\n",
              "2      3  Four Rooms (1995)\n",
              "3      4  Get Shorty (1995)\n",
              "4      5     Copycat (1995)"
            ],
            "text/html": [
              "\n",
              "  <div id=\"df-b5b82105-b013-4fc8-85cc-78848a29833c\">\n",
              "    <div class=\"colab-df-container\">\n",
              "      <div>\n",
              "<style scoped>\n",
              "    .dataframe tbody tr th:only-of-type {\n",
              "        vertical-align: middle;\n",
              "    }\n",
              "\n",
              "    .dataframe tbody tr th {\n",
              "        vertical-align: top;\n",
              "    }\n",
              "\n",
              "    .dataframe thead th {\n",
              "        text-align: right;\n",
              "    }\n",
              "</style>\n",
              "<table border=\"1\" class=\"dataframe\">\n",
              "  <thead>\n",
              "    <tr style=\"text-align: right;\">\n",
              "      <th></th>\n",
              "      <th>movie</th>\n",
              "      <th>title</th>\n",
              "    </tr>\n",
              "  </thead>\n",
              "  <tbody>\n",
              "    <tr>\n",
              "      <th>0</th>\n",
              "      <td>1</td>\n",
              "      <td>Toy Story (1995)</td>\n",
              "    </tr>\n",
              "    <tr>\n",
              "      <th>1</th>\n",
              "      <td>2</td>\n",
              "      <td>GoldenEye (1995)</td>\n",
              "    </tr>\n",
              "    <tr>\n",
              "      <th>2</th>\n",
              "      <td>3</td>\n",
              "      <td>Four Rooms (1995)</td>\n",
              "    </tr>\n",
              "    <tr>\n",
              "      <th>3</th>\n",
              "      <td>4</td>\n",
              "      <td>Get Shorty (1995)</td>\n",
              "    </tr>\n",
              "    <tr>\n",
              "      <th>4</th>\n",
              "      <td>5</td>\n",
              "      <td>Copycat (1995)</td>\n",
              "    </tr>\n",
              "  </tbody>\n",
              "</table>\n",
              "</div>\n",
              "      <button class=\"colab-df-convert\" onclick=\"convertToInteractive('df-b5b82105-b013-4fc8-85cc-78848a29833c')\"\n",
              "              title=\"Convert this dataframe to an interactive table.\"\n",
              "              style=\"display:none;\">\n",
              "        \n",
              "  <svg xmlns=\"http://www.w3.org/2000/svg\" height=\"24px\"viewBox=\"0 0 24 24\"\n",
              "       width=\"24px\">\n",
              "    <path d=\"M0 0h24v24H0V0z\" fill=\"none\"/>\n",
              "    <path d=\"M18.56 5.44l.94 2.06.94-2.06 2.06-.94-2.06-.94-.94-2.06-.94 2.06-2.06.94zm-11 1L8.5 8.5l.94-2.06 2.06-.94-2.06-.94L8.5 2.5l-.94 2.06-2.06.94zm10 10l.94 2.06.94-2.06 2.06-.94-2.06-.94-.94-2.06-.94 2.06-2.06.94z\"/><path d=\"M17.41 7.96l-1.37-1.37c-.4-.4-.92-.59-1.43-.59-.52 0-1.04.2-1.43.59L10.3 9.45l-7.72 7.72c-.78.78-.78 2.05 0 2.83L4 21.41c.39.39.9.59 1.41.59.51 0 1.02-.2 1.41-.59l7.78-7.78 2.81-2.81c.8-.78.8-2.07 0-2.86zM5.41 20L4 18.59l7.72-7.72 1.47 1.35L5.41 20z\"/>\n",
              "  </svg>\n",
              "      </button>\n",
              "      \n",
              "  <style>\n",
              "    .colab-df-container {\n",
              "      display:flex;\n",
              "      flex-wrap:wrap;\n",
              "      gap: 12px;\n",
              "    }\n",
              "\n",
              "    .colab-df-convert {\n",
              "      background-color: #E8F0FE;\n",
              "      border: none;\n",
              "      border-radius: 50%;\n",
              "      cursor: pointer;\n",
              "      display: none;\n",
              "      fill: #1967D2;\n",
              "      height: 32px;\n",
              "      padding: 0 0 0 0;\n",
              "      width: 32px;\n",
              "    }\n",
              "\n",
              "    .colab-df-convert:hover {\n",
              "      background-color: #E2EBFA;\n",
              "      box-shadow: 0px 1px 2px rgba(60, 64, 67, 0.3), 0px 1px 3px 1px rgba(60, 64, 67, 0.15);\n",
              "      fill: #174EA6;\n",
              "    }\n",
              "\n",
              "    [theme=dark] .colab-df-convert {\n",
              "      background-color: #3B4455;\n",
              "      fill: #D2E3FC;\n",
              "    }\n",
              "\n",
              "    [theme=dark] .colab-df-convert:hover {\n",
              "      background-color: #434B5C;\n",
              "      box-shadow: 0px 1px 3px 1px rgba(0, 0, 0, 0.15);\n",
              "      filter: drop-shadow(0px 1px 2px rgba(0, 0, 0, 0.3));\n",
              "      fill: #FFFFFF;\n",
              "    }\n",
              "  </style>\n",
              "\n",
              "      <script>\n",
              "        const buttonEl =\n",
              "          document.querySelector('#df-b5b82105-b013-4fc8-85cc-78848a29833c button.colab-df-convert');\n",
              "        buttonEl.style.display =\n",
              "          google.colab.kernel.accessAllowed ? 'block' : 'none';\n",
              "\n",
              "        async function convertToInteractive(key) {\n",
              "          const element = document.querySelector('#df-b5b82105-b013-4fc8-85cc-78848a29833c');\n",
              "          const dataTable =\n",
              "            await google.colab.kernel.invokeFunction('convertToInteractive',\n",
              "                                                     [key], {});\n",
              "          if (!dataTable) return;\n",
              "\n",
              "          const docLinkHtml = 'Like what you see? Visit the ' +\n",
              "            '<a target=\"_blank\" href=https://colab.research.google.com/notebooks/data_table.ipynb>data table notebook</a>'\n",
              "            + ' to learn more about interactive tables.';\n",
              "          element.innerHTML = '';\n",
              "          dataTable['output_type'] = 'display_data';\n",
              "          await google.colab.output.renderOutput(dataTable, element);\n",
              "          const docLink = document.createElement('div');\n",
              "          docLink.innerHTML = docLinkHtml;\n",
              "          element.appendChild(docLink);\n",
              "        }\n",
              "      </script>\n",
              "    </div>\n",
              "  </div>\n",
              "  "
            ]
          },
          "metadata": {},
          "execution_count": 6
        }
      ]
    },
    {
      "cell_type": "code",
      "source": [
        "ratings = ratings.merge(movies)\n",
        "ratings.head()"
      ],
      "metadata": {
        "colab": {
          "base_uri": "https://localhost:8080/",
          "height": 206
        },
        "id": "fO1G7XEt2uoW",
        "outputId": "6063f436-f4ae-4e24-dadf-ef99085547c9"
      },
      "execution_count": null,
      "outputs": [
        {
          "output_type": "execute_result",
          "data": {
            "text/plain": [
              "   user  movie  rating  timestamp         title\n",
              "0   196    242       3  881250949  Kolya (1996)\n",
              "1    63    242       3  875747190  Kolya (1996)\n",
              "2   226    242       5  883888671  Kolya (1996)\n",
              "3   154    242       3  879138235  Kolya (1996)\n",
              "4   306    242       5  876503793  Kolya (1996)"
            ],
            "text/html": [
              "\n",
              "  <div id=\"df-3267d3ff-2b1d-4b97-926c-fa6e80c5e2fd\">\n",
              "    <div class=\"colab-df-container\">\n",
              "      <div>\n",
              "<style scoped>\n",
              "    .dataframe tbody tr th:only-of-type {\n",
              "        vertical-align: middle;\n",
              "    }\n",
              "\n",
              "    .dataframe tbody tr th {\n",
              "        vertical-align: top;\n",
              "    }\n",
              "\n",
              "    .dataframe thead th {\n",
              "        text-align: right;\n",
              "    }\n",
              "</style>\n",
              "<table border=\"1\" class=\"dataframe\">\n",
              "  <thead>\n",
              "    <tr style=\"text-align: right;\">\n",
              "      <th></th>\n",
              "      <th>user</th>\n",
              "      <th>movie</th>\n",
              "      <th>rating</th>\n",
              "      <th>timestamp</th>\n",
              "      <th>title</th>\n",
              "    </tr>\n",
              "  </thead>\n",
              "  <tbody>\n",
              "    <tr>\n",
              "      <th>0</th>\n",
              "      <td>196</td>\n",
              "      <td>242</td>\n",
              "      <td>3</td>\n",
              "      <td>881250949</td>\n",
              "      <td>Kolya (1996)</td>\n",
              "    </tr>\n",
              "    <tr>\n",
              "      <th>1</th>\n",
              "      <td>63</td>\n",
              "      <td>242</td>\n",
              "      <td>3</td>\n",
              "      <td>875747190</td>\n",
              "      <td>Kolya (1996)</td>\n",
              "    </tr>\n",
              "    <tr>\n",
              "      <th>2</th>\n",
              "      <td>226</td>\n",
              "      <td>242</td>\n",
              "      <td>5</td>\n",
              "      <td>883888671</td>\n",
              "      <td>Kolya (1996)</td>\n",
              "    </tr>\n",
              "    <tr>\n",
              "      <th>3</th>\n",
              "      <td>154</td>\n",
              "      <td>242</td>\n",
              "      <td>3</td>\n",
              "      <td>879138235</td>\n",
              "      <td>Kolya (1996)</td>\n",
              "    </tr>\n",
              "    <tr>\n",
              "      <th>4</th>\n",
              "      <td>306</td>\n",
              "      <td>242</td>\n",
              "      <td>5</td>\n",
              "      <td>876503793</td>\n",
              "      <td>Kolya (1996)</td>\n",
              "    </tr>\n",
              "  </tbody>\n",
              "</table>\n",
              "</div>\n",
              "      <button class=\"colab-df-convert\" onclick=\"convertToInteractive('df-3267d3ff-2b1d-4b97-926c-fa6e80c5e2fd')\"\n",
              "              title=\"Convert this dataframe to an interactive table.\"\n",
              "              style=\"display:none;\">\n",
              "        \n",
              "  <svg xmlns=\"http://www.w3.org/2000/svg\" height=\"24px\"viewBox=\"0 0 24 24\"\n",
              "       width=\"24px\">\n",
              "    <path d=\"M0 0h24v24H0V0z\" fill=\"none\"/>\n",
              "    <path d=\"M18.56 5.44l.94 2.06.94-2.06 2.06-.94-2.06-.94-.94-2.06-.94 2.06-2.06.94zm-11 1L8.5 8.5l.94-2.06 2.06-.94-2.06-.94L8.5 2.5l-.94 2.06-2.06.94zm10 10l.94 2.06.94-2.06 2.06-.94-2.06-.94-.94-2.06-.94 2.06-2.06.94z\"/><path d=\"M17.41 7.96l-1.37-1.37c-.4-.4-.92-.59-1.43-.59-.52 0-1.04.2-1.43.59L10.3 9.45l-7.72 7.72c-.78.78-.78 2.05 0 2.83L4 21.41c.39.39.9.59 1.41.59.51 0 1.02-.2 1.41-.59l7.78-7.78 2.81-2.81c.8-.78.8-2.07 0-2.86zM5.41 20L4 18.59l7.72-7.72 1.47 1.35L5.41 20z\"/>\n",
              "  </svg>\n",
              "      </button>\n",
              "      \n",
              "  <style>\n",
              "    .colab-df-container {\n",
              "      display:flex;\n",
              "      flex-wrap:wrap;\n",
              "      gap: 12px;\n",
              "    }\n",
              "\n",
              "    .colab-df-convert {\n",
              "      background-color: #E8F0FE;\n",
              "      border: none;\n",
              "      border-radius: 50%;\n",
              "      cursor: pointer;\n",
              "      display: none;\n",
              "      fill: #1967D2;\n",
              "      height: 32px;\n",
              "      padding: 0 0 0 0;\n",
              "      width: 32px;\n",
              "    }\n",
              "\n",
              "    .colab-df-convert:hover {\n",
              "      background-color: #E2EBFA;\n",
              "      box-shadow: 0px 1px 2px rgba(60, 64, 67, 0.3), 0px 1px 3px 1px rgba(60, 64, 67, 0.15);\n",
              "      fill: #174EA6;\n",
              "    }\n",
              "\n",
              "    [theme=dark] .colab-df-convert {\n",
              "      background-color: #3B4455;\n",
              "      fill: #D2E3FC;\n",
              "    }\n",
              "\n",
              "    [theme=dark] .colab-df-convert:hover {\n",
              "      background-color: #434B5C;\n",
              "      box-shadow: 0px 1px 3px 1px rgba(0, 0, 0, 0.15);\n",
              "      filter: drop-shadow(0px 1px 2px rgba(0, 0, 0, 0.3));\n",
              "      fill: #FFFFFF;\n",
              "    }\n",
              "  </style>\n",
              "\n",
              "      <script>\n",
              "        const buttonEl =\n",
              "          document.querySelector('#df-3267d3ff-2b1d-4b97-926c-fa6e80c5e2fd button.colab-df-convert');\n",
              "        buttonEl.style.display =\n",
              "          google.colab.kernel.accessAllowed ? 'block' : 'none';\n",
              "\n",
              "        async function convertToInteractive(key) {\n",
              "          const element = document.querySelector('#df-3267d3ff-2b1d-4b97-926c-fa6e80c5e2fd');\n",
              "          const dataTable =\n",
              "            await google.colab.kernel.invokeFunction('convertToInteractive',\n",
              "                                                     [key], {});\n",
              "          if (!dataTable) return;\n",
              "\n",
              "          const docLinkHtml = 'Like what you see? Visit the ' +\n",
              "            '<a target=\"_blank\" href=https://colab.research.google.com/notebooks/data_table.ipynb>data table notebook</a>'\n",
              "            + ' to learn more about interactive tables.';\n",
              "          element.innerHTML = '';\n",
              "          dataTable['output_type'] = 'display_data';\n",
              "          await google.colab.output.renderOutput(dataTable, element);\n",
              "          const docLink = document.createElement('div');\n",
              "          docLink.innerHTML = docLinkHtml;\n",
              "          element.appendChild(docLink);\n",
              "        }\n",
              "      </script>\n",
              "    </div>\n",
              "  </div>\n",
              "  "
            ]
          },
          "metadata": {},
          "execution_count": 7
        }
      ]
    },
    {
      "cell_type": "markdown",
      "source": [
        "We can then build a `DataLoaders` object from this table. By default, it takes the first column for the user, the second column for the item (here our movies), and the third column for the ratings. We need to change the value of `item_name` in our case to use the titles instead of the IDs:"
      ],
      "metadata": {
        "id": "yMGXZU8hORzR"
      }
    },
    {
      "cell_type": "code",
      "source": [
        "dls = CollabDataLoaders.from_df(ratings, item_name='title', bs=64)\n",
        "dls.show_batch()"
      ],
      "metadata": {
        "colab": {
          "base_uri": "https://localhost:8080/",
          "height": 363
        },
        "id": "b-kJ58zrNQbY",
        "outputId": "fc21d1f1-b9fc-4c75-b2be-104185c0c14b"
      },
      "execution_count": null,
      "outputs": [
        {
          "output_type": "display_data",
          "data": {
            "text/plain": [
              "<IPython.core.display.HTML object>"
            ],
            "text/html": [
              "<table border=\"1\" class=\"dataframe\">\n",
              "  <thead>\n",
              "    <tr style=\"text-align: right;\">\n",
              "      <th></th>\n",
              "      <th>user</th>\n",
              "      <th>title</th>\n",
              "      <th>rating</th>\n",
              "    </tr>\n",
              "  </thead>\n",
              "  <tbody>\n",
              "    <tr>\n",
              "      <th>0</th>\n",
              "      <td>542</td>\n",
              "      <td>My Left Foot (1989)</td>\n",
              "      <td>4</td>\n",
              "    </tr>\n",
              "    <tr>\n",
              "      <th>1</th>\n",
              "      <td>422</td>\n",
              "      <td>Event Horizon (1997)</td>\n",
              "      <td>3</td>\n",
              "    </tr>\n",
              "    <tr>\n",
              "      <th>2</th>\n",
              "      <td>311</td>\n",
              "      <td>African Queen, The (1951)</td>\n",
              "      <td>4</td>\n",
              "    </tr>\n",
              "    <tr>\n",
              "      <th>3</th>\n",
              "      <td>595</td>\n",
              "      <td>Face/Off (1997)</td>\n",
              "      <td>4</td>\n",
              "    </tr>\n",
              "    <tr>\n",
              "      <th>4</th>\n",
              "      <td>617</td>\n",
              "      <td>Evil Dead II (1987)</td>\n",
              "      <td>1</td>\n",
              "    </tr>\n",
              "    <tr>\n",
              "      <th>5</th>\n",
              "      <td>158</td>\n",
              "      <td>Jurassic Park (1993)</td>\n",
              "      <td>5</td>\n",
              "    </tr>\n",
              "    <tr>\n",
              "      <th>6</th>\n",
              "      <td>836</td>\n",
              "      <td>Chasing Amy (1997)</td>\n",
              "      <td>3</td>\n",
              "    </tr>\n",
              "    <tr>\n",
              "      <th>7</th>\n",
              "      <td>474</td>\n",
              "      <td>Emma (1996)</td>\n",
              "      <td>3</td>\n",
              "    </tr>\n",
              "    <tr>\n",
              "      <th>8</th>\n",
              "      <td>466</td>\n",
              "      <td>Jackie Chan's First Strike (1996)</td>\n",
              "      <td>3</td>\n",
              "    </tr>\n",
              "    <tr>\n",
              "      <th>9</th>\n",
              "      <td>554</td>\n",
              "      <td>Scream (1996)</td>\n",
              "      <td>3</td>\n",
              "    </tr>\n",
              "  </tbody>\n",
              "</table>"
            ]
          },
          "metadata": {}
        }
      ]
    },
    {
      "cell_type": "code",
      "source": [
        "dls.classes"
      ],
      "metadata": {
        "colab": {
          "base_uri": "https://localhost:8080/"
        },
        "id": "RRPmjh2TOEWJ",
        "outputId": "015ce118-7e4c-4374-bd18-a3c7405e9f84"
      },
      "execution_count": null,
      "outputs": [
        {
          "output_type": "execute_result",
          "data": {
            "text/plain": [
              "{'movieId': ['#na#', 1, 10, 32, 34, 39, 47, 50, 110, 150, 153, 165, 231, 253, 260, 293, 296, 316, 318, 344, 356, 357, 364, 367, 377, 380, 457, 480, 500, 527, 539, 541, 586, 587, 588, 589, 590, 592, 593, 595, 597, 608, 648, 733, 736, 778, 780, 858, 924, 1036, 1073, 1089, 1097, 1136, 1193, 1196, 1197, 1198, 1200, 1206, 1210, 1213, 1214, 1221, 1240, 1265, 1270, 1291, 1580, 1617, 1682, 1704, 1721, 1732, 1923, 2028, 2396, 2571, 2628, 2716, 2762, 2858, 2918, 2959, 2997, 3114, 3578, 3793, 4226, 4306, 4886, 4963, 4973, 4993, 5349, 5952, 6377, 6539, 7153, 8961, 58559],\n",
              " 'userId': ['#na#', 15, 17, 19, 23, 30, 48, 56, 73, 77, 78, 88, 95, 102, 105, 111, 119, 128, 130, 134, 150, 157, 165, 176, 187, 195, 199, 212, 213, 220, 232, 239, 242, 243, 247, 262, 268, 285, 292, 294, 299, 306, 311, 312, 313, 346, 353, 355, 358, 380, 382, 384, 387, 388, 402, 405, 407, 423, 427, 430, 431, 439, 452, 457, 460, 461, 463, 468, 472, 475, 480, 481, 505, 509, 514, 518, 529, 534, 537, 544, 547, 561, 564, 574, 575, 577, 580, 585, 587, 596, 598, 605, 607, 608, 615, 624, 648, 652, 654, 664, 665]}"
            ]
          },
          "metadata": {},
          "execution_count": 8
        }
      ]
    },
    {
      "cell_type": "code",
      "source": [
        "n_users = len(dls.classes['user'])\n",
        "n_movies = len(dls.classes['title'])\n",
        "n_factors = 5\n",
        "\n",
        "user_factors = torch.randn(n_users, n_factors)\n",
        "movie_factors = torch.randn(n_movies, n_factors)"
      ],
      "metadata": {
        "id": "-aky36dCPWWt"
      },
      "execution_count": null,
      "outputs": []
    },
    {
      "cell_type": "markdown",
      "source": [
        "Here is an example of what happens if we multiply a vector by a one-hot-encoded vector representing the index 3:"
      ],
      "metadata": {
        "id": "Qz_9feCGDe1i"
      }
    },
    {
      "cell_type": "code",
      "source": [
        "one_hot_3 = one_hot(3, n_users).float()"
      ],
      "metadata": {
        "id": "YFvNa2IHXooL"
      },
      "execution_count": null,
      "outputs": []
    },
    {
      "cell_type": "code",
      "source": [
        "user_factors.t() @ one_hot_3"
      ],
      "metadata": {
        "colab": {
          "base_uri": "https://localhost:8080/"
        },
        "id": "8Mu0Tf8Ua_Ct",
        "outputId": "59236710-6b0c-4cb7-898c-67ce07a94fb5"
      },
      "execution_count": null,
      "outputs": [
        {
          "output_type": "execute_result",
          "data": {
            "text/plain": [
              "tensor([-0.4586, -0.9915, -0.4052, -0.3621, -0.5908])"
            ]
          },
          "metadata": {},
          "execution_count": 12
        }
      ]
    },
    {
      "cell_type": "code",
      "source": [
        "one_hot_3 @ user_factors"
      ],
      "metadata": {
        "colab": {
          "base_uri": "https://localhost:8080/"
        },
        "id": "eZ9uOagGDuCo",
        "outputId": "2169e332-179a-49a4-dc64-1eba0c45ea74"
      },
      "execution_count": null,
      "outputs": [
        {
          "output_type": "execute_result",
          "data": {
            "text/plain": [
              "tensor([-0.4586, -0.9915, -0.4052, -0.3621, -0.5908])"
            ]
          },
          "metadata": {},
          "execution_count": 14
        }
      ]
    },
    {
      "cell_type": "code",
      "source": [
        "user_factors[3]"
      ],
      "metadata": {
        "colab": {
          "base_uri": "https://localhost:8080/"
        },
        "id": "2GQ8thBdbQv7",
        "outputId": "7c081368-c327-4bed-fd3a-ea795b5f2baf"
      },
      "execution_count": null,
      "outputs": [
        {
          "output_type": "execute_result",
          "data": {
            "text/plain": [
              "tensor([-0.4586, -0.9915, -0.4052, -0.3621, -0.5908])"
            ]
          },
          "metadata": {},
          "execution_count": 15
        }
      ]
    },
    {
      "cell_type": "markdown",
      "source": [
        "## Collaborative Filtering from Scratch\n",
        "1. note that creating a new PyTorch module requires inheriting from `Module`.PyTorch already provides a Module class, which provides some basic foundations that we want to build on. So, we add the name of this superclass after the name of the class that we are defining, as shown in the following example.\n",
        "2. The final thing that you need to know to create a new PyTorch module is that when your module is called, PyTorch will call a method in your class called `forward`, and will pass along to that any parameters that are included in the call.\n"
      ],
      "metadata": {
        "id": "yYkiZ6Qf1Lnb"
      }
    },
    {
      "cell_type": "code",
      "source": [
        "# Here is the class defining our dot product model:\n",
        "\n",
        "class DotProduct(Module):\n",
        "  def __init__(self, n_users, n_movies, n_factors):\n",
        "    self.user_factors = Embedding(n_users, n_factors)\n",
        "    self.movie_factors = Embedding(n_movies, n_factors)\n",
        "\n",
        "  def forward(self, x):\n",
        "    users = self.user_factors(x[:,0])\n",
        "    movies = self.movie_factors(x[:,1])\n",
        "    return (users * movies).sum(dim=1)"
      ],
      "metadata": {
        "id": "XMjPGRrzz4z1"
      },
      "execution_count": null,
      "outputs": []
    },
    {
      "cell_type": "markdown",
      "source": [
        "Note that the input of the model is a tensor of shape `batch_size x 2`, where the first column (`x[:, 0]`) contains the user IDs and the second column (`x[:, 1]`) contains the movie IDs. As explained before, we use the embedding layers to represent our matrices of user and movie latent factors:"
      ],
      "metadata": {
        "id": "3cqtFaD962Z8"
      }
    },
    {
      "cell_type": "code",
      "source": [
        "x, y = dls.one_batch()\n",
        "x.shape"
      ],
      "metadata": {
        "colab": {
          "base_uri": "https://localhost:8080/"
        },
        "id": "PH4FnhdK3eIm",
        "outputId": "005eadda-16f4-452e-a2c8-5f3fe3954259"
      },
      "execution_count": null,
      "outputs": [
        {
          "output_type": "execute_result",
          "data": {
            "text/plain": [
              "torch.Size([64, 2])"
            ]
          },
          "metadata": {},
          "execution_count": 18
        }
      ]
    },
    {
      "cell_type": "markdown",
      "source": [
        "Since we are doing things from scratch here, we will use the plain `Learner` class:"
      ],
      "metadata": {
        "id": "GT2H_5wu7QbA"
      }
    },
    {
      "cell_type": "code",
      "source": [
        "model = DotProduct(n_users, n_movies, 50)\n",
        "learn = Learner(dls, model, loss_func=MSELossFlat())"
      ],
      "metadata": {
        "id": "A1CC6G0H7AeT"
      },
      "execution_count": null,
      "outputs": []
    },
    {
      "cell_type": "code",
      "source": [
        "learn.fit_one_cycle(5, 5e-3)"
      ],
      "metadata": {
        "colab": {
          "base_uri": "https://localhost:8080/",
          "height": 206
        },
        "id": "Wy-Knt-s7fA4",
        "outputId": "68927fca-7d54-4844-ffe6-342db1f815c5"
      },
      "execution_count": null,
      "outputs": [
        {
          "output_type": "display_data",
          "data": {
            "text/plain": [
              "<IPython.core.display.HTML object>"
            ],
            "text/html": [
              "\n",
              "<style>\n",
              "    /* Turns off some styling */\n",
              "    progress {\n",
              "        /* gets rid of default border in Firefox and Opera. */\n",
              "        border: none;\n",
              "        /* Needs to be in here for Safari polyfill so background images work as expected. */\n",
              "        background-size: auto;\n",
              "    }\n",
              "    .progress-bar-interrupted, .progress-bar-interrupted::-webkit-progress-bar {\n",
              "        background: #F44336;\n",
              "    }\n",
              "</style>\n"
            ]
          },
          "metadata": {}
        },
        {
          "output_type": "display_data",
          "data": {
            "text/plain": [
              "<IPython.core.display.HTML object>"
            ],
            "text/html": [
              "<table border=\"1\" class=\"dataframe\">\n",
              "  <thead>\n",
              "    <tr style=\"text-align: left;\">\n",
              "      <th>epoch</th>\n",
              "      <th>train_loss</th>\n",
              "      <th>valid_loss</th>\n",
              "      <th>time</th>\n",
              "    </tr>\n",
              "  </thead>\n",
              "  <tbody>\n",
              "    <tr>\n",
              "      <td>0</td>\n",
              "      <td>1.344786</td>\n",
              "      <td>1.279100</td>\n",
              "      <td>00:09</td>\n",
              "    </tr>\n",
              "    <tr>\n",
              "      <td>1</td>\n",
              "      <td>1.093331</td>\n",
              "      <td>1.109981</td>\n",
              "      <td>00:09</td>\n",
              "    </tr>\n",
              "    <tr>\n",
              "      <td>2</td>\n",
              "      <td>0.958258</td>\n",
              "      <td>0.990199</td>\n",
              "      <td>00:09</td>\n",
              "    </tr>\n",
              "    <tr>\n",
              "      <td>3</td>\n",
              "      <td>0.814234</td>\n",
              "      <td>0.894916</td>\n",
              "      <td>00:09</td>\n",
              "    </tr>\n",
              "    <tr>\n",
              "      <td>4</td>\n",
              "      <td>0.780714</td>\n",
              "      <td>0.882022</td>\n",
              "      <td>00:09</td>\n",
              "    </tr>\n",
              "  </tbody>\n",
              "</table>"
            ]
          },
          "metadata": {}
        }
      ]
    },
    {
      "cell_type": "markdown",
      "source": [
        "The first thing we can do to make this model a little bit better is to force those predictions to be between 0 and 5. For this, we just need to use `sigmoid_range`.\n",
        "One thing we discovered empirically is that it's better to have the range go a little bit over 5, so we use` (0, 5.5)`"
      ],
      "metadata": {
        "id": "wHh8rGitNW88"
      }
    },
    {
      "cell_type": "code",
      "source": [
        "class DotProduct(Module):\n",
        "  def __init__(self, n_users, n_movies, n_factors, y_range=(0,5.5)):\n",
        "    self.user_factors = Embedding(n_users, n_factors)\n",
        "    self.movie_factors = Embedding(n_movies, n_factors)\n",
        "    self.y_range = y_range\n",
        "  \n",
        "  def forward(self, x):\n",
        "    users = self.user_factors(x[:,0])\n",
        "    movies = self.movie_factors(x[:,1])\n",
        "    return sigmoid_range((users * movies).sum(dim=1), *self.y_range)"
      ],
      "metadata": {
        "id": "8QGGTEqs7lmM"
      },
      "execution_count": null,
      "outputs": []
    },
    {
      "cell_type": "code",
      "source": [
        "model = DotProduct(n_users, n_movies, 50)\n",
        "learn = Learner(dls, model, loss_func=MSELossFlat())\n",
        "learn.fit_one_cycle(5, 5e-3)"
      ],
      "metadata": {
        "colab": {
          "base_uri": "https://localhost:8080/",
          "height": 206
        },
        "id": "NgHhVBlRRAlF",
        "outputId": "b7bcb231-c62f-4103-c266-b0bc385b118a"
      },
      "execution_count": null,
      "outputs": [
        {
          "output_type": "display_data",
          "data": {
            "text/plain": [
              "<IPython.core.display.HTML object>"
            ],
            "text/html": [
              "\n",
              "<style>\n",
              "    /* Turns off some styling */\n",
              "    progress {\n",
              "        /* gets rid of default border in Firefox and Opera. */\n",
              "        border: none;\n",
              "        /* Needs to be in here for Safari polyfill so background images work as expected. */\n",
              "        background-size: auto;\n",
              "    }\n",
              "    .progress-bar-interrupted, .progress-bar-interrupted::-webkit-progress-bar {\n",
              "        background: #F44336;\n",
              "    }\n",
              "</style>\n"
            ]
          },
          "metadata": {}
        },
        {
          "output_type": "display_data",
          "data": {
            "text/plain": [
              "<IPython.core.display.HTML object>"
            ],
            "text/html": [
              "<table border=\"1\" class=\"dataframe\">\n",
              "  <thead>\n",
              "    <tr style=\"text-align: left;\">\n",
              "      <th>epoch</th>\n",
              "      <th>train_loss</th>\n",
              "      <th>valid_loss</th>\n",
              "      <th>time</th>\n",
              "    </tr>\n",
              "  </thead>\n",
              "  <tbody>\n",
              "    <tr>\n",
              "      <td>0</td>\n",
              "      <td>0.989618</td>\n",
              "      <td>1.003120</td>\n",
              "      <td>00:09</td>\n",
              "    </tr>\n",
              "    <tr>\n",
              "      <td>1</td>\n",
              "      <td>0.892023</td>\n",
              "      <td>0.912601</td>\n",
              "      <td>00:10</td>\n",
              "    </tr>\n",
              "    <tr>\n",
              "      <td>2</td>\n",
              "      <td>0.673323</td>\n",
              "      <td>0.874424</td>\n",
              "      <td>00:09</td>\n",
              "    </tr>\n",
              "    <tr>\n",
              "      <td>3</td>\n",
              "      <td>0.493319</td>\n",
              "      <td>0.878006</td>\n",
              "      <td>00:09</td>\n",
              "    </tr>\n",
              "    <tr>\n",
              "      <td>4</td>\n",
              "      <td>0.363705</td>\n",
              "      <td>0.882218</td>\n",
              "      <td>00:09</td>\n",
              "    </tr>\n",
              "  </tbody>\n",
              "</table>"
            ]
          },
          "metadata": {}
        }
      ]
    },
    {
      "cell_type": "markdown",
      "source": [
        "This is a reasonable start, but we can do better. One obvious missing piece is that some users are just more positive or negative in their recommendations than others, and some movies are just plain better or worse than others. But in our dot product representation we do not have any way to encode either of these things. If all you can say about a movie is, for instance, that it is very sci-fi, very action-oriented, and very not old, then you don't really have any way to say whether most people like it.\n",
        "\n",
        "That's because at this point we only have weights; we do not have biases. If we have a single number for each user that we can add to our scores, and ditto for each movie, that will handle this missing piece very nicely."
      ],
      "metadata": {
        "id": "wGQrmbPrZnDc"
      }
    },
    {
      "cell_type": "code",
      "source": [
        "class DotProductBias(Module):\n",
        "    def __init__(self, n_users, n_movies, n_factors, y_range=(0,5.5)):\n",
        "        self.user_factors = Embedding(n_users, n_factors)\n",
        "        self.user_bias = Embedding(n_users, 1)\n",
        "        self.movie_factors = Embedding(n_movies, n_factors)\n",
        "        self.movie_bias = Embedding(n_movies, 1)\n",
        "        self.y_range = y_range\n",
        "        \n",
        "    def forward(self, x):\n",
        "        users = self.user_factors(x[:,0])\n",
        "        movies = self.movie_factors(x[:,1])\n",
        "        res = (users * movies).sum(dim=1, keepdim=True)\n",
        "        res += self.user_bias(x[:,0]) + self.movie_bias(x[:,1])\n",
        "        return sigmoid_range(res, *self.y_range)"
      ],
      "metadata": {
        "id": "MmZge8vuZag0"
      },
      "execution_count": null,
      "outputs": []
    },
    {
      "cell_type": "code",
      "source": [
        "model = DotProductBias(n_users, n_movies, 50)\n",
        "learn = Learner(dls, model, loss_func=MSELossFlat())\n",
        "learn.fit_one_cycle(5, 5e-3)"
      ],
      "metadata": {
        "colab": {
          "base_uri": "https://localhost:8080/",
          "height": 206
        },
        "id": "5K-sfbALZc1X",
        "outputId": "fbb2946e-4c0f-4ab1-f2f2-7df47ae8156b"
      },
      "execution_count": null,
      "outputs": [
        {
          "output_type": "display_data",
          "data": {
            "text/plain": [
              "<IPython.core.display.HTML object>"
            ],
            "text/html": [
              "\n",
              "<style>\n",
              "    /* Turns off some styling */\n",
              "    progress {\n",
              "        /* gets rid of default border in Firefox and Opera. */\n",
              "        border: none;\n",
              "        /* Needs to be in here for Safari polyfill so background images work as expected. */\n",
              "        background-size: auto;\n",
              "    }\n",
              "    .progress-bar-interrupted, .progress-bar-interrupted::-webkit-progress-bar {\n",
              "        background: #F44336;\n",
              "    }\n",
              "</style>\n"
            ]
          },
          "metadata": {}
        },
        {
          "output_type": "display_data",
          "data": {
            "text/plain": [
              "<IPython.core.display.HTML object>"
            ],
            "text/html": [
              "<table border=\"1\" class=\"dataframe\">\n",
              "  <thead>\n",
              "    <tr style=\"text-align: left;\">\n",
              "      <th>epoch</th>\n",
              "      <th>train_loss</th>\n",
              "      <th>valid_loss</th>\n",
              "      <th>time</th>\n",
              "    </tr>\n",
              "  </thead>\n",
              "  <tbody>\n",
              "    <tr>\n",
              "      <td>0</td>\n",
              "      <td>0.951920</td>\n",
              "      <td>0.946810</td>\n",
              "      <td>00:11</td>\n",
              "    </tr>\n",
              "    <tr>\n",
              "      <td>1</td>\n",
              "      <td>0.842082</td>\n",
              "      <td>0.863063</td>\n",
              "      <td>00:11</td>\n",
              "    </tr>\n",
              "    <tr>\n",
              "      <td>2</td>\n",
              "      <td>0.623924</td>\n",
              "      <td>0.866308</td>\n",
              "      <td>00:10</td>\n",
              "    </tr>\n",
              "    <tr>\n",
              "      <td>3</td>\n",
              "      <td>0.405091</td>\n",
              "      <td>0.887147</td>\n",
              "      <td>00:11</td>\n",
              "    </tr>\n",
              "    <tr>\n",
              "      <td>4</td>\n",
              "      <td>0.299012</td>\n",
              "      <td>0.893824</td>\n",
              "      <td>00:10</td>\n",
              "    </tr>\n",
              "  </tbody>\n",
              "</table>"
            ]
          },
          "metadata": {}
        }
      ]
    },
    {
      "cell_type": "markdown",
      "source": [
        "Instead of being better, it ends up being worse (at least at the end of training). Why is that? If we look at both trainings carefully, we can see the validation loss stopped improving in the middle and started to get worse. As we've seen, this is a clear indication of overfitting. In this case, there is no way to use data augmentation, so we will have to use another regularization technique. One approach that can be helpful is weight decay."
      ],
      "metadata": {
        "id": "H3xTeUZ1dxAr"
      }
    },
    {
      "cell_type": "markdown",
      "source": [
        "## Weight Decay\n",
        "1. Weight decay, or L2 regularization, consists in adding to your loss function the sum of all the weights squared. Why do that? Because when we compute the gradients, it will add a contribution to them that will encourage the weights to be as small as possible.\n",
        "\n",
        "2. Limiting our weights from growing too much is going to hinder the training of the model, but it will yield a state where it generalizes better. Going back to the theory briefly, weight decay (or just **wd**) is a parameter that controls that sum of squares we add to our loss (assuming parameters is a tensor of all parameters):\n",
        "\n",
        "`loss_with_wd = loss + wd * (parameters**2).sum()`"
      ],
      "metadata": {
        "id": "MAFsFbHKxg1A"
      }
    },
    {
      "cell_type": "code",
      "source": [
        "model = DotProductBias(n_users, n_movies, 50)\n",
        "learn = Learner(dls, model, loss_func=MSELossFlat())\n",
        "learn.fit_one_cycle(5, 5e-3, wd=0.1)"
      ],
      "metadata": {
        "colab": {
          "base_uri": "https://localhost:8080/",
          "height": 206
        },
        "id": "NtRKixkczjcA",
        "outputId": "d96d5e86-7f4e-4a03-a8d0-9244994db27b"
      },
      "execution_count": null,
      "outputs": [
        {
          "output_type": "display_data",
          "data": {
            "text/plain": [
              "<IPython.core.display.HTML object>"
            ],
            "text/html": [
              "\n",
              "<style>\n",
              "    /* Turns off some styling */\n",
              "    progress {\n",
              "        /* gets rid of default border in Firefox and Opera. */\n",
              "        border: none;\n",
              "        /* Needs to be in here for Safari polyfill so background images work as expected. */\n",
              "        background-size: auto;\n",
              "    }\n",
              "    .progress-bar-interrupted, .progress-bar-interrupted::-webkit-progress-bar {\n",
              "        background: #F44336;\n",
              "    }\n",
              "</style>\n"
            ]
          },
          "metadata": {}
        },
        {
          "output_type": "display_data",
          "data": {
            "text/plain": [
              "<IPython.core.display.HTML object>"
            ],
            "text/html": [
              "<table border=\"1\" class=\"dataframe\">\n",
              "  <thead>\n",
              "    <tr style=\"text-align: left;\">\n",
              "      <th>epoch</th>\n",
              "      <th>train_loss</th>\n",
              "      <th>valid_loss</th>\n",
              "      <th>time</th>\n",
              "    </tr>\n",
              "  </thead>\n",
              "  <tbody>\n",
              "    <tr>\n",
              "      <td>0</td>\n",
              "      <td>0.946966</td>\n",
              "      <td>0.961217</td>\n",
              "      <td>00:11</td>\n",
              "    </tr>\n",
              "    <tr>\n",
              "      <td>1</td>\n",
              "      <td>0.851827</td>\n",
              "      <td>0.876755</td>\n",
              "      <td>00:10</td>\n",
              "    </tr>\n",
              "    <tr>\n",
              "      <td>2</td>\n",
              "      <td>0.741854</td>\n",
              "      <td>0.840265</td>\n",
              "      <td>00:10</td>\n",
              "    </tr>\n",
              "    <tr>\n",
              "      <td>3</td>\n",
              "      <td>0.587908</td>\n",
              "      <td>0.823102</td>\n",
              "      <td>00:11</td>\n",
              "    </tr>\n",
              "    <tr>\n",
              "      <td>4</td>\n",
              "      <td>0.490014</td>\n",
              "      <td>0.823797</td>\n",
              "      <td>00:11</td>\n",
              "    </tr>\n",
              "  </tbody>\n",
              "</table>"
            ]
          },
          "metadata": {}
        }
      ]
    },
    {
      "cell_type": "markdown",
      "source": [
        "Much better!"
      ],
      "metadata": {
        "id": "aCcp-oZq0mwm"
      }
    },
    {
      "cell_type": "markdown",
      "source": [
        "## Creating our own Embedding Module\n",
        "1. we've used `Embedding` without thinking about how it really works. Let's re-create DotProductBias without using this class. We'll need a randomly initialized weight matrix for each of the embeddings.\n",
        "\n",
        "2. Optimizers require that they can get all the parameters of a module from the module's parameters method. However, this does not happen fully automatically. If we just add a tensor as an attribute to a `Module`, it will not be included in `parameters`:"
      ],
      "metadata": {
        "id": "z4rmOcMr0pr6"
      }
    },
    {
      "cell_type": "code",
      "source": [
        "class T(Module):\n",
        "  def __init__(self): self.a = torch.ones(3)\n",
        "\n",
        "L(T().parameters())"
      ],
      "metadata": {
        "id": "m1eCK6Uez8xi",
        "colab": {
          "base_uri": "https://localhost:8080/"
        },
        "outputId": "de6a0ad2-5d23-456b-f5d8-7a641cabc3f2"
      },
      "execution_count": null,
      "outputs": [
        {
          "output_type": "execute_result",
          "data": {
            "text/plain": [
              "(#0) []"
            ]
          },
          "metadata": {},
          "execution_count": 28
        }
      ]
    },
    {
      "cell_type": "markdown",
      "source": [
        "To tell `Module` that we want to treat a tensor as a parameter, we have to wrap it in the `nn.Parameter` class. This class doesn't actually add any functionality (other than automatically calling `requires_grad_` for us)."
      ],
      "metadata": {
        "id": "gKOakqdZmW5s"
      }
    },
    {
      "cell_type": "code",
      "source": [
        "class T(Module):\n",
        "  def __init__(self): self.a = nn.Parameter(torch.ones(3))\n",
        "\n",
        "L(T().parameters())"
      ],
      "metadata": {
        "colab": {
          "base_uri": "https://localhost:8080/"
        },
        "id": "VahlJBExmPhu",
        "outputId": "b9aa3907-e57d-4eff-eef9-28c54e1fe2dd"
      },
      "execution_count": null,
      "outputs": [
        {
          "output_type": "execute_result",
          "data": {
            "text/plain": [
              "(#1) [Parameter containing:\n",
              "tensor([1., 1., 1.], requires_grad=True)]"
            ]
          },
          "metadata": {},
          "execution_count": 29
        }
      ]
    },
    {
      "cell_type": "markdown",
      "source": [
        "All PyTorch modules use `nn.Parameter` for any trainable parameters, which is why we haven't needed to explicitly use this wrapper up until now:"
      ],
      "metadata": {
        "id": "gpW0JXr-mz-4"
      }
    },
    {
      "cell_type": "code",
      "source": [
        "class T(Module):\n",
        "  def __init__(self): self.a = nn.Linear(1, 3, bias=False)\n",
        "\n",
        "t = T()\n",
        "L(t.parameters())"
      ],
      "metadata": {
        "colab": {
          "base_uri": "https://localhost:8080/",
          "height": 234
        },
        "id": "eM6MwH_5mtAZ",
        "outputId": "8cd05791-32cc-43f1-e245-5438f9a4331e"
      },
      "execution_count": null,
      "outputs": [
        {
          "output_type": "error",
          "ename": "NameError",
          "evalue": "ignored",
          "traceback": [
            "\u001b[0;31m---------------------------------------------------------------------------\u001b[0m",
            "\u001b[0;31mNameError\u001b[0m                                 Traceback (most recent call last)",
            "\u001b[0;32m<ipython-input-1-731891af50f7>\u001b[0m in \u001b[0;36m<module>\u001b[0;34m()\u001b[0m\n\u001b[0;32m----> 1\u001b[0;31m \u001b[0;32mclass\u001b[0m \u001b[0mT\u001b[0m\u001b[0;34m(\u001b[0m\u001b[0mModule\u001b[0m\u001b[0;34m)\u001b[0m\u001b[0;34m:\u001b[0m\u001b[0;34m\u001b[0m\u001b[0;34m\u001b[0m\u001b[0m\n\u001b[0m\u001b[1;32m      2\u001b[0m   \u001b[0;32mdef\u001b[0m \u001b[0m__init__\u001b[0m\u001b[0;34m(\u001b[0m\u001b[0mself\u001b[0m\u001b[0;34m)\u001b[0m\u001b[0;34m:\u001b[0m \u001b[0mself\u001b[0m\u001b[0;34m.\u001b[0m\u001b[0ma\u001b[0m \u001b[0;34m=\u001b[0m \u001b[0mnn\u001b[0m\u001b[0;34m.\u001b[0m\u001b[0mLinear\u001b[0m\u001b[0;34m(\u001b[0m\u001b[0;36m1\u001b[0m\u001b[0;34m,\u001b[0m \u001b[0;36m3\u001b[0m\u001b[0;34m,\u001b[0m \u001b[0mbias\u001b[0m\u001b[0;34m=\u001b[0m\u001b[0;32mFalse\u001b[0m\u001b[0;34m)\u001b[0m\u001b[0;34m\u001b[0m\u001b[0;34m\u001b[0m\u001b[0m\n\u001b[1;32m      3\u001b[0m \u001b[0;34m\u001b[0m\u001b[0m\n\u001b[1;32m      4\u001b[0m \u001b[0mt\u001b[0m \u001b[0;34m=\u001b[0m \u001b[0mT\u001b[0m\u001b[0;34m(\u001b[0m\u001b[0;34m)\u001b[0m\u001b[0;34m\u001b[0m\u001b[0;34m\u001b[0m\u001b[0m\n\u001b[1;32m      5\u001b[0m \u001b[0mL\u001b[0m\u001b[0;34m(\u001b[0m\u001b[0mt\u001b[0m\u001b[0;34m.\u001b[0m\u001b[0mparameters\u001b[0m\u001b[0;34m(\u001b[0m\u001b[0;34m)\u001b[0m\u001b[0;34m)\u001b[0m\u001b[0;34m\u001b[0m\u001b[0;34m\u001b[0m\u001b[0m\n",
            "\u001b[0;31mNameError\u001b[0m: name 'Module' is not defined"
          ]
        }
      ]
    },
    {
      "cell_type": "code",
      "source": [
        "type(t.a.weight)"
      ],
      "metadata": {
        "colab": {
          "base_uri": "https://localhost:8080/"
        },
        "id": "i-OhTMdLnMy1",
        "outputId": "3795f977-56f7-47e8-e293-e048d40f6b89"
      },
      "execution_count": null,
      "outputs": [
        {
          "output_type": "execute_result",
          "data": {
            "text/plain": [
              "torch.nn.parameter.Parameter"
            ]
          },
          "metadata": {},
          "execution_count": 32
        }
      ]
    },
    {
      "cell_type": "markdown",
      "source": [
        "We can create a tensor as a parameter, with random initialization, like so:"
      ],
      "metadata": {
        "id": "4i-W7tdYnbdX"
      }
    },
    {
      "cell_type": "code",
      "source": [
        "def create_params(size):\n",
        "  return nn.Parameter(torch.zeros(*size).normal_(0, 0.01))"
      ],
      "metadata": {
        "id": "W-tthfa4nWk5"
      },
      "execution_count": null,
      "outputs": []
    },
    {
      "cell_type": "code",
      "source": [
        "class DotProductBias(Module):\n",
        "  def __init__(self, n_users, n_movies, n_factors, y_range=(0,5.5)):\n",
        "    self.user_factors = create_params([n_users, n_factors])\n",
        "    self.user_bias = create_params([n_users])\n",
        "    self.movie_factors = create_params([n_movies, n_factors])\n",
        "    self.movie_bias = create_params([n_movies])\n",
        "    self.y_range = y_range\n",
        "  \n",
        "  def forward(self, x):\n",
        "    users = self.user_factors[x[:,0]]\n",
        "    movies = self.movie_factors[x[:,1]]\n",
        "    res = (users*movies).sum(dim=1)\n",
        "    res += self.user_bias[x[:,0]] + self.movie_bias[x[:,1]]\n",
        "    return sigmoid_range(res, *self.y_range)"
      ],
      "metadata": {
        "id": "Sk6_qObknoDS"
      },
      "execution_count": null,
      "outputs": []
    },
    {
      "cell_type": "markdown",
      "source": [
        "Then let's train it again to check we get around the same results we saw in the previous section:"
      ],
      "metadata": {
        "id": "h_94s1hUpfgJ"
      }
    },
    {
      "cell_type": "code",
      "source": [
        "model = DotProductBias(n_users, n_movies, 50)\n",
        "learn = Learner(dls, model, loss_func=MSELossFlat())\n",
        "learn.fit_one_cycle(5, 5e-3, wd=0.1)"
      ],
      "metadata": {
        "colab": {
          "base_uri": "https://localhost:8080/",
          "height": 206
        },
        "id": "jD2uhLlypbiE",
        "outputId": "e29c5597-dfea-4677-9df6-b480603baacf"
      },
      "execution_count": null,
      "outputs": [
        {
          "output_type": "display_data",
          "data": {
            "text/plain": [
              "<IPython.core.display.HTML object>"
            ],
            "text/html": [
              "\n",
              "<style>\n",
              "    /* Turns off some styling */\n",
              "    progress {\n",
              "        /* gets rid of default border in Firefox and Opera. */\n",
              "        border: none;\n",
              "        /* Needs to be in here for Safari polyfill so background images work as expected. */\n",
              "        background-size: auto;\n",
              "    }\n",
              "    .progress-bar-interrupted, .progress-bar-interrupted::-webkit-progress-bar {\n",
              "        background: #F44336;\n",
              "    }\n",
              "</style>\n"
            ]
          },
          "metadata": {}
        },
        {
          "output_type": "display_data",
          "data": {
            "text/plain": [
              "<IPython.core.display.HTML object>"
            ],
            "text/html": [
              "<table border=\"1\" class=\"dataframe\">\n",
              "  <thead>\n",
              "    <tr style=\"text-align: left;\">\n",
              "      <th>epoch</th>\n",
              "      <th>train_loss</th>\n",
              "      <th>valid_loss</th>\n",
              "      <th>time</th>\n",
              "    </tr>\n",
              "  </thead>\n",
              "  <tbody>\n",
              "    <tr>\n",
              "      <td>0</td>\n",
              "      <td>0.960358</td>\n",
              "      <td>0.956795</td>\n",
              "      <td>00:07</td>\n",
              "    </tr>\n",
              "    <tr>\n",
              "      <td>1</td>\n",
              "      <td>0.869042</td>\n",
              "      <td>0.874685</td>\n",
              "      <td>00:07</td>\n",
              "    </tr>\n",
              "    <tr>\n",
              "      <td>2</td>\n",
              "      <td>0.737840</td>\n",
              "      <td>0.839419</td>\n",
              "      <td>00:07</td>\n",
              "    </tr>\n",
              "    <tr>\n",
              "      <td>3</td>\n",
              "      <td>0.589841</td>\n",
              "      <td>0.823726</td>\n",
              "      <td>00:07</td>\n",
              "    </tr>\n",
              "    <tr>\n",
              "      <td>4</td>\n",
              "      <td>0.472334</td>\n",
              "      <td>0.824282</td>\n",
              "      <td>00:07</td>\n",
              "    </tr>\n",
              "  </tbody>\n",
              "</table>"
            ]
          },
          "metadata": {}
        }
      ]
    },
    {
      "cell_type": "markdown",
      "source": [
        "## Interpreting Embeddings and Biases"
      ],
      "metadata": {
        "id": "imgKOGnoqvj_"
      }
    },
    {
      "cell_type": "markdown",
      "source": [
        "Our model is already useful, in that it can provide us with movie recommendations for our users—but it is also interesting to see what parameters it has discovered. The easiest to interpret are the biases. Here are the movies with the lowest values in the bias vector:"
      ],
      "metadata": {
        "id": "UmC2gEecq-rM"
      }
    },
    {
      "cell_type": "code",
      "source": [
        "movie_bias = learn.model.movie_bias.squeeze()\n",
        "idxs = movie_bias.argsort()[:5]\n",
        "[dls.classes['title'][i] for i in idxs]"
      ],
      "metadata": {
        "colab": {
          "base_uri": "https://localhost:8080/"
        },
        "id": "NJWrG2rAqERm",
        "outputId": "b43286e2-61fc-46b8-cb0a-e6d70950de4b"
      },
      "execution_count": null,
      "outputs": [
        {
          "output_type": "execute_result",
          "data": {
            "text/plain": [
              "['Children of the Corn: The Gathering (1996)',\n",
              " 'Robocop 3 (1993)',\n",
              " 'Lawnmower Man 2: Beyond Cyberspace (1996)',\n",
              " 'Amityville 3-D (1983)',\n",
              " 'Mortal Kombat: Annihilation (1997)']"
            ]
          },
          "metadata": {},
          "execution_count": 22
        }
      ]
    },
    {
      "cell_type": "markdown",
      "source": [
        "1. Think about what this means. What it's saying is that for each of these movies, even when a user is very well matched to its latent factors,  they still generally don't like it.\n",
        "2. It tells us not just whether a movie is of a kind that people tend not to enjoy watching, but that people tend not to like watching it even if it is of a kind that they would otherwise enjoy!"
      ],
      "metadata": {
        "id": "keZyyQXqyPs7"
      }
    },
    {
      "cell_type": "code",
      "source": [
        "# here are the movies with the highest bias:\n",
        "idxs = movie_bias.argsort(descending=True)[:5]\n",
        "[dls.classes['title'][i] for i in idxs]"
      ],
      "metadata": {
        "colab": {
          "base_uri": "https://localhost:8080/"
        },
        "id": "DYuBMpRSyJOL",
        "outputId": "b9432536-5f07-4618-87e8-a014467e4ae6"
      },
      "execution_count": null,
      "outputs": [
        {
          "output_type": "execute_result",
          "data": {
            "text/plain": [
              "['Titanic (1997)',\n",
              " 'L.A. Confidential (1997)',\n",
              " 'Silence of the Lambs, The (1991)',\n",
              " 'Shawshank Redemption, The (1994)',\n",
              " 'Star Wars (1977)']"
            ]
          },
          "metadata": {},
          "execution_count": 33
        }
      ]
    },
    {
      "cell_type": "markdown",
      "source": [
        "So, for instance, even if you don't normally enjoy detective movies, you might enjoy LA Confidential!"
      ],
      "metadata": {
        "id": "1JZGJas8yzbX"
      }
    },
    {
      "cell_type": "markdown",
      "source": [
        "##Using fastai.collab"
      ],
      "metadata": {
        "id": "OV0Oh6k9zZcP"
      }
    },
    {
      "cell_type": "code",
      "source": [
        "learn = collab_learner(dls, n_factors=50, y_range=(0,5.5))"
      ],
      "metadata": {
        "id": "D2NnN2rYy0Hc"
      },
      "execution_count": null,
      "outputs": []
    },
    {
      "cell_type": "code",
      "source": [
        "learn.fit_one_cycle(5, 5e-3, wd=0.1)"
      ],
      "metadata": {
        "colab": {
          "base_uri": "https://localhost:8080/",
          "height": 206
        },
        "id": "Ucwynl2czq3u",
        "outputId": "b31f42d7-ca1a-4f66-f993-fac1af7e3a88"
      },
      "execution_count": null,
      "outputs": [
        {
          "output_type": "display_data",
          "data": {
            "text/plain": [
              "<IPython.core.display.HTML object>"
            ],
            "text/html": [
              "\n",
              "<style>\n",
              "    /* Turns off some styling */\n",
              "    progress {\n",
              "        /* gets rid of default border in Firefox and Opera. */\n",
              "        border: none;\n",
              "        /* Needs to be in here for Safari polyfill so background images work as expected. */\n",
              "        background-size: auto;\n",
              "    }\n",
              "    .progress-bar-interrupted, .progress-bar-interrupted::-webkit-progress-bar {\n",
              "        background: #F44336;\n",
              "    }\n",
              "</style>\n"
            ]
          },
          "metadata": {}
        },
        {
          "output_type": "display_data",
          "data": {
            "text/plain": [
              "<IPython.core.display.HTML object>"
            ],
            "text/html": [
              "<table border=\"1\" class=\"dataframe\">\n",
              "  <thead>\n",
              "    <tr style=\"text-align: left;\">\n",
              "      <th>epoch</th>\n",
              "      <th>train_loss</th>\n",
              "      <th>valid_loss</th>\n",
              "      <th>time</th>\n",
              "    </tr>\n",
              "  </thead>\n",
              "  <tbody>\n",
              "    <tr>\n",
              "      <td>0</td>\n",
              "      <td>0.958137</td>\n",
              "      <td>0.954001</td>\n",
              "      <td>00:12</td>\n",
              "    </tr>\n",
              "    <tr>\n",
              "      <td>1</td>\n",
              "      <td>0.872298</td>\n",
              "      <td>0.875933</td>\n",
              "      <td>00:11</td>\n",
              "    </tr>\n",
              "    <tr>\n",
              "      <td>2</td>\n",
              "      <td>0.745986</td>\n",
              "      <td>0.838503</td>\n",
              "      <td>00:11</td>\n",
              "    </tr>\n",
              "    <tr>\n",
              "      <td>3</td>\n",
              "      <td>0.600054</td>\n",
              "      <td>0.821116</td>\n",
              "      <td>00:11</td>\n",
              "    </tr>\n",
              "    <tr>\n",
              "      <td>4</td>\n",
              "      <td>0.484811</td>\n",
              "      <td>0.821436</td>\n",
              "      <td>00:11</td>\n",
              "    </tr>\n",
              "  </tbody>\n",
              "</table>"
            ]
          },
          "metadata": {}
        }
      ]
    },
    {
      "cell_type": "code",
      "source": [
        "# The names of the layers can be seen by printing the model:\n",
        "learn.model"
      ],
      "metadata": {
        "colab": {
          "base_uri": "https://localhost:8080/"
        },
        "id": "NFIzZx9JzuW5",
        "outputId": "af9666d5-998a-463c-fac4-a7b64bc235b0"
      },
      "execution_count": null,
      "outputs": [
        {
          "output_type": "execute_result",
          "data": {
            "text/plain": [
              "EmbeddingDotBias(\n",
              "  (u_weight): Embedding(944, 50)\n",
              "  (i_weight): Embedding(1665, 50)\n",
              "  (u_bias): Embedding(944, 1)\n",
              "  (i_bias): Embedding(1665, 1)\n",
              ")"
            ]
          },
          "metadata": {},
          "execution_count": 13
        }
      ]
    },
    {
      "cell_type": "code",
      "source": [
        "movie_bias = learn.model.i_bias.weight.squeeze()\n",
        "idxs = movie_bias.argsort()[:5]\n",
        "[dls.classes['title'][i] for i in idxs]"
      ],
      "metadata": {
        "colab": {
          "base_uri": "https://localhost:8080/"
        },
        "id": "Tu0Yz9-szzMs",
        "outputId": "afce2b68-a3de-495d-f7bf-75baa4e81e16"
      },
      "execution_count": null,
      "outputs": [
        {
          "output_type": "execute_result",
          "data": {
            "text/plain": [
              "['Children of the Corn: The Gathering (1996)',\n",
              " 'Robocop 3 (1993)',\n",
              " 'Lawnmower Man 2: Beyond Cyberspace (1996)',\n",
              " 'Mortal Kombat: Annihilation (1997)',\n",
              " 'Grease 2 (1982)']"
            ]
          },
          "metadata": {},
          "execution_count": 37
        }
      ]
    },
    {
      "cell_type": "code",
      "source": [
        "idxs = movie_bias.argsort(descending=True)[:5]\n",
        "[dls.classes['title'][i] for i in idxs]"
      ],
      "metadata": {
        "colab": {
          "base_uri": "https://localhost:8080/"
        },
        "id": "NuWxC8Y60PiR",
        "outputId": "578d3797-98b9-4fcf-c398-933c20141196"
      },
      "execution_count": null,
      "outputs": [
        {
          "output_type": "execute_result",
          "data": {
            "text/plain": [
              "['L.A. Confidential (1997)',\n",
              " \"Schindler's List (1993)\",\n",
              " 'Titanic (1997)',\n",
              " 'Shawshank Redemption, The (1994)',\n",
              " 'Silence of the Lambs, The (1991)']"
            ]
          },
          "metadata": {},
          "execution_count": 39
        }
      ]
    },
    {
      "cell_type": "markdown",
      "source": [
        "## Embedding distance\n",
        "1. If there were two movies that were nearly identical, then their embedding vectors would also have to be nearly identical, because the users that would like them would be nearly exactly the same.\n",
        "2. movie similarity can be defined by the similarity of users that like those movies. And that directly means that the distance between two movies' embedding vectors can define that similarity."
      ],
      "metadata": {
        "id": "SF1Entariku6"
      }
    },
    {
      "cell_type": "code",
      "source": [
        "# We can use this to find the most similar movie to Silence of the Lambs:\n",
        "movie_factors = learn.model.i_weight.weight\n",
        "idx = dls.classes['title'].o2i['Silence of the Lambs, The (1991)']\n",
        "distances = nn.CosineSimilarity(dim=1)(movie_factors, movie_factors[idx][None])\n",
        "idx = distances.argsort(descending=True)[1]\n",
        "dls.classes['title'][idx]"
      ],
      "metadata": {
        "colab": {
          "base_uri": "https://localhost:8080/",
          "height": 35
        },
        "id": "VGn1JjVejJ9X",
        "outputId": "1bd1cce4-2e08-441c-c4fa-e0305e4ba7d8"
      },
      "execution_count": null,
      "outputs": [
        {
          "output_type": "execute_result",
          "data": {
            "text/plain": [
              "'Manchurian Candidate, The (1962)'"
            ],
            "application/vnd.google.colaboratory.intrinsic+json": {
              "type": "string"
            }
          },
          "metadata": {},
          "execution_count": 29
        }
      ]
    },
    {
      "cell_type": "markdown",
      "source": [
        "1. Our dot product model works quite well, and it is the basis of many successful real-world recommendation systems. This approach to collaborative filtering is known as probabilistic matrix factorization (PMF). \n",
        "2. Another approach, which generally works similarly well given the same data, is deep learning.\n",
        "\n"
      ],
      "metadata": {
        "id": "VDnT2Jbuluo-"
      }
    },
    {
      "cell_type": "markdown",
      "source": [
        "## Deep Learning for Collaborative Filtering\n",
        "1. To turn our architecture into a deep learning model, the first step is to take the results of the embedding lookup and concatenate those activations together. This gives us a matrix which we can then pass through linear layers and nonlinearities in the usual way.\n",
        "\n",
        "2. Since we'll be concatenating the embeddings, rather than taking their dot product, the two embedding matrices can have different sizes (i.e., different numbers of latent factors). fastai has a function **get_emb_sz** that returns recommended sizes for embedding matrices for your data, based on a heuristic that fast.ai has found tends to work well in practice."
      ],
      "metadata": {
        "id": "iztkllhnlx_-"
      }
    },
    {
      "cell_type": "code",
      "source": [
        "from fastai.tabular.model import get_emb_sz\n",
        "embs = get_emb_sz(dls)\n",
        "embs"
      ],
      "metadata": {
        "colab": {
          "base_uri": "https://localhost:8080/"
        },
        "id": "HVc3LXlBkEor",
        "outputId": "3cc84bf5-da4b-47d2-ccba-c44123066409"
      },
      "execution_count": null,
      "outputs": [
        {
          "output_type": "execute_result",
          "data": {
            "text/plain": [
              "[(944, 74), (1665, 102)]"
            ]
          },
          "metadata": {},
          "execution_count": 48
        }
      ]
    },
    {
      "cell_type": "code",
      "source": [
        "class CollabNN(Module):\n",
        "  def __init__(self, user_sz, item_sz, y_range=(0,5.5), n_act=100):\n",
        "    self.user_factors = Embedding(*user_sz)\n",
        "    self.item_factors = Embedding(*item_sz)\n",
        "    self.layers = nn.Sequential(\n",
        "        nn.Linear(user_sz[1]+item_sz[1], n_act),\n",
        "        nn.ReLU(),\n",
        "        nn.Linear(n_act, 1))\n",
        "    self.y_range = y_range\n",
        "\n",
        "  def forward(self, x):\n",
        "    embs = self.user_factors(x[:,0]), self.item_factors(x[:,1])\n",
        "    x = self.layers(torch.cat(embs, dim=1))\n",
        "    return sigmoid_range(x, *self.y_range)"
      ],
      "metadata": {
        "id": "maqT7-gOmepP"
      },
      "execution_count": null,
      "outputs": []
    },
    {
      "cell_type": "code",
      "source": [
        "model = CollabNN(*embs)"
      ],
      "metadata": {
        "id": "WSpsg6JSq_3t"
      },
      "execution_count": null,
      "outputs": []
    },
    {
      "cell_type": "markdown",
      "source": [
        "1. **CollabNN** creates our **Embedding** layers in the same way as previous classes in this chapter, except that we now use the embs sizes. self.layers is identical to the mini-neural net we created in for MNIST.\n",
        "2.  Then, in forward, we apply the embeddings, concatenate the results, and pass this through the mini-neural net.\n",
        "3. Finally, we apply **sigmoid_range** as we have in previous models."
      ],
      "metadata": {
        "id": "B02MfNUqsD8n"
      }
    },
    {
      "cell_type": "code",
      "source": [
        "learn = Learner(dls, model, loss_func=MSELossFlat())\n",
        "learn.fit_one_cycle(5, 5e-3, wd=0.1)"
      ],
      "metadata": {
        "colab": {
          "base_uri": "https://localhost:8080/",
          "height": 206
        },
        "id": "n1SBVVWxrIlz",
        "outputId": "34932052-95f2-4adb-9c4b-faf41dfe6089"
      },
      "execution_count": null,
      "outputs": [
        {
          "output_type": "display_data",
          "data": {
            "text/plain": [
              "<IPython.core.display.HTML object>"
            ],
            "text/html": [
              "\n",
              "<style>\n",
              "    /* Turns off some styling */\n",
              "    progress {\n",
              "        /* gets rid of default border in Firefox and Opera. */\n",
              "        border: none;\n",
              "        /* Needs to be in here for Safari polyfill so background images work as expected. */\n",
              "        background-size: auto;\n",
              "    }\n",
              "    .progress-bar-interrupted, .progress-bar-interrupted::-webkit-progress-bar {\n",
              "        background: #F44336;\n",
              "    }\n",
              "</style>\n"
            ]
          },
          "metadata": {}
        },
        {
          "output_type": "display_data",
          "data": {
            "text/plain": [
              "<IPython.core.display.HTML object>"
            ],
            "text/html": [
              "<table border=\"1\" class=\"dataframe\">\n",
              "  <thead>\n",
              "    <tr style=\"text-align: left;\">\n",
              "      <th>epoch</th>\n",
              "      <th>train_loss</th>\n",
              "      <th>valid_loss</th>\n",
              "      <th>time</th>\n",
              "    </tr>\n",
              "  </thead>\n",
              "  <tbody>\n",
              "    <tr>\n",
              "      <td>0</td>\n",
              "      <td>0.854521</td>\n",
              "      <td>0.885565</td>\n",
              "      <td>00:13</td>\n",
              "    </tr>\n",
              "    <tr>\n",
              "      <td>1</td>\n",
              "      <td>0.886416</td>\n",
              "      <td>0.880678</td>\n",
              "      <td>00:12</td>\n",
              "    </tr>\n",
              "    <tr>\n",
              "      <td>2</td>\n",
              "      <td>0.818536</td>\n",
              "      <td>0.860952</td>\n",
              "      <td>00:12</td>\n",
              "    </tr>\n",
              "    <tr>\n",
              "      <td>3</td>\n",
              "      <td>0.794656</td>\n",
              "      <td>0.849523</td>\n",
              "      <td>00:12</td>\n",
              "    </tr>\n",
              "    <tr>\n",
              "      <td>4</td>\n",
              "      <td>0.707181</td>\n",
              "      <td>0.855253</td>\n",
              "      <td>00:12</td>\n",
              "    </tr>\n",
              "  </tbody>\n",
              "</table>"
            ]
          },
          "metadata": {}
        }
      ]
    },
    {
      "cell_type": "markdown",
      "source": [
        "1. fastai provides this model in **fastai.collab** if you pass **use_nn=True** in your call to **collab_learner** (including calling **get_emb_sz** for you), and it lets you easily create more layers.\n",
        "2.  For instance, here we're creating two hidden layers, of size 100 and 50, respectively:"
      ],
      "metadata": {
        "id": "V346kZIlt0WD"
      }
    },
    {
      "cell_type": "code",
      "source": [
        "learn = collab_learner(dls, use_nn=True, y_range=(0, 5.5), layers=[100,50])\n",
        "learn.fit_one_cycle(5, 5e-3, wd=0.1)"
      ],
      "metadata": {
        "colab": {
          "base_uri": "https://localhost:8080/",
          "height": 206
        },
        "id": "4T3PA6IHtZQX",
        "outputId": "fb0d5287-5581-4c5e-85b6-accfd3dc302c"
      },
      "execution_count": null,
      "outputs": [
        {
          "output_type": "display_data",
          "data": {
            "text/plain": [
              "<IPython.core.display.HTML object>"
            ],
            "text/html": [
              "\n",
              "<style>\n",
              "    /* Turns off some styling */\n",
              "    progress {\n",
              "        /* gets rid of default border in Firefox and Opera. */\n",
              "        border: none;\n",
              "        /* Needs to be in here for Safari polyfill so background images work as expected. */\n",
              "        background-size: auto;\n",
              "    }\n",
              "    .progress-bar-interrupted, .progress-bar-interrupted::-webkit-progress-bar {\n",
              "        background: #F44336;\n",
              "    }\n",
              "</style>\n"
            ]
          },
          "metadata": {}
        },
        {
          "output_type": "display_data",
          "data": {
            "text/plain": [
              "<IPython.core.display.HTML object>"
            ],
            "text/html": [
              "<table border=\"1\" class=\"dataframe\">\n",
              "  <thead>\n",
              "    <tr style=\"text-align: left;\">\n",
              "      <th>epoch</th>\n",
              "      <th>train_loss</th>\n",
              "      <th>valid_loss</th>\n",
              "      <th>time</th>\n",
              "    </tr>\n",
              "  </thead>\n",
              "  <tbody>\n",
              "    <tr>\n",
              "      <td>0</td>\n",
              "      <td>1.010102</td>\n",
              "      <td>1.010671</td>\n",
              "      <td>00:24</td>\n",
              "    </tr>\n",
              "    <tr>\n",
              "      <td>1</td>\n",
              "      <td>0.913477</td>\n",
              "      <td>0.922512</td>\n",
              "      <td>00:13</td>\n",
              "    </tr>\n",
              "    <tr>\n",
              "      <td>2</td>\n",
              "      <td>0.883599</td>\n",
              "      <td>0.889130</td>\n",
              "      <td>00:15</td>\n",
              "    </tr>\n",
              "    <tr>\n",
              "      <td>3</td>\n",
              "      <td>0.800065</td>\n",
              "      <td>0.852931</td>\n",
              "      <td>00:14</td>\n",
              "    </tr>\n",
              "    <tr>\n",
              "      <td>4</td>\n",
              "      <td>0.734925</td>\n",
              "      <td>0.855409</td>\n",
              "      <td>00:14</td>\n",
              "    </tr>\n",
              "  </tbody>\n",
              "</table>"
            ]
          },
          "metadata": {}
        }
      ]
    },
    {
      "cell_type": "markdown",
      "source": [
        "**learn.model** is an object of type **EmbeddingNN**. Let's take a look at fastai's code for this class:"
      ],
      "metadata": {
        "id": "DUaKj1cOwYaG"
      }
    },
    {
      "cell_type": "markdown",
      "source": [
        "```\n",
        "@delegates(TabularModel)\n",
        "class EmbeddingNN(TabularModel):\n",
        "  def __init__(self, emb_szs, layers, **kwargs):\n",
        "    super().__init__(emb_szs, layers=layers, n_cont=0,out_sz=1, **kwargs)\n",
        "```\n"
      ],
      "metadata": {
        "id": "81MyIOa1wJgh"
      }
    },
    {
      "cell_type": "markdown",
      "source": [
        "1. We're using **kwargs **bold text** in **EmbeddingNN** to avoid having to write all the arguments to **TabularModel** a second time, and keep them in sync. However, this makes our API quite difficult to work with, because now Jupyter Notebook doesn't know what parameters are available. Consequently things like tab completion of parameter names and pop-up lists of signatures won't work.\n",
        "\n",
        "2. fastai resolves this by providing a special **@delegates** decorator, which automatically changes the signature of the class or function (**EmbeddingNN** in this case) to insert all of its keyword arguments into the signature."
      ],
      "metadata": {
        "id": "0-JUhKBMxfAa"
      }
    },
    {
      "cell_type": "markdown",
      "source": [
        "# Conclusion\n",
        "\n",
        "For our first non-computer vision application, we looked at recommendation systems and saw how gradient descent can learn intrinsic factors or biases about items from a history of ratings. Those can then give us information about the data."
      ],
      "metadata": {
        "id": "7SDHhIkCw7qr"
      }
    }
  ]
}