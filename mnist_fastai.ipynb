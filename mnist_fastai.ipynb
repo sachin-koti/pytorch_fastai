{
  "nbformat": 4,
  "nbformat_minor": 0,
  "metadata": {
    "colab": {
      "provenance": []
    },
    "kernelspec": {
      "name": "python3",
      "display_name": "Python 3"
    },
    "language_info": {
      "name": "python"
    },
    "accelerator": "GPU"
  },
  "cells": [
    {
      "cell_type": "code",
      "execution_count": null,
      "metadata": {
        "colab": {
          "base_uri": "https://localhost:8080/"
        },
        "id": "F6Q3tbMiPv9x",
        "outputId": "c2d0d4df-7512-41dd-f73d-741519622e1e"
      },
      "outputs": [
        {
          "output_type": "stream",
          "name": "stdout",
          "text": [
            "\u001b[K     |████████████████████████████████| 720 kB 2.7 MB/s \n",
            "\u001b[K     |████████████████████████████████| 48 kB 4.9 MB/s \n",
            "\u001b[K     |████████████████████████████████| 189 kB 52.9 MB/s \n",
            "\u001b[K     |████████████████████████████████| 1.2 MB 53.0 MB/s \n",
            "\u001b[K     |████████████████████████████████| 55 kB 4.3 MB/s \n",
            "\u001b[K     |████████████████████████████████| 51 kB 318 kB/s \n",
            "\u001b[K     |████████████████████████████████| 558 kB 50.1 MB/s \n",
            "\u001b[K     |████████████████████████████████| 130 kB 56.3 MB/s \n",
            "\u001b[?25hMounted at /content/gdrive\n"
          ]
        }
      ],
      "source": [
        "!pip install -Uqq fastbook\n",
        "import fastbook\n",
        "fastbook.setup_book()"
      ]
    },
    {
      "cell_type": "code",
      "source": [
        "from fastai.vision.all import *\n",
        "from fastbook import *"
      ],
      "metadata": {
        "id": "tJKarzzLjUYe"
      },
      "execution_count": null,
      "outputs": []
    },
    {
      "cell_type": "code",
      "source": [
        "path = untar_data(URLs.MNIST_SAMPLE)"
      ],
      "metadata": {
        "colab": {
          "base_uri": "https://localhost:8080/",
          "height": 37
        },
        "id": "cdat630xjqjG",
        "outputId": "675a3500-3ca0-4c90-bf55-ca5b92798660"
      },
      "execution_count": null,
      "outputs": [
        {
          "output_type": "display_data",
          "data": {
            "text/html": [
              "\n",
              "<style>\n",
              "    /* Turns off some styling */\n",
              "    progress {\n",
              "        /* gets rid of default border in Firefox and Opera. */\n",
              "        border: none;\n",
              "        /* Needs to be in here for Safari polyfill so background images work as expected. */\n",
              "        background-size: auto;\n",
              "    }\n",
              "    .progress-bar-interrupted, .progress-bar-interrupted::-webkit-progress-bar {\n",
              "        background: #F44336;\n",
              "    }\n",
              "</style>\n"
            ],
            "text/plain": [
              "<IPython.core.display.HTML object>"
            ]
          },
          "metadata": {}
        },
        {
          "output_type": "display_data",
          "data": {
            "text/html": [
              "\n",
              "    <div>\n",
              "      <progress value='3219456' class='' max='3214948' style='width:300px; height:20px; vertical-align: middle;'></progress>\n",
              "      100.14% [3219456/3214948 00:00<00:00]\n",
              "    </div>\n",
              "    "
            ],
            "text/plain": [
              "<IPython.core.display.HTML object>"
            ]
          },
          "metadata": {}
        }
      ]
    },
    {
      "cell_type": "code",
      "source": [
        "Path.BASE_PATH = path"
      ],
      "metadata": {
        "id": "BAnPKSQasJVt"
      },
      "execution_count": null,
      "outputs": []
    },
    {
      "cell_type": "code",
      "source": [
        "path.ls()"
      ],
      "metadata": {
        "colab": {
          "base_uri": "https://localhost:8080/"
        },
        "id": "LwO_omF7szSj",
        "outputId": "370c9706-f9e1-4b80-d368-c8f7ddda4877"
      },
      "execution_count": null,
      "outputs": [
        {
          "output_type": "execute_result",
          "data": {
            "text/plain": [
              "(#3) [Path('train'),Path('valid'),Path('labels.csv')]"
            ]
          },
          "metadata": {},
          "execution_count": 5
        }
      ]
    },
    {
      "cell_type": "code",
      "source": [
        "(path/'train').ls()"
      ],
      "metadata": {
        "colab": {
          "base_uri": "https://localhost:8080/"
        },
        "id": "9aj6rsfTs93q",
        "outputId": "d895d93b-e237-407e-d9de-b174861da565"
      },
      "execution_count": null,
      "outputs": [
        {
          "output_type": "execute_result",
          "data": {
            "text/plain": [
              "(#2) [Path('train/3'),Path('train/7')]"
            ]
          },
          "metadata": {},
          "execution_count": 6
        }
      ]
    },
    {
      "cell_type": "code",
      "source": [
        "threes = (path/'train'/'3').ls().sorted()"
      ],
      "metadata": {
        "id": "p6zqq5COuOgN"
      },
      "execution_count": null,
      "outputs": []
    },
    {
      "cell_type": "code",
      "source": [
        "threes"
      ],
      "metadata": {
        "colab": {
          "base_uri": "https://localhost:8080/"
        },
        "id": "twBgXD2fvlxK",
        "outputId": "d6e78764-b992-4c48-f55f-9cf47cbfb6ae"
      },
      "execution_count": null,
      "outputs": [
        {
          "output_type": "execute_result",
          "data": {
            "text/plain": [
              "(#6131) [Path('train/3/10.png'),Path('train/3/10000.png'),Path('train/3/10011.png'),Path('train/3/10031.png'),Path('train/3/10034.png'),Path('train/3/10042.png'),Path('train/3/10052.png'),Path('train/3/1007.png'),Path('train/3/10074.png'),Path('train/3/10091.png')...]"
            ]
          },
          "metadata": {},
          "execution_count": 8
        }
      ]
    },
    {
      "cell_type": "code",
      "source": [
        "sevens = (path/'train'/'7').ls().sorted()\n",
        "sevens"
      ],
      "metadata": {
        "colab": {
          "base_uri": "https://localhost:8080/"
        },
        "id": "U0ZjzYTRv9iO",
        "outputId": "b93a8749-5208-4c8a-afa8-3ed65670acb4"
      },
      "execution_count": null,
      "outputs": [
        {
          "output_type": "execute_result",
          "data": {
            "text/plain": [
              "(#6265) [Path('train/7/10002.png'),Path('train/7/1001.png'),Path('train/7/10014.png'),Path('train/7/10019.png'),Path('train/7/10039.png'),Path('train/7/10046.png'),Path('train/7/10050.png'),Path('train/7/10063.png'),Path('train/7/10077.png'),Path('train/7/10086.png')...]"
            ]
          },
          "metadata": {},
          "execution_count": 9
        }
      ]
    },
    {
      "cell_type": "code",
      "source": [
        "im3_path = threes[1]\n",
        "im3 = Image.open(im3_path)\n",
        "im3"
      ],
      "metadata": {
        "colab": {
          "base_uri": "https://localhost:8080/",
          "height": 45
        },
        "id": "oyu2RTgbwKfg",
        "outputId": "67a44001-febe-4fc9-8993-749ad1d20b18"
      },
      "execution_count": null,
      "outputs": [
        {
          "output_type": "execute_result",
          "data": {
            "image/png": "[encoded data removed]",
            "text/plain": [
              "<PIL.PngImagePlugin.PngImageFile image mode=L size=28x28 at 0x7F4B8E3879D0>"
            ]
          },
          "metadata": {},
          "execution_count": 10
        }
      ]
    },
    {
      "cell_type": "code",
      "source": [
        "array(im3)[4:10,4:10]"
      ],
      "metadata": {
        "colab": {
          "base_uri": "https://localhost:8080/"
        },
        "id": "Y5VOos4VwZ-p",
        "outputId": "7889a5d6-312e-400c-d272-166240b00e75"
      },
      "execution_count": null,
      "outputs": [
        {
          "output_type": "execute_result",
          "data": {
            "text/plain": [
              "array([[  0,   0,   0,   0,   0,   0],\n",
              "       [  0,   0,   0,   0,   0,  29],\n",
              "       [  0,   0,   0,  48, 166, 224],\n",
              "       [  0,  93, 244, 249, 253, 187],\n",
              "       [  0, 107, 253, 253, 230,  48],\n",
              "       [  0,   3,  20,  20,  15,   0]], dtype=uint8)"
            ]
          },
          "metadata": {},
          "execution_count": 11
        }
      ]
    },
    {
      "cell_type": "code",
      "source": [
        "tensor(im3)[4:10,4:10]"
      ],
      "metadata": {
        "colab": {
          "base_uri": "https://localhost:8080/"
        },
        "id": "82qhVzoBxVQ6",
        "outputId": "7b2469ab-4eff-4b1b-f582-41cc2a5a4ee8"
      },
      "execution_count": null,
      "outputs": [
        {
          "output_type": "execute_result",
          "data": {
            "text/plain": [
              "tensor([[  0,   0,   0,   0,   0,   0],\n",
              "        [  0,   0,   0,   0,   0,  29],\n",
              "        [  0,   0,   0,  48, 166, 224],\n",
              "        [  0,  93, 244, 249, 253, 187],\n",
              "        [  0, 107, 253, 253, 230,  48],\n",
              "        [  0,   3,  20,  20,  15,   0]], dtype=torch.uint8)"
            ]
          },
          "metadata": {},
          "execution_count": 12
        }
      ]
    },
    {
      "cell_type": "code",
      "source": [
        "im3_t = tensor(im3)\n",
        "df = pd.DataFrame(im3_t[4:15,4:22])\n",
        "df.style.set_properties(**{'font-size':'9pt'}).background_gradient('Greys')"
      ],
      "metadata": {
        "colab": {
          "base_uri": "https://localhost:8080/",
          "height": 394
        },
        "id": "iWDvURH4xer-",
        "outputId": "90806712-5af3-4d63-dfc6-ed954bd73740"
      },
      "execution_count": null,
      "outputs": [
        {
          "output_type": "execute_result",
          "data": {
            "text/html": [
              "<style type=\"text/css\">\n",
              "#T_3c769_row0_col0, #T_3c769_row0_col1, #T_3c769_row0_col2, #T_3c769_row0_col3, #T_3c769_row0_col4, #T_3c769_row0_col5, #T_3c769_row0_col6, #T_3c769_row0_col7, #T_3c769_row0_col8, #T_3c769_row0_col9, #T_3c769_row0_col10, #T_3c769_row0_col11, #T_3c769_row0_col12, #T_3c769_row0_col13, #T_3c769_row0_col14, #T_3c769_row0_col15, #T_3c769_row0_col16, #T_3c769_row0_col17, #T_3c769_row1_col0, #T_3c769_row1_col1, #T_3c769_row1_col2, #T_3c769_row1_col3, #T_3c769_row1_col4, #T_3c769_row1_col15, #T_3c769_row1_col16, #T_3c769_row1_col17, #T_3c769_row2_col0, #T_3c769_row2_col1, #T_3c769_row2_col2, #T_3c769_row2_col15, #T_3c769_row2_col16, #T_3c769_row2_col17, #T_3c769_row3_col0, #T_3c769_row3_col15, #T_3c769_row3_col16, #T_3c769_row3_col17, #T_3c769_row4_col0, #T_3c769_row4_col6, #T_3c769_row4_col7, #T_3c769_row4_col8, #T_3c769_row4_col9, #T_3c769_row4_col10, #T_3c769_row4_col15, #T_3c769_row4_col16, #T_3c769_row4_col17, #T_3c769_row5_col0, #T_3c769_row5_col5, #T_3c769_row5_col6, #T_3c769_row5_col7, #T_3c769_row5_col8, #T_3c769_row5_col9, #T_3c769_row5_col15, #T_3c769_row5_col16, #T_3c769_row5_col17, #T_3c769_row6_col0, #T_3c769_row6_col1, #T_3c769_row6_col2, #T_3c769_row6_col3, #T_3c769_row6_col4, #T_3c769_row6_col5, #T_3c769_row6_col6, #T_3c769_row6_col7, #T_3c769_row6_col8, #T_3c769_row6_col9, #T_3c769_row6_col14, #T_3c769_row6_col15, #T_3c769_row6_col16, #T_3c769_row6_col17, #T_3c769_row7_col0, #T_3c769_row7_col1, #T_3c769_row7_col2, #T_3c769_row7_col3, #T_3c769_row7_col4, #T_3c769_row7_col5, #T_3c769_row7_col6, #T_3c769_row7_col13, #T_3c769_row7_col14, #T_3c769_row7_col15, #T_3c769_row7_col16, #T_3c769_row7_col17, #T_3c769_row8_col0, #T_3c769_row8_col1, #T_3c769_row8_col2, #T_3c769_row8_col3, #T_3c769_row8_col4, #T_3c769_row8_col13, #T_3c769_row8_col14, #T_3c769_row8_col15, #T_3c769_row8_col16, #T_3c769_row8_col17, #T_3c769_row9_col0, #T_3c769_row9_col1, #T_3c769_row9_col2, #T_3c769_row9_col3, #T_3c769_row9_col4, #T_3c769_row9_col16, #T_3c769_row9_col17, #T_3c769_row10_col0, #T_3c769_row10_col1, #T_3c769_row10_col2, #T_3c769_row10_col3, #T_3c769_row10_col4, #T_3c769_row10_col5, #T_3c769_row10_col6, #T_3c769_row10_col17 {\n",
              "  font-size: 9pt;\n",
              "  background-color: #ffffff;\n",
              "  color: #000000;\n",
              "}\n",
              "#T_3c769_row1_col5 {\n",
              "  font-size: 9pt;\n",
              "  background-color: #efefef;\n",
              "  color: #000000;\n",
              "}\n",
              "#T_3c769_row1_col6, #T_3c769_row1_col13 {\n",
              "  font-size: 9pt;\n",
              "  background-color: #7c7c7c;\n",
              "  color: #f1f1f1;\n",
              "}\n",
              "#T_3c769_row1_col7 {\n",
              "  font-size: 9pt;\n",
              "  background-color: #4a4a4a;\n",
              "  color: #f1f1f1;\n",
              "}\n",
              "#T_3c769_row1_col8, #T_3c769_row1_col9, #T_3c769_row1_col10, #T_3c769_row2_col5, #T_3c769_row2_col6, #T_3c769_row2_col7, #T_3c769_row2_col11, #T_3c769_row2_col12, #T_3c769_row2_col13, #T_3c769_row3_col4, #T_3c769_row3_col12, #T_3c769_row3_col13, #T_3c769_row4_col1, #T_3c769_row4_col2, #T_3c769_row4_col3, #T_3c769_row4_col12, #T_3c769_row4_col13, #T_3c769_row5_col12, #T_3c769_row6_col11, #T_3c769_row9_col11, #T_3c769_row10_col11, #T_3c769_row10_col12, #T_3c769_row10_col13, #T_3c769_row10_col14, #T_3c769_row10_col15, #T_3c769_row10_col16 {\n",
              "  font-size: 9pt;\n",
              "  background-color: #000000;\n",
              "  color: #f1f1f1;\n",
              "}\n",
              "#T_3c769_row1_col11 {\n",
              "  font-size: 9pt;\n",
              "  background-color: #606060;\n",
              "  color: #f1f1f1;\n",
              "}\n",
              "#T_3c769_row1_col12 {\n",
              "  font-size: 9pt;\n",
              "  background-color: #4d4d4d;\n",
              "  color: #f1f1f1;\n",
              "}\n",
              "#T_3c769_row1_col14 {\n",
              "  font-size: 9pt;\n",
              "  background-color: #bbbbbb;\n",
              "  color: #000000;\n",
              "}\n",
              "#T_3c769_row2_col3 {\n",
              "  font-size: 9pt;\n",
              "  background-color: #e4e4e4;\n",
              "  color: #000000;\n",
              "}\n",
              "#T_3c769_row2_col4, #T_3c769_row8_col6 {\n",
              "  font-size: 9pt;\n",
              "  background-color: #6b6b6b;\n",
              "  color: #f1f1f1;\n",
              "}\n",
              "#T_3c769_row2_col8, #T_3c769_row2_col14, #T_3c769_row3_col14 {\n",
              "  font-size: 9pt;\n",
              "  background-color: #171717;\n",
              "  color: #f1f1f1;\n",
              "}\n",
              "#T_3c769_row2_col9, #T_3c769_row3_col11 {\n",
              "  font-size: 9pt;\n",
              "  background-color: #4b4b4b;\n",
              "  color: #f1f1f1;\n",
              "}\n",
              "#T_3c769_row2_col10, #T_3c769_row7_col10, #T_3c769_row8_col8, #T_3c769_row8_col10, #T_3c769_row9_col8, #T_3c769_row9_col10 {\n",
              "  font-size: 9pt;\n",
              "  background-color: #010101;\n",
              "  color: #f1f1f1;\n",
              "}\n",
              "#T_3c769_row3_col1 {\n",
              "  font-size: 9pt;\n",
              "  background-color: #272727;\n",
              "  color: #f1f1f1;\n",
              "}\n",
              "#T_3c769_row3_col2 {\n",
              "  font-size: 9pt;\n",
              "  background-color: #0a0a0a;\n",
              "  color: #f1f1f1;\n",
              "}\n",
              "#T_3c769_row3_col3 {\n",
              "  font-size: 9pt;\n",
              "  background-color: #050505;\n",
              "  color: #f1f1f1;\n",
              "}\n",
              "#T_3c769_row3_col5 {\n",
              "  font-size: 9pt;\n",
              "  background-color: #333333;\n",
              "  color: #f1f1f1;\n",
              "}\n",
              "#T_3c769_row3_col6 {\n",
              "  font-size: 9pt;\n",
              "  background-color: #e6e6e6;\n",
              "  color: #000000;\n",
              "}\n",
              "#T_3c769_row3_col7, #T_3c769_row3_col10 {\n",
              "  font-size: 9pt;\n",
              "  background-color: #fafafa;\n",
              "  color: #000000;\n",
              "}\n",
              "#T_3c769_row3_col8 {\n",
              "  font-size: 9pt;\n",
              "  background-color: #fbfbfb;\n",
              "  color: #000000;\n",
              "}\n",
              "#T_3c769_row3_col9 {\n",
              "  font-size: 9pt;\n",
              "  background-color: #fdfdfd;\n",
              "  color: #000000;\n",
              "}\n",
              "#T_3c769_row4_col4 {\n",
              "  font-size: 9pt;\n",
              "  background-color: #1b1b1b;\n",
              "  color: #f1f1f1;\n",
              "}\n",
              "#T_3c769_row4_col5 {\n",
              "  font-size: 9pt;\n",
              "  background-color: #e0e0e0;\n",
              "  color: #000000;\n",
              "}\n",
              "#T_3c769_row4_col11 {\n",
              "  font-size: 9pt;\n",
              "  background-color: #4e4e4e;\n",
              "  color: #f1f1f1;\n",
              "}\n",
              "#T_3c769_row4_col14 {\n",
              "  font-size: 9pt;\n",
              "  background-color: #767676;\n",
              "  color: #f1f1f1;\n",
              "}\n",
              "#T_3c769_row5_col1 {\n",
              "  font-size: 9pt;\n",
              "  background-color: #fcfcfc;\n",
              "  color: #000000;\n",
              "}\n",
              "#T_3c769_row5_col2, #T_3c769_row5_col3 {\n",
              "  font-size: 9pt;\n",
              "  background-color: #f6f6f6;\n",
              "  color: #000000;\n",
              "}\n",
              "#T_3c769_row5_col4, #T_3c769_row7_col7 {\n",
              "  font-size: 9pt;\n",
              "  background-color: #f8f8f8;\n",
              "  color: #000000;\n",
              "}\n",
              "#T_3c769_row5_col10, #T_3c769_row10_col7 {\n",
              "  font-size: 9pt;\n",
              "  background-color: #e8e8e8;\n",
              "  color: #000000;\n",
              "}\n",
              "#T_3c769_row5_col11 {\n",
              "  font-size: 9pt;\n",
              "  background-color: #222222;\n",
              "  color: #f1f1f1;\n",
              "}\n",
              "#T_3c769_row5_col13, #T_3c769_row6_col12 {\n",
              "  font-size: 9pt;\n",
              "  background-color: #090909;\n",
              "  color: #f1f1f1;\n",
              "}\n",
              "#T_3c769_row5_col14 {\n",
              "  font-size: 9pt;\n",
              "  background-color: #d0d0d0;\n",
              "  color: #000000;\n",
              "}\n",
              "#T_3c769_row6_col10, #T_3c769_row7_col11, #T_3c769_row9_col6 {\n",
              "  font-size: 9pt;\n",
              "  background-color: #060606;\n",
              "  color: #f1f1f1;\n",
              "}\n",
              "#T_3c769_row6_col13 {\n",
              "  font-size: 9pt;\n",
              "  background-color: #979797;\n",
              "  color: #f1f1f1;\n",
              "}\n",
              "#T_3c769_row7_col8 {\n",
              "  font-size: 9pt;\n",
              "  background-color: #b6b6b6;\n",
              "  color: #000000;\n",
              "}\n",
              "#T_3c769_row7_col9 {\n",
              "  font-size: 9pt;\n",
              "  background-color: #252525;\n",
              "  color: #f1f1f1;\n",
              "}\n",
              "#T_3c769_row7_col12 {\n",
              "  font-size: 9pt;\n",
              "  background-color: #999999;\n",
              "  color: #f1f1f1;\n",
              "}\n",
              "#T_3c769_row8_col5 {\n",
              "  font-size: 9pt;\n",
              "  background-color: #f9f9f9;\n",
              "  color: #000000;\n",
              "}\n",
              "#T_3c769_row8_col7 {\n",
              "  font-size: 9pt;\n",
              "  background-color: #101010;\n",
              "  color: #f1f1f1;\n",
              "}\n",
              "#T_3c769_row8_col9, #T_3c769_row9_col9 {\n",
              "  font-size: 9pt;\n",
              "  background-color: #020202;\n",
              "  color: #f1f1f1;\n",
              "}\n",
              "#T_3c769_row8_col11 {\n",
              "  font-size: 9pt;\n",
              "  background-color: #545454;\n",
              "  color: #f1f1f1;\n",
              "}\n",
              "#T_3c769_row8_col12 {\n",
              "  font-size: 9pt;\n",
              "  background-color: #f1f1f1;\n",
              "  color: #000000;\n",
              "}\n",
              "#T_3c769_row9_col5 {\n",
              "  font-size: 9pt;\n",
              "  background-color: #f7f7f7;\n",
              "  color: #000000;\n",
              "}\n",
              "#T_3c769_row9_col7 {\n",
              "  font-size: 9pt;\n",
              "  background-color: #030303;\n",
              "  color: #f1f1f1;\n",
              "}\n",
              "#T_3c769_row9_col12 {\n",
              "  font-size: 9pt;\n",
              "  background-color: #181818;\n",
              "  color: #f1f1f1;\n",
              "}\n",
              "#T_3c769_row9_col13 {\n",
              "  font-size: 9pt;\n",
              "  background-color: #303030;\n",
              "  color: #f1f1f1;\n",
              "}\n",
              "#T_3c769_row9_col14 {\n",
              "  font-size: 9pt;\n",
              "  background-color: #a9a9a9;\n",
              "  color: #f1f1f1;\n",
              "}\n",
              "#T_3c769_row9_col15 {\n",
              "  font-size: 9pt;\n",
              "  background-color: #fefefe;\n",
              "  color: #000000;\n",
              "}\n",
              "#T_3c769_row10_col8, #T_3c769_row10_col9 {\n",
              "  font-size: 9pt;\n",
              "  background-color: #bababa;\n",
              "  color: #000000;\n",
              "}\n",
              "#T_3c769_row10_col10 {\n",
              "  font-size: 9pt;\n",
              "  background-color: #393939;\n",
              "  color: #f1f1f1;\n",
              "}\n",
              "</style>\n",
              "<table id=\"T_3c769_\" class=\"dataframe\">\n",
              "  <thead>\n",
              "    <tr>\n",
              "      <th class=\"blank level0\" >&nbsp;</th>\n",
              "      <th class=\"col_heading level0 col0\" >0</th>\n",
              "      <th class=\"col_heading level0 col1\" >1</th>\n",
              "      <th class=\"col_heading level0 col2\" >2</th>\n",
              "      <th class=\"col_heading level0 col3\" >3</th>\n",
              "      <th class=\"col_heading level0 col4\" >4</th>\n",
              "      <th class=\"col_heading level0 col5\" >5</th>\n",
              "      <th class=\"col_heading level0 col6\" >6</th>\n",
              "      <th class=\"col_heading level0 col7\" >7</th>\n",
              "      <th class=\"col_heading level0 col8\" >8</th>\n",
              "      <th class=\"col_heading level0 col9\" >9</th>\n",
              "      <th class=\"col_heading level0 col10\" >10</th>\n",
              "      <th class=\"col_heading level0 col11\" >11</th>\n",
              "      <th class=\"col_heading level0 col12\" >12</th>\n",
              "      <th class=\"col_heading level0 col13\" >13</th>\n",
              "      <th class=\"col_heading level0 col14\" >14</th>\n",
              "      <th class=\"col_heading level0 col15\" >15</th>\n",
              "      <th class=\"col_heading level0 col16\" >16</th>\n",
              "      <th class=\"col_heading level0 col17\" >17</th>\n",
              "    </tr>\n",
              "  </thead>\n",
              "  <tbody>\n",
              "    <tr>\n",
              "      <th id=\"T_3c769_level0_row0\" class=\"row_heading level0 row0\" >0</th>\n",
              "      <td id=\"T_3c769_row0_col0\" class=\"data row0 col0\" >0</td>\n",
              "      <td id=\"T_3c769_row0_col1\" class=\"data row0 col1\" >0</td>\n",
              "      <td id=\"T_3c769_row0_col2\" class=\"data row0 col2\" >0</td>\n",
              "      <td id=\"T_3c769_row0_col3\" class=\"data row0 col3\" >0</td>\n",
              "      <td id=\"T_3c769_row0_col4\" class=\"data row0 col4\" >0</td>\n",
              "      <td id=\"T_3c769_row0_col5\" class=\"data row0 col5\" >0</td>\n",
              "      <td id=\"T_3c769_row0_col6\" class=\"data row0 col6\" >0</td>\n",
              "      <td id=\"T_3c769_row0_col7\" class=\"data row0 col7\" >0</td>\n",
              "      <td id=\"T_3c769_row0_col8\" class=\"data row0 col8\" >0</td>\n",
              "      <td id=\"T_3c769_row0_col9\" class=\"data row0 col9\" >0</td>\n",
              "      <td id=\"T_3c769_row0_col10\" class=\"data row0 col10\" >0</td>\n",
              "      <td id=\"T_3c769_row0_col11\" class=\"data row0 col11\" >0</td>\n",
              "      <td id=\"T_3c769_row0_col12\" class=\"data row0 col12\" >0</td>\n",
              "      <td id=\"T_3c769_row0_col13\" class=\"data row0 col13\" >0</td>\n",
              "      <td id=\"T_3c769_row0_col14\" class=\"data row0 col14\" >0</td>\n",
              "      <td id=\"T_3c769_row0_col15\" class=\"data row0 col15\" >0</td>\n",
              "      <td id=\"T_3c769_row0_col16\" class=\"data row0 col16\" >0</td>\n",
              "      <td id=\"T_3c769_row0_col17\" class=\"data row0 col17\" >0</td>\n",
              "    </tr>\n",
              "    <tr>\n",
              "      <th id=\"T_3c769_level0_row1\" class=\"row_heading level0 row1\" >1</th>\n",
              "      <td id=\"T_3c769_row1_col0\" class=\"data row1 col0\" >0</td>\n",
              "      <td id=\"T_3c769_row1_col1\" class=\"data row1 col1\" >0</td>\n",
              "      <td id=\"T_3c769_row1_col2\" class=\"data row1 col2\" >0</td>\n",
              "      <td id=\"T_3c769_row1_col3\" class=\"data row1 col3\" >0</td>\n",
              "      <td id=\"T_3c769_row1_col4\" class=\"data row1 col4\" >0</td>\n",
              "      <td id=\"T_3c769_row1_col5\" class=\"data row1 col5\" >29</td>\n",
              "      <td id=\"T_3c769_row1_col6\" class=\"data row1 col6\" >150</td>\n",
              "      <td id=\"T_3c769_row1_col7\" class=\"data row1 col7\" >195</td>\n",
              "      <td id=\"T_3c769_row1_col8\" class=\"data row1 col8\" >254</td>\n",
              "      <td id=\"T_3c769_row1_col9\" class=\"data row1 col9\" >255</td>\n",
              "      <td id=\"T_3c769_row1_col10\" class=\"data row1 col10\" >254</td>\n",
              "      <td id=\"T_3c769_row1_col11\" class=\"data row1 col11\" >176</td>\n",
              "      <td id=\"T_3c769_row1_col12\" class=\"data row1 col12\" >193</td>\n",
              "      <td id=\"T_3c769_row1_col13\" class=\"data row1 col13\" >150</td>\n",
              "      <td id=\"T_3c769_row1_col14\" class=\"data row1 col14\" >96</td>\n",
              "      <td id=\"T_3c769_row1_col15\" class=\"data row1 col15\" >0</td>\n",
              "      <td id=\"T_3c769_row1_col16\" class=\"data row1 col16\" >0</td>\n",
              "      <td id=\"T_3c769_row1_col17\" class=\"data row1 col17\" >0</td>\n",
              "    </tr>\n",
              "    <tr>\n",
              "      <th id=\"T_3c769_level0_row2\" class=\"row_heading level0 row2\" >2</th>\n",
              "      <td id=\"T_3c769_row2_col0\" class=\"data row2 col0\" >0</td>\n",
              "      <td id=\"T_3c769_row2_col1\" class=\"data row2 col1\" >0</td>\n",
              "      <td id=\"T_3c769_row2_col2\" class=\"data row2 col2\" >0</td>\n",
              "      <td id=\"T_3c769_row2_col3\" class=\"data row2 col3\" >48</td>\n",
              "      <td id=\"T_3c769_row2_col4\" class=\"data row2 col4\" >166</td>\n",
              "      <td id=\"T_3c769_row2_col5\" class=\"data row2 col5\" >224</td>\n",
              "      <td id=\"T_3c769_row2_col6\" class=\"data row2 col6\" >253</td>\n",
              "      <td id=\"T_3c769_row2_col7\" class=\"data row2 col7\" >253</td>\n",
              "      <td id=\"T_3c769_row2_col8\" class=\"data row2 col8\" >234</td>\n",
              "      <td id=\"T_3c769_row2_col9\" class=\"data row2 col9\" >196</td>\n",
              "      <td id=\"T_3c769_row2_col10\" class=\"data row2 col10\" >253</td>\n",
              "      <td id=\"T_3c769_row2_col11\" class=\"data row2 col11\" >253</td>\n",
              "      <td id=\"T_3c769_row2_col12\" class=\"data row2 col12\" >253</td>\n",
              "      <td id=\"T_3c769_row2_col13\" class=\"data row2 col13\" >253</td>\n",
              "      <td id=\"T_3c769_row2_col14\" class=\"data row2 col14\" >233</td>\n",
              "      <td id=\"T_3c769_row2_col15\" class=\"data row2 col15\" >0</td>\n",
              "      <td id=\"T_3c769_row2_col16\" class=\"data row2 col16\" >0</td>\n",
              "      <td id=\"T_3c769_row2_col17\" class=\"data row2 col17\" >0</td>\n",
              "    </tr>\n",
              "    <tr>\n",
              "      <th id=\"T_3c769_level0_row3\" class=\"row_heading level0 row3\" >3</th>\n",
              "      <td id=\"T_3c769_row3_col0\" class=\"data row3 col0\" >0</td>\n",
              "      <td id=\"T_3c769_row3_col1\" class=\"data row3 col1\" >93</td>\n",
              "      <td id=\"T_3c769_row3_col2\" class=\"data row3 col2\" >244</td>\n",
              "      <td id=\"T_3c769_row3_col3\" class=\"data row3 col3\" >249</td>\n",
              "      <td id=\"T_3c769_row3_col4\" class=\"data row3 col4\" >253</td>\n",
              "      <td id=\"T_3c769_row3_col5\" class=\"data row3 col5\" >187</td>\n",
              "      <td id=\"T_3c769_row3_col6\" class=\"data row3 col6\" >46</td>\n",
              "      <td id=\"T_3c769_row3_col7\" class=\"data row3 col7\" >10</td>\n",
              "      <td id=\"T_3c769_row3_col8\" class=\"data row3 col8\" >8</td>\n",
              "      <td id=\"T_3c769_row3_col9\" class=\"data row3 col9\" >4</td>\n",
              "      <td id=\"T_3c769_row3_col10\" class=\"data row3 col10\" >10</td>\n",
              "      <td id=\"T_3c769_row3_col11\" class=\"data row3 col11\" >194</td>\n",
              "      <td id=\"T_3c769_row3_col12\" class=\"data row3 col12\" >253</td>\n",
              "      <td id=\"T_3c769_row3_col13\" class=\"data row3 col13\" >253</td>\n",
              "      <td id=\"T_3c769_row3_col14\" class=\"data row3 col14\" >233</td>\n",
              "      <td id=\"T_3c769_row3_col15\" class=\"data row3 col15\" >0</td>\n",
              "      <td id=\"T_3c769_row3_col16\" class=\"data row3 col16\" >0</td>\n",
              "      <td id=\"T_3c769_row3_col17\" class=\"data row3 col17\" >0</td>\n",
              "    </tr>\n",
              "    <tr>\n",
              "      <th id=\"T_3c769_level0_row4\" class=\"row_heading level0 row4\" >4</th>\n",
              "      <td id=\"T_3c769_row4_col0\" class=\"data row4 col0\" >0</td>\n",
              "      <td id=\"T_3c769_row4_col1\" class=\"data row4 col1\" >107</td>\n",
              "      <td id=\"T_3c769_row4_col2\" class=\"data row4 col2\" >253</td>\n",
              "      <td id=\"T_3c769_row4_col3\" class=\"data row4 col3\" >253</td>\n",
              "      <td id=\"T_3c769_row4_col4\" class=\"data row4 col4\" >230</td>\n",
              "      <td id=\"T_3c769_row4_col5\" class=\"data row4 col5\" >48</td>\n",
              "      <td id=\"T_3c769_row4_col6\" class=\"data row4 col6\" >0</td>\n",
              "      <td id=\"T_3c769_row4_col7\" class=\"data row4 col7\" >0</td>\n",
              "      <td id=\"T_3c769_row4_col8\" class=\"data row4 col8\" >0</td>\n",
              "      <td id=\"T_3c769_row4_col9\" class=\"data row4 col9\" >0</td>\n",
              "      <td id=\"T_3c769_row4_col10\" class=\"data row4 col10\" >0</td>\n",
              "      <td id=\"T_3c769_row4_col11\" class=\"data row4 col11\" >192</td>\n",
              "      <td id=\"T_3c769_row4_col12\" class=\"data row4 col12\" >253</td>\n",
              "      <td id=\"T_3c769_row4_col13\" class=\"data row4 col13\" >253</td>\n",
              "      <td id=\"T_3c769_row4_col14\" class=\"data row4 col14\" >156</td>\n",
              "      <td id=\"T_3c769_row4_col15\" class=\"data row4 col15\" >0</td>\n",
              "      <td id=\"T_3c769_row4_col16\" class=\"data row4 col16\" >0</td>\n",
              "      <td id=\"T_3c769_row4_col17\" class=\"data row4 col17\" >0</td>\n",
              "    </tr>\n",
              "    <tr>\n",
              "      <th id=\"T_3c769_level0_row5\" class=\"row_heading level0 row5\" >5</th>\n",
              "      <td id=\"T_3c769_row5_col0\" class=\"data row5 col0\" >0</td>\n",
              "      <td id=\"T_3c769_row5_col1\" class=\"data row5 col1\" >3</td>\n",
              "      <td id=\"T_3c769_row5_col2\" class=\"data row5 col2\" >20</td>\n",
              "      <td id=\"T_3c769_row5_col3\" class=\"data row5 col3\" >20</td>\n",
              "      <td id=\"T_3c769_row5_col4\" class=\"data row5 col4\" >15</td>\n",
              "      <td id=\"T_3c769_row5_col5\" class=\"data row5 col5\" >0</td>\n",
              "      <td id=\"T_3c769_row5_col6\" class=\"data row5 col6\" >0</td>\n",
              "      <td id=\"T_3c769_row5_col7\" class=\"data row5 col7\" >0</td>\n",
              "      <td id=\"T_3c769_row5_col8\" class=\"data row5 col8\" >0</td>\n",
              "      <td id=\"T_3c769_row5_col9\" class=\"data row5 col9\" >0</td>\n",
              "      <td id=\"T_3c769_row5_col10\" class=\"data row5 col10\" >43</td>\n",
              "      <td id=\"T_3c769_row5_col11\" class=\"data row5 col11\" >224</td>\n",
              "      <td id=\"T_3c769_row5_col12\" class=\"data row5 col12\" >253</td>\n",
              "      <td id=\"T_3c769_row5_col13\" class=\"data row5 col13\" >245</td>\n",
              "      <td id=\"T_3c769_row5_col14\" class=\"data row5 col14\" >74</td>\n",
              "      <td id=\"T_3c769_row5_col15\" class=\"data row5 col15\" >0</td>\n",
              "      <td id=\"T_3c769_row5_col16\" class=\"data row5 col16\" >0</td>\n",
              "      <td id=\"T_3c769_row5_col17\" class=\"data row5 col17\" >0</td>\n",
              "    </tr>\n",
              "    <tr>\n",
              "      <th id=\"T_3c769_level0_row6\" class=\"row_heading level0 row6\" >6</th>\n",
              "      <td id=\"T_3c769_row6_col0\" class=\"data row6 col0\" >0</td>\n",
              "      <td id=\"T_3c769_row6_col1\" class=\"data row6 col1\" >0</td>\n",
              "      <td id=\"T_3c769_row6_col2\" class=\"data row6 col2\" >0</td>\n",
              "      <td id=\"T_3c769_row6_col3\" class=\"data row6 col3\" >0</td>\n",
              "      <td id=\"T_3c769_row6_col4\" class=\"data row6 col4\" >0</td>\n",
              "      <td id=\"T_3c769_row6_col5\" class=\"data row6 col5\" >0</td>\n",
              "      <td id=\"T_3c769_row6_col6\" class=\"data row6 col6\" >0</td>\n",
              "      <td id=\"T_3c769_row6_col7\" class=\"data row6 col7\" >0</td>\n",
              "      <td id=\"T_3c769_row6_col8\" class=\"data row6 col8\" >0</td>\n",
              "      <td id=\"T_3c769_row6_col9\" class=\"data row6 col9\" >0</td>\n",
              "      <td id=\"T_3c769_row6_col10\" class=\"data row6 col10\" >249</td>\n",
              "      <td id=\"T_3c769_row6_col11\" class=\"data row6 col11\" >253</td>\n",
              "      <td id=\"T_3c769_row6_col12\" class=\"data row6 col12\" >245</td>\n",
              "      <td id=\"T_3c769_row6_col13\" class=\"data row6 col13\" >126</td>\n",
              "      <td id=\"T_3c769_row6_col14\" class=\"data row6 col14\" >0</td>\n",
              "      <td id=\"T_3c769_row6_col15\" class=\"data row6 col15\" >0</td>\n",
              "      <td id=\"T_3c769_row6_col16\" class=\"data row6 col16\" >0</td>\n",
              "      <td id=\"T_3c769_row6_col17\" class=\"data row6 col17\" >0</td>\n",
              "    </tr>\n",
              "    <tr>\n",
              "      <th id=\"T_3c769_level0_row7\" class=\"row_heading level0 row7\" >7</th>\n",
              "      <td id=\"T_3c769_row7_col0\" class=\"data row7 col0\" >0</td>\n",
              "      <td id=\"T_3c769_row7_col1\" class=\"data row7 col1\" >0</td>\n",
              "      <td id=\"T_3c769_row7_col2\" class=\"data row7 col2\" >0</td>\n",
              "      <td id=\"T_3c769_row7_col3\" class=\"data row7 col3\" >0</td>\n",
              "      <td id=\"T_3c769_row7_col4\" class=\"data row7 col4\" >0</td>\n",
              "      <td id=\"T_3c769_row7_col5\" class=\"data row7 col5\" >0</td>\n",
              "      <td id=\"T_3c769_row7_col6\" class=\"data row7 col6\" >0</td>\n",
              "      <td id=\"T_3c769_row7_col7\" class=\"data row7 col7\" >14</td>\n",
              "      <td id=\"T_3c769_row7_col8\" class=\"data row7 col8\" >101</td>\n",
              "      <td id=\"T_3c769_row7_col9\" class=\"data row7 col9\" >223</td>\n",
              "      <td id=\"T_3c769_row7_col10\" class=\"data row7 col10\" >253</td>\n",
              "      <td id=\"T_3c769_row7_col11\" class=\"data row7 col11\" >248</td>\n",
              "      <td id=\"T_3c769_row7_col12\" class=\"data row7 col12\" >124</td>\n",
              "      <td id=\"T_3c769_row7_col13\" class=\"data row7 col13\" >0</td>\n",
              "      <td id=\"T_3c769_row7_col14\" class=\"data row7 col14\" >0</td>\n",
              "      <td id=\"T_3c769_row7_col15\" class=\"data row7 col15\" >0</td>\n",
              "      <td id=\"T_3c769_row7_col16\" class=\"data row7 col16\" >0</td>\n",
              "      <td id=\"T_3c769_row7_col17\" class=\"data row7 col17\" >0</td>\n",
              "    </tr>\n",
              "    <tr>\n",
              "      <th id=\"T_3c769_level0_row8\" class=\"row_heading level0 row8\" >8</th>\n",
              "      <td id=\"T_3c769_row8_col0\" class=\"data row8 col0\" >0</td>\n",
              "      <td id=\"T_3c769_row8_col1\" class=\"data row8 col1\" >0</td>\n",
              "      <td id=\"T_3c769_row8_col2\" class=\"data row8 col2\" >0</td>\n",
              "      <td id=\"T_3c769_row8_col3\" class=\"data row8 col3\" >0</td>\n",
              "      <td id=\"T_3c769_row8_col4\" class=\"data row8 col4\" >0</td>\n",
              "      <td id=\"T_3c769_row8_col5\" class=\"data row8 col5\" >11</td>\n",
              "      <td id=\"T_3c769_row8_col6\" class=\"data row8 col6\" >166</td>\n",
              "      <td id=\"T_3c769_row8_col7\" class=\"data row8 col7\" >239</td>\n",
              "      <td id=\"T_3c769_row8_col8\" class=\"data row8 col8\" >253</td>\n",
              "      <td id=\"T_3c769_row8_col9\" class=\"data row8 col9\" >253</td>\n",
              "      <td id=\"T_3c769_row8_col10\" class=\"data row8 col10\" >253</td>\n",
              "      <td id=\"T_3c769_row8_col11\" class=\"data row8 col11\" >187</td>\n",
              "      <td id=\"T_3c769_row8_col12\" class=\"data row8 col12\" >30</td>\n",
              "      <td id=\"T_3c769_row8_col13\" class=\"data row8 col13\" >0</td>\n",
              "      <td id=\"T_3c769_row8_col14\" class=\"data row8 col14\" >0</td>\n",
              "      <td id=\"T_3c769_row8_col15\" class=\"data row8 col15\" >0</td>\n",
              "      <td id=\"T_3c769_row8_col16\" class=\"data row8 col16\" >0</td>\n",
              "      <td id=\"T_3c769_row8_col17\" class=\"data row8 col17\" >0</td>\n",
              "    </tr>\n",
              "    <tr>\n",
              "      <th id=\"T_3c769_level0_row9\" class=\"row_heading level0 row9\" >9</th>\n",
              "      <td id=\"T_3c769_row9_col0\" class=\"data row9 col0\" >0</td>\n",
              "      <td id=\"T_3c769_row9_col1\" class=\"data row9 col1\" >0</td>\n",
              "      <td id=\"T_3c769_row9_col2\" class=\"data row9 col2\" >0</td>\n",
              "      <td id=\"T_3c769_row9_col3\" class=\"data row9 col3\" >0</td>\n",
              "      <td id=\"T_3c769_row9_col4\" class=\"data row9 col4\" >0</td>\n",
              "      <td id=\"T_3c769_row9_col5\" class=\"data row9 col5\" >16</td>\n",
              "      <td id=\"T_3c769_row9_col6\" class=\"data row9 col6\" >248</td>\n",
              "      <td id=\"T_3c769_row9_col7\" class=\"data row9 col7\" >250</td>\n",
              "      <td id=\"T_3c769_row9_col8\" class=\"data row9 col8\" >253</td>\n",
              "      <td id=\"T_3c769_row9_col9\" class=\"data row9 col9\" >253</td>\n",
              "      <td id=\"T_3c769_row9_col10\" class=\"data row9 col10\" >253</td>\n",
              "      <td id=\"T_3c769_row9_col11\" class=\"data row9 col11\" >253</td>\n",
              "      <td id=\"T_3c769_row9_col12\" class=\"data row9 col12\" >232</td>\n",
              "      <td id=\"T_3c769_row9_col13\" class=\"data row9 col13\" >213</td>\n",
              "      <td id=\"T_3c769_row9_col14\" class=\"data row9 col14\" >111</td>\n",
              "      <td id=\"T_3c769_row9_col15\" class=\"data row9 col15\" >2</td>\n",
              "      <td id=\"T_3c769_row9_col16\" class=\"data row9 col16\" >0</td>\n",
              "      <td id=\"T_3c769_row9_col17\" class=\"data row9 col17\" >0</td>\n",
              "    </tr>\n",
              "    <tr>\n",
              "      <th id=\"T_3c769_level0_row10\" class=\"row_heading level0 row10\" >10</th>\n",
              "      <td id=\"T_3c769_row10_col0\" class=\"data row10 col0\" >0</td>\n",
              "      <td id=\"T_3c769_row10_col1\" class=\"data row10 col1\" >0</td>\n",
              "      <td id=\"T_3c769_row10_col2\" class=\"data row10 col2\" >0</td>\n",
              "      <td id=\"T_3c769_row10_col3\" class=\"data row10 col3\" >0</td>\n",
              "      <td id=\"T_3c769_row10_col4\" class=\"data row10 col4\" >0</td>\n",
              "      <td id=\"T_3c769_row10_col5\" class=\"data row10 col5\" >0</td>\n",
              "      <td id=\"T_3c769_row10_col6\" class=\"data row10 col6\" >0</td>\n",
              "      <td id=\"T_3c769_row10_col7\" class=\"data row10 col7\" >43</td>\n",
              "      <td id=\"T_3c769_row10_col8\" class=\"data row10 col8\" >98</td>\n",
              "      <td id=\"T_3c769_row10_col9\" class=\"data row10 col9\" >98</td>\n",
              "      <td id=\"T_3c769_row10_col10\" class=\"data row10 col10\" >208</td>\n",
              "      <td id=\"T_3c769_row10_col11\" class=\"data row10 col11\" >253</td>\n",
              "      <td id=\"T_3c769_row10_col12\" class=\"data row10 col12\" >253</td>\n",
              "      <td id=\"T_3c769_row10_col13\" class=\"data row10 col13\" >253</td>\n",
              "      <td id=\"T_3c769_row10_col14\" class=\"data row10 col14\" >253</td>\n",
              "      <td id=\"T_3c769_row10_col15\" class=\"data row10 col15\" >187</td>\n",
              "      <td id=\"T_3c769_row10_col16\" class=\"data row10 col16\" >22</td>\n",
              "      <td id=\"T_3c769_row10_col17\" class=\"data row10 col17\" >0</td>\n",
              "    </tr>\n",
              "  </tbody>\n",
              "</table>\n"
            ],
            "text/plain": [
              "<pandas.io.formats.style.Styler at 0x7f4b8eace590>"
            ]
          },
          "metadata": {},
          "execution_count": 13
        }
      ]
    },
    {
      "cell_type": "code",
      "source": [
        "seven_tensors = [tensor(Image.open(o)) for o in sevens]\n",
        "three_tensors = [tensor(Image.open(o)) for o in threes]\n",
        "len(seven_tensors), len(three_tensors)"
      ],
      "metadata": {
        "colab": {
          "base_uri": "https://localhost:8080/"
        },
        "id": "gE8pl1H2TLt1",
        "outputId": "6f556492-f1e1-40ac-95e6-e1ad8b0ba4bd"
      },
      "execution_count": null,
      "outputs": [
        {
          "output_type": "execute_result",
          "data": {
            "text/plain": [
              "(6265, 6131)"
            ]
          },
          "metadata": {},
          "execution_count": 14
        }
      ]
    },
    {
      "cell_type": "code",
      "source": [
        "matplotlib.rc('image', cmap='Greys')"
      ],
      "metadata": {
        "id": "UbjQmVXoEqYH"
      },
      "execution_count": null,
      "outputs": []
    },
    {
      "cell_type": "code",
      "source": [
        "show_image(three_tensors[1]);"
      ],
      "metadata": {
        "colab": {
          "base_uri": "https://localhost:8080/",
          "height": 85
        },
        "id": "ZlHlhl6XbowW",
        "outputId": "ae70423c-8079-4072-f14a-375eb96b26a0"
      },
      "execution_count": null,
      "outputs": [
        {
          "output_type": "display_data",
          "data": {
            "image/png": "[encoded data removed]",
            "text/plain": [
              "<Figure size 72x72 with 1 Axes>"
            ]
          },
          "metadata": {
            "needs_background": "light"
          }
        }
      ]
    },
    {
      "cell_type": "code",
      "source": [
        "stacked_sevens = torch.stack(seven_tensors).float()/255\n",
        "stacked_threes = torch.stack(three_tensors).float()/255"
      ],
      "metadata": {
        "id": "genSg_Y2dYBS"
      },
      "execution_count": null,
      "outputs": []
    },
    {
      "cell_type": "code",
      "source": [
        "stacked_sevens.shape"
      ],
      "metadata": {
        "colab": {
          "base_uri": "https://localhost:8080/"
        },
        "id": "Gt81ORYK1M-2",
        "outputId": "7c96d81c-ebe7-4030-dcd2-ef1bbb9e9400"
      },
      "execution_count": null,
      "outputs": [
        {
          "output_type": "execute_result",
          "data": {
            "text/plain": [
              "torch.Size([6265, 28, 28])"
            ]
          },
          "metadata": {},
          "execution_count": 18
        }
      ]
    },
    {
      "cell_type": "code",
      "source": [
        "len(stacked_sevens.shape)"
      ],
      "metadata": {
        "colab": {
          "base_uri": "https://localhost:8080/"
        },
        "id": "wDC4vRSo4XRt",
        "outputId": "f013d9c0-6a35-40b6-fc7c-19d071d2d51e"
      },
      "execution_count": null,
      "outputs": [
        {
          "output_type": "execute_result",
          "data": {
            "text/plain": [
              "3"
            ]
          },
          "metadata": {},
          "execution_count": 19
        }
      ]
    },
    {
      "cell_type": "code",
      "source": [
        "stacked_threes.ndim"
      ],
      "metadata": {
        "colab": {
          "base_uri": "https://localhost:8080/"
        },
        "id": "_7WtBLGw466O",
        "outputId": "efff1758-ff13-41bc-cdf6-1d0a9b173aaa"
      },
      "execution_count": null,
      "outputs": [
        {
          "output_type": "execute_result",
          "data": {
            "text/plain": [
              "3"
            ]
          },
          "metadata": {},
          "execution_count": 20
        }
      ]
    },
    {
      "cell_type": "code",
      "source": [
        "mean3 = stacked_threes.mean(0)\n",
        "show_image(mean3);"
      ],
      "metadata": {
        "colab": {
          "base_uri": "https://localhost:8080/",
          "height": 85
        },
        "id": "VA4bv92960aQ",
        "outputId": "abe332f8-55da-4150-dd06-ee83813f2fe3"
      },
      "execution_count": null,
      "outputs": [
        {
          "output_type": "display_data",
          "data": {
            "image/png": "[encoded data removed]",
            "text/plain": [
              "<Figure size 72x72 with 1 Axes>"
            ]
          },
          "metadata": {
            "needs_background": "light"
          }
        }
      ]
    },
    {
      "cell_type": "code",
      "source": [
        "mean7 = stacked_sevens.mean(0)\n",
        "show_image(mean7);"
      ],
      "metadata": {
        "colab": {
          "base_uri": "https://localhost:8080/",
          "height": 85
        },
        "id": "XOyPmXZw7qLv",
        "outputId": "605a2316-540c-42fd-9d40-0a5bbdd3234e"
      },
      "execution_count": null,
      "outputs": [
        {
          "output_type": "display_data",
          "data": {
            "image/png": "[encoded data removed]",
            "text/plain": [
              "<Figure size 72x72 with 1 Axes>"
            ]
          },
          "metadata": {
            "needs_background": "light"
          }
        }
      ]
    },
    {
      "cell_type": "code",
      "source": [
        "a_3 = stacked_threes[1]\n",
        "show_image(a_3);"
      ],
      "metadata": {
        "colab": {
          "base_uri": "https://localhost:8080/",
          "height": 85
        },
        "id": "MSBGR4BEKLSv",
        "outputId": "64ea42e6-c38b-4c45-d5ad-207b2741f309"
      },
      "execution_count": null,
      "outputs": [
        {
          "output_type": "display_data",
          "data": {
            "image/png": "[encoded data removed]",
            "text/plain": [
              "<Figure size 72x72 with 1 Axes>"
            ]
          },
          "metadata": {
            "needs_background": "light"
          }
        }
      ]
    },
    {
      "cell_type": "code",
      "source": [
        "dist_3_abs = (a_3 - mean3).abs().mean()\n",
        "dist_3_sqr = ((a_3 - mean3)**2).mean().sqrt()\n",
        "dist_3_abs, dist_3_sqr"
      ],
      "metadata": {
        "colab": {
          "base_uri": "https://localhost:8080/"
        },
        "id": "ZkvDrvdhFLuK",
        "outputId": "6f542a80-eba3-4af8-e6cf-aa60898b1d0d"
      },
      "execution_count": null,
      "outputs": [
        {
          "output_type": "execute_result",
          "data": {
            "text/plain": [
              "(tensor(0.1114), tensor(0.2021))"
            ]
          },
          "metadata": {},
          "execution_count": 24
        }
      ]
    },
    {
      "cell_type": "code",
      "source": [
        "dist_7_abs = (a_3 - mean7).abs().mean()\n",
        "dist_7_sqr = ((a_3 - mean7)**2).mean().sqrt()\n",
        "dist_7_abs, dist_7_sqr"
      ],
      "metadata": {
        "colab": {
          "base_uri": "https://localhost:8080/"
        },
        "id": "pj-CkWW4KrCk",
        "outputId": "c7e6d0ba-229f-4fcf-f067-29ec4af3840d"
      },
      "execution_count": null,
      "outputs": [
        {
          "output_type": "execute_result",
          "data": {
            "text/plain": [
              "(tensor(0.1586), tensor(0.3021))"
            ]
          },
          "metadata": {},
          "execution_count": 25
        }
      ]
    },
    {
      "cell_type": "code",
      "source": [
        "F.l1_loss(a_3.float(),mean3), F.mse_loss(a_3.float(),mean3).sqrt()"
      ],
      "metadata": {
        "colab": {
          "base_uri": "https://localhost:8080/"
        },
        "id": "PSVtySKALB93",
        "outputId": "edbfbfa2-d4fe-469e-dd13-953420fd5dfc"
      },
      "execution_count": null,
      "outputs": [
        {
          "output_type": "execute_result",
          "data": {
            "text/plain": [
              "(tensor(0.1114), tensor(0.2021))"
            ]
          },
          "metadata": {},
          "execution_count": 26
        }
      ]
    },
    {
      "cell_type": "code",
      "source": [
        "data = [[1,2,3],[4,5,6]]\n",
        "arr = array(data)\n",
        "tns = tensor(data)"
      ],
      "metadata": {
        "id": "gh7BEcqdMCSP"
      },
      "execution_count": null,
      "outputs": []
    },
    {
      "cell_type": "code",
      "source": [
        "arr"
      ],
      "metadata": {
        "colab": {
          "base_uri": "https://localhost:8080/"
        },
        "id": "-PGKEng5CMbk",
        "outputId": "8346e013-c986-4991-ac02-217f04316e01"
      },
      "execution_count": null,
      "outputs": [
        {
          "output_type": "execute_result",
          "data": {
            "text/plain": [
              "array([[1, 2, 3],\n",
              "       [4, 5, 6]])"
            ]
          },
          "metadata": {},
          "execution_count": 28
        }
      ]
    },
    {
      "cell_type": "code",
      "source": [
        "tns"
      ],
      "metadata": {
        "colab": {
          "base_uri": "https://localhost:8080/"
        },
        "id": "0VaDoybHCNjV",
        "outputId": "0385bbfa-02d6-49ed-9f91-eb551492cccc"
      },
      "execution_count": null,
      "outputs": [
        {
          "output_type": "execute_result",
          "data": {
            "text/plain": [
              "tensor([[1, 2, 3],\n",
              "        [4, 5, 6]])"
            ]
          },
          "metadata": {},
          "execution_count": 29
        }
      ]
    },
    {
      "cell_type": "code",
      "source": [
        "tns[1]"
      ],
      "metadata": {
        "colab": {
          "base_uri": "https://localhost:8080/"
        },
        "id": "IGSQieQaCOSY",
        "outputId": "7c2c552a-01e2-4d28-f514-41fbad4c8312"
      },
      "execution_count": null,
      "outputs": [
        {
          "output_type": "execute_result",
          "data": {
            "text/plain": [
              "tensor([4, 5, 6])"
            ]
          },
          "metadata": {},
          "execution_count": 30
        }
      ]
    },
    {
      "cell_type": "code",
      "source": [
        "tns[:,1]"
      ],
      "metadata": {
        "colab": {
          "base_uri": "https://localhost:8080/"
        },
        "id": "eqZk3C98DOlA",
        "outputId": "f1974e4c-0767-452c-814d-53da59482442"
      },
      "execution_count": null,
      "outputs": [
        {
          "output_type": "execute_result",
          "data": {
            "text/plain": [
              "tensor([2, 5])"
            ]
          },
          "metadata": {},
          "execution_count": 31
        }
      ]
    },
    {
      "cell_type": "code",
      "source": [
        "tns[1,1:3]"
      ],
      "metadata": {
        "colab": {
          "base_uri": "https://localhost:8080/"
        },
        "id": "Xixolxr2DbAj",
        "outputId": "85cf37cf-8802-4f02-b54c-37675f16f4b9"
      },
      "execution_count": null,
      "outputs": [
        {
          "output_type": "execute_result",
          "data": {
            "text/plain": [
              "tensor([5, 6])"
            ]
          },
          "metadata": {},
          "execution_count": 32
        }
      ]
    },
    {
      "cell_type": "code",
      "source": [
        "tns+1"
      ],
      "metadata": {
        "colab": {
          "base_uri": "https://localhost:8080/"
        },
        "id": "8eM0cNHmD2AG",
        "outputId": "37b3bd47-3acc-441a-b0f1-d47b6b8ec276"
      },
      "execution_count": null,
      "outputs": [
        {
          "output_type": "execute_result",
          "data": {
            "text/plain": [
              "tensor([[2, 3, 4],\n",
              "        [5, 6, 7]])"
            ]
          },
          "metadata": {},
          "execution_count": 33
        }
      ]
    },
    {
      "cell_type": "code",
      "source": [
        "tns.type()"
      ],
      "metadata": {
        "colab": {
          "base_uri": "https://localhost:8080/",
          "height": 35
        },
        "id": "JKazJnzPD7RH",
        "outputId": "623c6a12-c08d-42ac-f3bb-c5c73354a701"
      },
      "execution_count": null,
      "outputs": [
        {
          "output_type": "execute_result",
          "data": {
            "application/vnd.google.colaboratory.intrinsic+json": {
              "type": "string"
            },
            "text/plain": [
              "'torch.LongTensor'"
            ]
          },
          "metadata": {},
          "execution_count": 34
        }
      ]
    },
    {
      "cell_type": "code",
      "source": [
        "type(tns)"
      ],
      "metadata": {
        "colab": {
          "base_uri": "https://localhost:8080/"
        },
        "id": "V_gLLn4XEHit",
        "outputId": "3445fdd2-453b-417f-c404-6478aa3a6afa"
      },
      "execution_count": null,
      "outputs": [
        {
          "output_type": "execute_result",
          "data": {
            "text/plain": [
              "torch.Tensor"
            ]
          },
          "metadata": {},
          "execution_count": 35
        }
      ]
    },
    {
      "cell_type": "code",
      "source": [
        "tns*1.5"
      ],
      "metadata": {
        "colab": {
          "base_uri": "https://localhost:8080/"
        },
        "id": "iqQSixA6EJYk",
        "outputId": "1aa59c61-d00e-434d-9c3d-6e13d4f3d7b6"
      },
      "execution_count": null,
      "outputs": [
        {
          "output_type": "execute_result",
          "data": {
            "text/plain": [
              "tensor([[1.5000, 3.0000, 4.5000],\n",
              "        [6.0000, 7.5000, 9.0000]])"
            ]
          },
          "metadata": {},
          "execution_count": 36
        }
      ]
    },
    {
      "cell_type": "code",
      "source": [
        "tns*1.0"
      ],
      "metadata": {
        "colab": {
          "base_uri": "https://localhost:8080/"
        },
        "id": "MfsJTig1EQng",
        "outputId": "fbd54369-9495-422f-c23f-f915f611fb19"
      },
      "execution_count": null,
      "outputs": [
        {
          "output_type": "execute_result",
          "data": {
            "text/plain": [
              "tensor([[1., 2., 3.],\n",
              "        [4., 5., 6.]])"
            ]
          },
          "metadata": {},
          "execution_count": 37
        }
      ]
    },
    {
      "cell_type": "code",
      "source": [
        "tns/2"
      ],
      "metadata": {
        "colab": {
          "base_uri": "https://localhost:8080/"
        },
        "id": "BSS7NJQxEXAe",
        "outputId": "1babddfe-483f-4798-f9c6-7f23311ba1f3"
      },
      "execution_count": null,
      "outputs": [
        {
          "output_type": "execute_result",
          "data": {
            "text/plain": [
              "tensor([[0.5000, 1.0000, 1.5000],\n",
              "        [2.0000, 2.5000, 3.0000]])"
            ]
          },
          "metadata": {},
          "execution_count": 38
        }
      ]
    },
    {
      "cell_type": "code",
      "source": [
        "valid_3_tns = torch.stack([tensor(Image.open(o)) for o in (path/'valid'/'3').ls()])\n",
        "valid_3_tns = valid_3_tns.float()/255\n",
        "\n",
        "valid_7_tns = torch.stack([tensor(Image.open(o)) for o in (path/'valid'/'7').ls()])\n",
        "valid_7_tns = valid_7_tns.float()/255\n",
        "\n",
        "valid_3_tns.shape, valid_7_tns.shape"
      ],
      "metadata": {
        "colab": {
          "base_uri": "https://localhost:8080/"
        },
        "id": "WopixYdXGV0I",
        "outputId": "9a59eff9-5482-4347-9ecb-490ae3a2965f"
      },
      "execution_count": null,
      "outputs": [
        {
          "output_type": "execute_result",
          "data": {
            "text/plain": [
              "(torch.Size([1010, 28, 28]), torch.Size([1028, 28, 28]))"
            ]
          },
          "metadata": {},
          "execution_count": 39
        }
      ]
    },
    {
      "cell_type": "code",
      "source": [
        "def mnist_distance(a,b): return (a-b).abs().mean((-1,-2))"
      ],
      "metadata": {
        "id": "oTkNoOpWIBg5"
      },
      "execution_count": null,
      "outputs": []
    },
    {
      "cell_type": "code",
      "source": [
        "mnist_distance(a_3, mean3)"
      ],
      "metadata": {
        "colab": {
          "base_uri": "https://localhost:8080/"
        },
        "id": "3pN-m9U6KweA",
        "outputId": "55ea35e3-9416-4eba-c9e8-97fb2dded4e7"
      },
      "execution_count": null,
      "outputs": [
        {
          "output_type": "execute_result",
          "data": {
            "text/plain": [
              "tensor(0.1114)"
            ]
          },
          "metadata": {},
          "execution_count": 41
        }
      ]
    },
    {
      "cell_type": "code",
      "source": [
        "valid_3_dist = mnist_distance(valid_3_tns,mean3)  \n",
        "valid_3_dist, valid_3_dist.shape"
      ],
      "metadata": {
        "colab": {
          "base_uri": "https://localhost:8080/"
        },
        "id": "ddSBUfnqK2eb",
        "outputId": "6726fedb-22c0-4abf-a30c-d90535791119"
      },
      "execution_count": null,
      "outputs": [
        {
          "output_type": "execute_result",
          "data": {
            "text/plain": [
              "(tensor([0.1321, 0.1199, 0.1181,  ..., 0.1287, 0.1321, 0.1169]),\n",
              " torch.Size([1010]))"
            ]
          },
          "metadata": {},
          "execution_count": 42
        }
      ]
    },
    {
      "cell_type": "code",
      "source": [
        "def is_3(x): return mnist_distance(x,mean3) < mnist_distance(x,mean7)"
      ],
      "metadata": {
        "id": "FtcwS_uZSUOt"
      },
      "execution_count": null,
      "outputs": []
    },
    {
      "cell_type": "code",
      "source": [
        "is_3(a_3), is_3(a_3).float()"
      ],
      "metadata": {
        "colab": {
          "base_uri": "https://localhost:8080/"
        },
        "id": "NSuwk_BgUfiO",
        "outputId": "a6733a6d-a0fe-42d1-8e6d-57600045f50e"
      },
      "execution_count": null,
      "outputs": [
        {
          "output_type": "execute_result",
          "data": {
            "text/plain": [
              "(tensor(True), tensor(1.))"
            ]
          },
          "metadata": {},
          "execution_count": 44
        }
      ]
    },
    {
      "cell_type": "code",
      "source": [
        "is_3(valid_3_tns)"
      ],
      "metadata": {
        "colab": {
          "base_uri": "https://localhost:8080/"
        },
        "id": "JOgrhQFeUsM2",
        "outputId": "d7a41130-c8f5-4ea5-dd4c-08771a33eadb"
      },
      "execution_count": null,
      "outputs": [
        {
          "output_type": "execute_result",
          "data": {
            "text/plain": [
              "tensor([ True,  True,  True,  ..., False,  True,  True])"
            ]
          },
          "metadata": {},
          "execution_count": 45
        }
      ]
    },
    {
      "cell_type": "code",
      "source": [
        "accuracy_3s = is_3(valid_3_tns).float().mean()\n",
        "accuracy_7s = (1 - is_3(valid_7_tns).float()).mean()\n",
        "\n",
        "accuracy_3s, accuracy_7s, (accuracy_3s+accuracy_7s)/2"
      ],
      "metadata": {
        "colab": {
          "base_uri": "https://localhost:8080/"
        },
        "id": "MAI5UhY8U9_q",
        "outputId": "49c38e7d-8151-45ba-c77f-0782ce3046ea"
      },
      "execution_count": null,
      "outputs": [
        {
          "output_type": "execute_result",
          "data": {
            "text/plain": [
              "(tensor(0.9168), tensor(0.9854), tensor(0.9511))"
            ]
          },
          "metadata": {},
          "execution_count": 46
        }
      ]
    },
    {
      "cell_type": "markdown",
      "source": [
        "#SGD"
      ],
      "metadata": {
        "id": "fQAPpQEybrCV"
      }
    },
    {
      "cell_type": "code",
      "source": [
        "def f(x): return x**2"
      ],
      "metadata": {
        "id": "o9gE0w3KbuF_"
      },
      "execution_count": null,
      "outputs": []
    },
    {
      "cell_type": "code",
      "source": [
        "plot_function(f, 'x', 'x**2');"
      ],
      "metadata": {
        "colab": {
          "base_uri": "https://localhost:8080/",
          "height": 334
        },
        "id": "b1VYOD-Qbz1Q",
        "outputId": "da4781d5-4c76-42df-9ede-ba0bde598ff2"
      },
      "execution_count": null,
      "outputs": [
        {
          "output_type": "stream",
          "name": "stderr",
          "text": [
            "/usr/local/lib/python3.7/dist-packages/fastbook/__init__.py:74: UserWarning: Not providing a value for linspace's steps is deprecated and will throw a runtime error in a future release. This warning will appear only once per process. (Triggered internally at  ../aten/src/ATen/native/RangeFactories.cpp:23.)\n",
            "  x = torch.linspace(min,max)\n"
          ]
        },
        {
          "output_type": "display_data",
          "data": {
            "image/png": "[encoded data removed]",
            "text/plain": [
              "<Figure size 432x288 with 1 Axes>"
            ]
          },
          "metadata": {
            "needs_background": "light"
          }
        }
      ]
    },
    {
      "cell_type": "code",
      "source": [
        "plot_function(f, 'x', 'x**2')\n",
        "plt.scatter(-1.5, f(1.5), color='red');"
      ],
      "metadata": {
        "colab": {
          "base_uri": "https://localhost:8080/",
          "height": 279
        },
        "id": "luaZ3L1db5TU",
        "outputId": "da183fe7-4d9e-4ac1-9868-b9681bdfea3e"
      },
      "execution_count": null,
      "outputs": [
        {
          "output_type": "display_data",
          "data": {
            "image/png": "[encoded data removed]",
            "text/plain": [
              "<Figure size 432x288 with 1 Axes>"
            ]
          },
          "metadata": {
            "needs_background": "light"
          }
        }
      ]
    },
    {
      "cell_type": "code",
      "source": [
        "xt = tensor(3.).requires_grad_()  "
      ],
      "metadata": {
        "id": "EllP59FicTXN"
      },
      "execution_count": null,
      "outputs": []
    },
    {
      "cell_type": "code",
      "source": [
        "yt = f(xt)\n",
        "yt"
      ],
      "metadata": {
        "id": "j-gcSjJgdLAj",
        "colab": {
          "base_uri": "https://localhost:8080/"
        },
        "outputId": "4e18988e-e1dc-4c21-e515-e0c7262a947d"
      },
      "execution_count": null,
      "outputs": [
        {
          "output_type": "execute_result",
          "data": {
            "text/plain": [
              "tensor(9., grad_fn=<PowBackward0>)"
            ]
          },
          "metadata": {},
          "execution_count": 51
        }
      ]
    },
    {
      "cell_type": "code",
      "source": [
        "yt.backward()"
      ],
      "metadata": {
        "id": "oDZjrO2VYNt-"
      },
      "execution_count": null,
      "outputs": []
    },
    {
      "cell_type": "code",
      "source": [
        "xt.grad"
      ],
      "metadata": {
        "colab": {
          "base_uri": "https://localhost:8080/"
        },
        "id": "JZHW2AqpYlbr",
        "outputId": "c7392300-9929-4c28-9c49-4bcfd56446ef"
      },
      "execution_count": null,
      "outputs": [
        {
          "output_type": "execute_result",
          "data": {
            "text/plain": [
              "tensor(6.)"
            ]
          },
          "metadata": {},
          "execution_count": 53
        }
      ]
    },
    {
      "cell_type": "code",
      "source": [
        "xt = tensor([3.,4.,10.]).requires_grad_()\n",
        "xt"
      ],
      "metadata": {
        "colab": {
          "base_uri": "https://localhost:8080/"
        },
        "id": "5fxt2tNgZIR4",
        "outputId": "deb50be6-7127-4169-b13d-6506c4c0c995"
      },
      "execution_count": null,
      "outputs": [
        {
          "output_type": "execute_result",
          "data": {
            "text/plain": [
              "tensor([ 3.,  4., 10.], requires_grad=True)"
            ]
          },
          "metadata": {},
          "execution_count": 54
        }
      ]
    },
    {
      "cell_type": "code",
      "source": [
        "def f(x): return (x**2).sum()"
      ],
      "metadata": {
        "id": "GfgvxTHIZkSY"
      },
      "execution_count": null,
      "outputs": []
    },
    {
      "cell_type": "code",
      "source": [
        "yt = f(xt)\n",
        "yt"
      ],
      "metadata": {
        "colab": {
          "base_uri": "https://localhost:8080/"
        },
        "id": "MfvwEiT_Zta9",
        "outputId": "63e9c0de-8628-4f72-dc4a-7f9cd144ffea"
      },
      "execution_count": null,
      "outputs": [
        {
          "output_type": "execute_result",
          "data": {
            "text/plain": [
              "tensor(125., grad_fn=<SumBackward0>)"
            ]
          },
          "metadata": {},
          "execution_count": 56
        }
      ]
    },
    {
      "cell_type": "code",
      "source": [
        "yt.backward()\n",
        "xt.grad"
      ],
      "metadata": {
        "colab": {
          "base_uri": "https://localhost:8080/"
        },
        "id": "aH-IdjWKZvR7",
        "outputId": "e05f423a-a101-4f6a-cc55-d2766674e79a"
      },
      "execution_count": null,
      "outputs": [
        {
          "output_type": "execute_result",
          "data": {
            "text/plain": [
              "tensor([ 6.,  8., 20.])"
            ]
          },
          "metadata": {},
          "execution_count": 57
        }
      ]
    },
    {
      "cell_type": "markdown",
      "source": [
        "# SGD Example"
      ],
      "metadata": {
        "id": "wT-uudwlJXrN"
      }
    },
    {
      "cell_type": "code",
      "source": [
        "time = torch.arange(0, 20).float(); time"
      ],
      "metadata": {
        "colab": {
          "base_uri": "https://localhost:8080/"
        },
        "id": "WdfTCpsuJaOE",
        "outputId": "e9c94ece-5f91-440b-c2b8-6ee847804909"
      },
      "execution_count": null,
      "outputs": [
        {
          "output_type": "execute_result",
          "data": {
            "text/plain": [
              "tensor([ 0.,  1.,  2.,  3.,  4.,  5.,  6.,  7.,  8.,  9., 10., 11., 12., 13., 14., 15., 16., 17., 18., 19.])"
            ]
          },
          "metadata": {},
          "execution_count": 58
        }
      ]
    },
    {
      "cell_type": "code",
      "source": [
        "speed = torch.randn(20)*3 + 0.75*(time-9.5)**2 + 1\n",
        "plt.scatter(time, speed);"
      ],
      "metadata": {
        "colab": {
          "base_uri": "https://localhost:8080/",
          "height": 265
        },
        "id": "cLwp04zaJqEY",
        "outputId": "da3494fa-5735-4f6a-ac0d-72914e200de1"
      },
      "execution_count": null,
      "outputs": [
        {
          "output_type": "display_data",
          "data": {
            "image/png": "[encoded data removed]",
            "text/plain": [
              "<Figure size 432x288 with 1 Axes>"
            ]
          },
          "metadata": {
            "needs_background": "light"
          }
        }
      ]
    },
    {
      "cell_type": "code",
      "source": [
        "def f(t, params):\n",
        "  a,b,c = params\n",
        "  return a*(t**2) + (b*t) + c"
      ],
      "metadata": {
        "id": "lxqh2dJXJ3JB"
      },
      "execution_count": null,
      "outputs": []
    },
    {
      "cell_type": "code",
      "source": [
        "def mse(preds, targets): return ((preds-targets)**2).mean()"
      ],
      "metadata": {
        "id": "xXwrn88wMQWd"
      },
      "execution_count": null,
      "outputs": []
    },
    {
      "cell_type": "markdown",
      "source": [
        "#### Step 1:Initialize the parameters"
      ],
      "metadata": {
        "id": "ooVXo2w6O_nl"
      }
    },
    {
      "cell_type": "code",
      "source": [
        "params = torch.randn(3).requires_grad_()"
      ],
      "metadata": {
        "id": "fBtLjfYnOyS5"
      },
      "execution_count": null,
      "outputs": []
    },
    {
      "cell_type": "code",
      "source": [
        "orig_params = params.clone()"
      ],
      "metadata": {
        "id": "qZzm0Mw9PS-6"
      },
      "execution_count": null,
      "outputs": []
    },
    {
      "cell_type": "markdown",
      "source": [
        "#### Step 2: Calculate the predictions"
      ],
      "metadata": {
        "id": "kCrbabjjPy5y"
      }
    },
    {
      "cell_type": "code",
      "source": [
        "preds = f(time, params)"
      ],
      "metadata": {
        "id": "VCCSDYSKPv5r"
      },
      "execution_count": null,
      "outputs": []
    },
    {
      "cell_type": "code",
      "source": [
        "def show_preds(preds, ax=None):\n",
        "  if ax is None: ax=plt.subplots()[1]\n",
        "  ax.scatter(time, speed)\n",
        "  ax.scatter(time, to_np(preds), color='red')\n",
        "  ax.set_ylim(-300,100)"
      ],
      "metadata": {
        "id": "UA77mTqjQEGO"
      },
      "execution_count": null,
      "outputs": []
    },
    {
      "cell_type": "code",
      "source": [
        "show_preds(preds)"
      ],
      "metadata": {
        "colab": {
          "base_uri": "https://localhost:8080/",
          "height": 269
        },
        "id": "DaksrOwGQt9s",
        "outputId": "ae13bce1-d5e8-4120-f292-98ef230c42e5"
      },
      "execution_count": null,
      "outputs": [
        {
          "output_type": "display_data",
          "data": {
            "image/png": "[encoded data removed]",
            "text/plain": [
              "<Figure size 432x288 with 1 Axes>"
            ]
          },
          "metadata": {
            "needs_background": "light"
          }
        }
      ]
    },
    {
      "cell_type": "markdown",
      "source": [
        "#### Step 3:Calculate the loss"
      ],
      "metadata": {
        "id": "GjfG4YzHRaLQ"
      }
    },
    {
      "cell_type": "code",
      "source": [
        "loss = mse(preds, speed)\n",
        "loss"
      ],
      "metadata": {
        "colab": {
          "base_uri": "https://localhost:8080/"
        },
        "id": "KCweNazIRO1A",
        "outputId": "f2b78bec-cbb8-488e-9fa7-3b61f27639af"
      },
      "execution_count": null,
      "outputs": [
        {
          "output_type": "execute_result",
          "data": {
            "text/plain": [
              "tensor(25823.8086, grad_fn=<MeanBackward0>)"
            ]
          },
          "metadata": {},
          "execution_count": 67
        }
      ]
    },
    {
      "cell_type": "markdown",
      "source": [
        "#### Step 4:Calculate the gradients"
      ],
      "metadata": {
        "id": "lf-d1UgLR1gS"
      }
    },
    {
      "cell_type": "code",
      "source": [
        "loss.backward()\n",
        "params.grad"
      ],
      "metadata": {
        "colab": {
          "base_uri": "https://localhost:8080/"
        },
        "id": "tYH6_Wi5Rj1D",
        "outputId": "51091ea6-efa8-4caa-e0d4-97f905de7be0"
      },
      "execution_count": null,
      "outputs": [
        {
          "output_type": "execute_result",
          "data": {
            "text/plain": [
              "tensor([-53195.8633,  -3419.7148,   -253.8908])"
            ]
          },
          "metadata": {},
          "execution_count": 68
        }
      ]
    },
    {
      "cell_type": "code",
      "source": [
        "params.grad * 1e-5"
      ],
      "metadata": {
        "colab": {
          "base_uri": "https://localhost:8080/"
        },
        "id": "lD5FSxQSSayS",
        "outputId": "88cdd62b-9b77-48be-9adf-aafe15accf07"
      },
      "execution_count": null,
      "outputs": [
        {
          "output_type": "execute_result",
          "data": {
            "text/plain": [
              "tensor([-0.5320, -0.0342, -0.0025])"
            ]
          },
          "metadata": {},
          "execution_count": 69
        }
      ]
    },
    {
      "cell_type": "code",
      "source": [
        "params"
      ],
      "metadata": {
        "colab": {
          "base_uri": "https://localhost:8080/"
        },
        "id": "Roe9lzWZSgK1",
        "outputId": "b86f21f4-66ed-40ff-9885-b8e8e53652f5"
      },
      "execution_count": null,
      "outputs": [
        {
          "output_type": "execute_result",
          "data": {
            "text/plain": [
              "tensor([-0.7658, -0.7506,  1.3525], requires_grad=True)"
            ]
          },
          "metadata": {},
          "execution_count": 70
        }
      ]
    },
    {
      "cell_type": "markdown",
      "source": [
        "#### Step 5: Step the weights"
      ],
      "metadata": {
        "id": "2vGPJX6VS2sS"
      }
    },
    {
      "cell_type": "code",
      "source": [
        "lr = 1e-5\n",
        "params.data -= lr * params.grad.data\n",
        "params.grad = None"
      ],
      "metadata": {
        "id": "3wvJhJX4SyTK"
      },
      "execution_count": null,
      "outputs": []
    },
    {
      "cell_type": "code",
      "source": [
        "preds = f(time, params)\n",
        "mse(preds, speed)"
      ],
      "metadata": {
        "colab": {
          "base_uri": "https://localhost:8080/"
        },
        "id": "8MWqJ0lITWY1",
        "outputId": "90d6fcd2-9e4b-4b50-a3cf-185d58123640"
      },
      "execution_count": null,
      "outputs": [
        {
          "output_type": "execute_result",
          "data": {
            "text/plain": [
              "tensor(5435.5356, grad_fn=<MeanBackward0>)"
            ]
          },
          "metadata": {},
          "execution_count": 72
        }
      ]
    },
    {
      "cell_type": "code",
      "source": [
        "show_preds(preds)"
      ],
      "metadata": {
        "colab": {
          "base_uri": "https://localhost:8080/",
          "height": 269
        },
        "id": "-8ISKp27T9fV",
        "outputId": "4cc556be-3bee-47c3-b07a-ae4e2176f7f9"
      },
      "execution_count": null,
      "outputs": [
        {
          "output_type": "display_data",
          "data": {
            "image/png": "[encoded data removed]",
            "text/plain": [
              "<Figure size 432x288 with 1 Axes>"
            ]
          },
          "metadata": {
            "needs_background": "light"
          }
        }
      ]
    },
    {
      "cell_type": "markdown",
      "source": [
        "#### Step 6: Repeat the process"
      ],
      "metadata": {
        "id": "BEapMawIW2h4"
      }
    },
    {
      "cell_type": "code",
      "source": [
        "def apply_step(params, prn=True):\n",
        "  preds = f(time, params)\n",
        "  loss = mse(preds, speed)\n",
        "  loss.backward()\n",
        "  params.data -= lr * params.grad.data\n",
        "  params.grad = None\n",
        "  if prn: print(loss.item())\n",
        "  return preds\n"
      ],
      "metadata": {
        "id": "LPFA_ITUUFTq"
      },
      "execution_count": null,
      "outputs": []
    },
    {
      "cell_type": "code",
      "source": [
        "for i in range(10): apply_step(params)"
      ],
      "metadata": {
        "colab": {
          "base_uri": "https://localhost:8080/"
        },
        "id": "3zYzhF0bXjjk",
        "outputId": "ef254ffb-c3a1-48f2-dee6-a941b55c7d20"
      },
      "execution_count": null,
      "outputs": [
        {
          "output_type": "stream",
          "name": "stdout",
          "text": [
            "5435.53564453125\n",
            "1577.44921875\n",
            "847.3778076171875\n",
            "709.2225341796875\n",
            "683.0758056640625\n",
            "678.1243896484375\n",
            "677.1838989257812\n",
            "677.0023803710938\n",
            "676.9645385742188\n",
            "676.9537353515625\n"
          ]
        }
      ]
    },
    {
      "cell_type": "code",
      "source": [
        "params = orig_params.detach().requires_grad_()"
      ],
      "metadata": {
        "id": "SuO6yGuPXsRC"
      },
      "execution_count": null,
      "outputs": []
    },
    {
      "cell_type": "code",
      "source": [
        "_, axs = plt.subplots(1,4, figsize=(12,3))\n",
        "for ax in axs: show_preds(apply_step(params, False), ax)\n",
        "plt.tight_layout()"
      ],
      "metadata": {
        "colab": {
          "base_uri": "https://localhost:8080/",
          "height": 225
        },
        "id": "Sok9gQJDZn_N",
        "outputId": "58bf7bdc-193a-4fb9-af01-126e24463a1e"
      },
      "execution_count": null,
      "outputs": [
        {
          "output_type": "display_data",
          "data": {
            "image/png": "[encoded data removed]",
            "text/plain": [
              "<Figure size 864x216 with 4 Axes>"
            ]
          },
          "metadata": {
            "needs_background": "light"
          }
        }
      ]
    },
    {
      "cell_type": "markdown",
      "source": [
        "#### Step 7: Stop\n",
        "\n",
        "We just decided to stop after 10 epochs arbitrarily. In practice, we would watch the training and validation losses and our metrics to decide when to stop."
      ],
      "metadata": {
        "id": "lTppmhktcmra"
      }
    },
    {
      "cell_type": "code",
      "source": [
        "gv('''init->predict->loss->gradient->step->stop\n",
        "step->predict[label=repeat]\n",
        "''')\n"
      ],
      "metadata": {
        "colab": {
          "base_uri": "https://localhost:8080/",
          "height": 126
        },
        "id": "xZX6kIrOZphi",
        "outputId": "187952b2-f694-4312-9808-0dc687289ad6"
      },
      "execution_count": null,
      "outputs": [
        {
          "output_type": "execute_result",
          "data": {
            "text/plain": [
              "<graphviz.files.Source at 0x7f4b8d33fa90>"
            ],
            "image/svg+xml": "<?xml version=\"1.0\" encoding=\"UTF-8\" standalone=\"no\"?>\n<!DOCTYPE svg PUBLIC \"-//W3C//DTD SVG 1.1//EN\"\n \"http://www.w3.org/Graphics/SVG/1.1/DTD/svg11.dtd\">\n<!-- Generated by graphviz version 2.40.1 (20161225.0304)\n -->\n<!-- Title: G Pages: 1 -->\n<svg width=\"597pt\" height=\"78pt\"\n viewBox=\"0.00 0.00 596.69 78.00\" xmlns=\"http://www.w3.org/2000/svg\" xmlns:xlink=\"http://www.w3.org/1999/xlink\">\n<g id=\"graph0\" class=\"graph\" transform=\"scale(1 1) rotate(0) translate(4 74)\">\n<title>G</title>\n<polygon fill=\"#ffffff\" stroke=\"transparent\" points=\"-4,4 -4,-74 592.6863,-74 592.6863,4 -4,4\"/>\n<!-- init -->\n<g id=\"node1\" class=\"node\">\n<title>init</title>\n<ellipse fill=\"none\" stroke=\"#000000\" cx=\"27\" cy=\"-18\" rx=\"27\" ry=\"18\"/>\n<text text-anchor=\"middle\" x=\"27\" y=\"-14.3\" font-family=\"Times,serif\" font-size=\"14.00\" fill=\"#000000\">init</text>\n</g>\n<!-- predict -->\n<g id=\"node2\" class=\"node\">\n<title>predict</title>\n<ellipse fill=\"none\" stroke=\"#000000\" cx=\"127.3968\" cy=\"-18\" rx=\"36.2938\" ry=\"18\"/>\n<text text-anchor=\"middle\" x=\"127.3968\" y=\"-14.3\" font-family=\"Times,serif\" font-size=\"14.00\" fill=\"#000000\">predict</text>\n</g>\n<!-- init&#45;&gt;predict -->\n<g id=\"edge1\" class=\"edge\">\n<title>init&#45;&gt;predict</title>\n<path fill=\"none\" stroke=\"#000000\" d=\"M54.1688,-18C62.3543,-18 71.5827,-18 80.6596,-18\"/>\n<polygon fill=\"#000000\" stroke=\"#000000\" points=\"80.7795,-21.5001 90.7795,-18 80.7795,-14.5001 80.7795,-21.5001\"/>\n</g>\n<!-- loss -->\n<g id=\"node3\" class=\"node\">\n<title>loss</title>\n<ellipse fill=\"none\" stroke=\"#000000\" cx=\"227.7935\" cy=\"-52\" rx=\"27\" ry=\"18\"/>\n<text text-anchor=\"middle\" x=\"227.7935\" y=\"-48.3\" font-family=\"Times,serif\" font-size=\"14.00\" fill=\"#000000\">loss</text>\n</g>\n<!-- predict&#45;&gt;loss -->\n<g id=\"edge2\" class=\"edge\">\n<title>predict&#45;&gt;loss</title>\n<path fill=\"none\" stroke=\"#000000\" d=\"M157.5191,-28.2011C168.9806,-32.0826 182.1139,-36.5303 193.9014,-40.5222\"/>\n<polygon fill=\"#000000\" stroke=\"#000000\" points=\"192.8259,-43.8532 203.4202,-43.7458 195.0713,-37.2231 192.8259,-43.8532\"/>\n</g>\n<!-- gradient -->\n<g id=\"node4\" class=\"node\">\n<title>gradient</title>\n<ellipse fill=\"none\" stroke=\"#000000\" cx=\"365.7399\" cy=\"-52\" rx=\"40.8928\" ry=\"18\"/>\n<text text-anchor=\"middle\" x=\"365.7399\" y=\"-48.3\" font-family=\"Times,serif\" font-size=\"14.00\" fill=\"#000000\">gradient</text>\n</g>\n<!-- loss&#45;&gt;gradient -->\n<g id=\"edge3\" class=\"edge\">\n<title>loss&#45;&gt;gradient</title>\n<path fill=\"none\" stroke=\"#000000\" d=\"M255.0473,-52C272.0415,-52 294.4481,-52 314.6545,-52\"/>\n<polygon fill=\"#000000\" stroke=\"#000000\" points=\"314.671,-55.5001 324.671,-52 314.671,-48.5001 314.671,-55.5001\"/>\n</g>\n<!-- step -->\n<g id=\"node5\" class=\"node\">\n<title>step</title>\n<ellipse fill=\"none\" stroke=\"#000000\" cx=\"470.6863\" cy=\"-18\" rx=\"27\" ry=\"18\"/>\n<text text-anchor=\"middle\" x=\"470.6863\" y=\"-14.3\" font-family=\"Times,serif\" font-size=\"14.00\" fill=\"#000000\">step</text>\n</g>\n<!-- gradient&#45;&gt;step -->\n<g id=\"edge4\" class=\"edge\">\n<title>gradient&#45;&gt;step</title>\n<path fill=\"none\" stroke=\"#000000\" d=\"M398.9456,-41.2422C410.9558,-37.3512 424.5297,-32.9536 436.6132,-29.0388\"/>\n<polygon fill=\"#000000\" stroke=\"#000000\" points=\"437.9112,-32.2975 446.3457,-25.8857 435.7537,-25.6382 437.9112,-32.2975\"/>\n</g>\n<!-- step&#45;&gt;predict -->\n<g id=\"edge6\" class=\"edge\">\n<title>step&#45;&gt;predict</title>\n<path fill=\"none\" stroke=\"#000000\" d=\"M443.4266,-18C384.9297,-18 246.7861,-18 174.0495,-18\"/>\n<polygon fill=\"#000000\" stroke=\"#000000\" points=\"173.8098,-14.5001 163.8098,-18 173.8097,-21.5001 173.8098,-14.5001\"/>\n<text text-anchor=\"middle\" x=\"289.7935\" y=\"-21.8\" font-family=\"Times,serif\" font-size=\"14.00\" fill=\"#000000\">repeat</text>\n</g>\n<!-- stop -->\n<g id=\"node6\" class=\"node\">\n<title>stop</title>\n<ellipse fill=\"none\" stroke=\"#000000\" cx=\"561.6863\" cy=\"-18\" rx=\"27\" ry=\"18\"/>\n<text text-anchor=\"middle\" x=\"561.6863\" y=\"-14.3\" font-family=\"Times,serif\" font-size=\"14.00\" fill=\"#000000\">stop</text>\n</g>\n<!-- step&#45;&gt;stop -->\n<g id=\"edge5\" class=\"edge\">\n<title>step&#45;&gt;stop</title>\n<path fill=\"none\" stroke=\"#000000\" d=\"M497.9893,-18C506.2676,-18 515.508,-18 524.3268,-18\"/>\n<polygon fill=\"#000000\" stroke=\"#000000\" points=\"524.4026,-21.5001 534.4025,-18 524.4025,-14.5001 524.4026,-21.5001\"/>\n</g>\n</g>\n</svg>\n"
          },
          "metadata": {},
          "execution_count": 78
        }
      ]
    },
    {
      "cell_type": "markdown",
      "source": [
        "# The MNIST Loss Function"
      ],
      "metadata": {
        "id": "4wnmnLbuYBhi"
      }
    },
    {
      "cell_type": "code",
      "source": [
        "train_x = torch.cat([stacked_threes, stacked_sevens]).view(-1, 28*28)"
      ],
      "metadata": {
        "id": "6I6nMBAidFaJ"
      },
      "execution_count": null,
      "outputs": []
    },
    {
      "cell_type": "code",
      "source": [
        "train_y = tensor([1]*len(threes) + [0]*len(sevens)).unsqueeze(1)\n",
        "train_x.shape, train_y.shape"
      ],
      "metadata": {
        "colab": {
          "base_uri": "https://localhost:8080/"
        },
        "id": "kegGbnnMYnoq",
        "outputId": "23cd1fdf-9a92-4aac-9a5b-a74ddef53c07"
      },
      "execution_count": null,
      "outputs": [
        {
          "output_type": "execute_result",
          "data": {
            "text/plain": [
              "(torch.Size([12396, 784]), torch.Size([12396, 1]))"
            ]
          },
          "metadata": {},
          "execution_count": 80
        }
      ]
    },
    {
      "cell_type": "code",
      "source": [
        "dset = list(zip(train_x,train_y))\n",
        "x,y = dset[0]\n",
        "x.shape, y"
      ],
      "metadata": {
        "colab": {
          "base_uri": "https://localhost:8080/"
        },
        "id": "nzogkK5raMqW",
        "outputId": "46d8c2d6-117f-4a0c-dddc-40f997b3158d"
      },
      "execution_count": null,
      "outputs": [
        {
          "output_type": "execute_result",
          "data": {
            "text/plain": [
              "(torch.Size([784]), tensor([1]))"
            ]
          },
          "metadata": {},
          "execution_count": 81
        }
      ]
    },
    {
      "cell_type": "code",
      "source": [
        "show_image(x.view(28, 28));"
      ],
      "metadata": {
        "colab": {
          "base_uri": "https://localhost:8080/",
          "height": 85
        },
        "id": "Q3LfNF85bjzv",
        "outputId": "c4d65f9c-c287-4172-e4a7-e83cd3132258"
      },
      "execution_count": null,
      "outputs": [
        {
          "output_type": "display_data",
          "data": {
            "image/png": "[encoded data removed]",
            "text/plain": [
              "<Figure size 72x72 with 1 Axes>"
            ]
          },
          "metadata": {
            "needs_background": "light"
          }
        }
      ]
    },
    {
      "cell_type": "code",
      "source": [
        "valid_x = torch.cat([valid_3_tns, valid_7_tns]).view(-1, 28*28)\n",
        "valid_y = tensor([1]*len(valid_3_tns) + [0]*len(valid_7_tns)).unsqueeze(1)\n",
        "valid_x.shape, valid_y.shape"
      ],
      "metadata": {
        "colab": {
          "base_uri": "https://localhost:8080/"
        },
        "id": "bO4mUywBboID",
        "outputId": "4b9306cc-1487-4dba-98b3-bb02915a9d0a"
      },
      "execution_count": null,
      "outputs": [
        {
          "output_type": "execute_result",
          "data": {
            "text/plain": [
              "(torch.Size([2038, 784]), torch.Size([2038, 1]))"
            ]
          },
          "metadata": {},
          "execution_count": 83
        }
      ]
    },
    {
      "cell_type": "code",
      "source": [
        "valid_dset = list(zip(valid_x,valid_y))\n",
        "len(valid_dset)"
      ],
      "metadata": {
        "id": "qfO1162rc-b1",
        "colab": {
          "base_uri": "https://localhost:8080/"
        },
        "outputId": "4b6aa156-20ac-4fbc-d0c1-8c842a87210e"
      },
      "execution_count": null,
      "outputs": [
        {
          "output_type": "execute_result",
          "data": {
            "text/plain": [
              "2038"
            ]
          },
          "metadata": {},
          "execution_count": 84
        }
      ]
    },
    {
      "cell_type": "code",
      "source": [
        "def init_params(size, std=1.0): return (torch.randn(size)*std)"
      ],
      "metadata": {
        "id": "b_sck7TPdGKC"
      },
      "execution_count": null,
      "outputs": []
    },
    {
      "cell_type": "code",
      "source": [
        "weights = init_params((28*28,1))"
      ],
      "metadata": {
        "id": "TRgNH4o1nGuw"
      },
      "execution_count": null,
      "outputs": []
    },
    {
      "cell_type": "code",
      "source": [
        "bias = init_params(1)"
      ],
      "metadata": {
        "id": "mLvPQsM3qfOI"
      },
      "execution_count": null,
      "outputs": []
    },
    {
      "cell_type": "code",
      "source": [
        "# prediction for one image\n",
        "(train_x[0]*weights.T).sum() + bias"
      ],
      "metadata": {
        "colab": {
          "base_uri": "https://localhost:8080/"
        },
        "id": "w1tsDUhcqqe0",
        "outputId": "c60a458d-4f43-4a72-bbbd-eb3d2db17dd1"
      },
      "execution_count": null,
      "outputs": [
        {
          "output_type": "execute_result",
          "data": {
            "text/plain": [
              "tensor([20.2336])"
            ]
          },
          "metadata": {},
          "execution_count": 88
        }
      ]
    },
    {
      "cell_type": "code",
      "source": [
        "def linear1(xb): return xb@weights + bias\n",
        "preds = linear1(train_x)\n",
        "preds"
      ],
      "metadata": {
        "colab": {
          "base_uri": "https://localhost:8080/"
        },
        "id": "h1yKVUY3smRU",
        "outputId": "14b7309a-8a2d-4896-b697-4006d82387db"
      },
      "execution_count": null,
      "outputs": [
        {
          "output_type": "execute_result",
          "data": {
            "text/plain": [
              "tensor([[20.2336],\n",
              "        [17.0644],\n",
              "        [15.2384],\n",
              "        ...,\n",
              "        [18.3804],\n",
              "        [23.8567],\n",
              "        [28.6816]])"
            ]
          },
          "metadata": {},
          "execution_count": 89
        }
      ]
    },
    {
      "cell_type": "code",
      "source": [
        "preds.shape"
      ],
      "metadata": {
        "colab": {
          "base_uri": "https://localhost:8080/"
        },
        "id": "ABZV5sAL4bID",
        "outputId": "3e3f0505-d8da-4537-e0c1-e246a9e1b86f"
      },
      "execution_count": null,
      "outputs": [
        {
          "output_type": "execute_result",
          "data": {
            "text/plain": [
              "torch.Size([12396, 1])"
            ]
          },
          "metadata": {},
          "execution_count": 90
        }
      ]
    },
    {
      "cell_type": "code",
      "source": [
        "#let's check accuracy\n",
        "corrects = (preds > 0.5).float() == train_y\n",
        "corrects"
      ],
      "metadata": {
        "colab": {
          "base_uri": "https://localhost:8080/"
        },
        "id": "vRj7SZ745FDa",
        "outputId": "c73d233e-2ead-42a1-9974-f85357419866"
      },
      "execution_count": null,
      "outputs": [
        {
          "output_type": "execute_result",
          "data": {
            "text/plain": [
              "tensor([[ True],\n",
              "        [ True],\n",
              "        [ True],\n",
              "        ...,\n",
              "        [False],\n",
              "        [False],\n",
              "        [False]])"
            ]
          },
          "metadata": {},
          "execution_count": 91
        }
      ]
    },
    {
      "cell_type": "code",
      "source": [
        "corrects.float().mean().item()"
      ],
      "metadata": {
        "colab": {
          "base_uri": "https://localhost:8080/"
        },
        "id": "h7NKlfN66BvX",
        "outputId": "fba4666c-8e54-4eab-84bc-70a8e87a80c4"
      },
      "execution_count": null,
      "outputs": [
        {
          "output_type": "execute_result",
          "data": {
            "text/plain": [
              "0.49080348014831543"
            ]
          },
          "metadata": {},
          "execution_count": 92
        }
      ]
    },
    {
      "cell_type": "code",
      "source": [
        "#let's make a small change in one of the weights and see what happens with the accuracy\n",
        "weights[0] *= 1.0001"
      ],
      "metadata": {
        "id": "oQah19CK6HIH"
      },
      "execution_count": null,
      "outputs": []
    },
    {
      "cell_type": "code",
      "source": [
        "preds = linear1(train_x)\n",
        "((preds > 0.5).float() == train_y).float().mean().item()"
      ],
      "metadata": {
        "colab": {
          "base_uri": "https://localhost:8080/"
        },
        "id": "ZPVeED6y6Z-G",
        "outputId": "81a56960-ac14-400f-f6a5-0ef27cfc6097"
      },
      "execution_count": null,
      "outputs": [
        {
          "output_type": "execute_result",
          "data": {
            "text/plain": [
              "0.49080348014831543"
            ]
          },
          "metadata": {},
          "execution_count": 94
        }
      ]
    },
    {
      "cell_type": "markdown",
      "source": [
        "we can see that a very small change in the value of a weight will often not actually change the accuracy at all."
      ],
      "metadata": {
        "id": "tPMInqr7Aln8"
      }
    },
    {
      "cell_type": "code",
      "source": [
        "# here the threshold is 0.5: if prediction is over 0.5, then it's a 3 or else a 7.\n",
        "trgts = tensor([1, 0, 1])\n",
        "prds = tensor([0.9, 0.4, 0.2])"
      ],
      "metadata": {
        "id": "uHAIJ3Vs7xGV"
      },
      "execution_count": null,
      "outputs": []
    },
    {
      "cell_type": "code",
      "source": [
        "def mnist_loss(predictions, targets):\n",
        "  return torch.where(targets==1, 1 - predictions, predictions).mean()"
      ],
      "metadata": {
        "id": "VoHPikpoAkBL"
      },
      "execution_count": null,
      "outputs": []
    },
    {
      "cell_type": "code",
      "source": [
        "torch.where(trgts==1, 1-prds, prds)"
      ],
      "metadata": {
        "colab": {
          "base_uri": "https://localhost:8080/"
        },
        "id": "PBESfNL0YXly",
        "outputId": "0cb48c8d-2e00-4c71-88bd-144f05561e11"
      },
      "execution_count": null,
      "outputs": [
        {
          "output_type": "execute_result",
          "data": {
            "text/plain": [
              "tensor([0.1000, 0.4000, 0.8000])"
            ]
          },
          "metadata": {},
          "execution_count": 97
        }
      ]
    },
    {
      "cell_type": "code",
      "source": [
        "mnist_loss(prds, trgts)"
      ],
      "metadata": {
        "colab": {
          "base_uri": "https://localhost:8080/"
        },
        "id": "lGK63pFtV31x",
        "outputId": "4baa1b2b-391a-4509-ba73-7d6f54d29c0f"
      },
      "execution_count": null,
      "outputs": [
        {
          "output_type": "execute_result",
          "data": {
            "text/plain": [
              "tensor(0.4333)"
            ]
          },
          "metadata": {},
          "execution_count": 98
        }
      ]
    },
    {
      "cell_type": "markdown",
      "source": [
        "For instance, if we change our prediction for the one \"false\" target from 0.2 to 0.8 the loss will go down, indicating that this is a better prediction:"
      ],
      "metadata": {
        "id": "k9zlQ99zZyU8"
      }
    },
    {
      "cell_type": "code",
      "source": [
        "mnist_loss(tensor([0.9, 0.4, 0.8]), trgts)"
      ],
      "metadata": {
        "colab": {
          "base_uri": "https://localhost:8080/"
        },
        "id": "gYx_ywSFYU2l",
        "outputId": "7956f5d5-0f3a-410c-c9ce-eb95066bc6ed"
      },
      "execution_count": null,
      "outputs": [
        {
          "output_type": "execute_result",
          "data": {
            "text/plain": [
              "tensor(0.2333)"
            ]
          },
          "metadata": {},
          "execution_count": 99
        }
      ]
    },
    {
      "cell_type": "markdown",
      "source": [
        "One problem with mnist_loss as currently defined is that it assumes that predictions are always between 0 and 1."
      ],
      "metadata": {
        "id": "nfWtaeB-aWBd"
      }
    },
    {
      "cell_type": "markdown",
      "source": [
        "# Sigmoid Function\n",
        "\n",
        "The sigmoid function always outputs a number b/w 0 and 1"
      ],
      "metadata": {
        "id": "ZxJuPaByxNy1"
      }
    },
    {
      "cell_type": "code",
      "source": [
        "def sigmoid(x): return 1/(1+torch.exp(-x))"
      ],
      "metadata": {
        "id": "zKRODp5CZ7LY"
      },
      "execution_count": null,
      "outputs": []
    },
    {
      "cell_type": "code",
      "source": [
        "# Pytorch already have a defined sigmoid function\n",
        "plot_function(torch.sigmoid, title='Sigmoid', min=-7, max=7)"
      ],
      "metadata": {
        "colab": {
          "base_uri": "https://localhost:8080/",
          "height": 281
        },
        "id": "TRCgkir-xfyG",
        "outputId": "e7da3781-3d54-4fc2-e8c1-57f4dda11147"
      },
      "execution_count": null,
      "outputs": [
        {
          "output_type": "display_data",
          "data": {
            "image/png": "[encoded data removed]",
            "text/plain": [
              "<Figure size 432x288 with 1 Axes>"
            ]
          },
          "metadata": {
            "needs_background": "light"
          }
        }
      ]
    },
    {
      "cell_type": "code",
      "source": [
        "#let's update mnist_loss function with sigmoid:\n",
        "def mnist_loss(predictions, targets):\n",
        "  predictions = predictions.sigmoid()\n",
        "  return torch.where(targets==1, 1-predictions, predictions).mean()\n"
      ],
      "metadata": {
        "id": "7LzUHVgAYIvI"
      },
      "execution_count": null,
      "outputs": []
    },
    {
      "cell_type": "markdown",
      "source": [
        "## SGD And Mini-batches"
      ],
      "metadata": {
        "id": "owTgStOvCEXf"
      }
    },
    {
      "cell_type": "code",
      "source": [
        "coll = range(15)\n",
        "dl = DataLoader(coll, batch_size=5, shuffle=True)\n",
        "list(dl)"
      ],
      "metadata": {
        "id": "Aw6a4tA0x86A",
        "colab": {
          "base_uri": "https://localhost:8080/"
        },
        "outputId": "a8636244-5b7b-40c1-c9da-da56bcf19173"
      },
      "execution_count": null,
      "outputs": [
        {
          "output_type": "execute_result",
          "data": {
            "text/plain": [
              "[tensor([ 3, 12,  8, 10,  2]),\n",
              " tensor([ 9,  4,  7, 14,  5]),\n",
              " tensor([ 1, 13,  0,  6, 11])]"
            ]
          },
          "metadata": {},
          "execution_count": 103
        }
      ]
    },
    {
      "cell_type": "code",
      "source": [
        "list(dl)"
      ],
      "metadata": {
        "colab": {
          "base_uri": "https://localhost:8080/"
        },
        "id": "ktxEqjGGCyMA",
        "outputId": "0d3fdf6c-4e1e-4aa6-fc1d-ef8ef48504ea"
      },
      "execution_count": null,
      "outputs": [
        {
          "output_type": "execute_result",
          "data": {
            "text/plain": [
              "[tensor([13,  6,  2,  4, 12]),\n",
              " tensor([8, 5, 7, 3, 9]),\n",
              " tensor([14,  0, 11, 10,  1])]"
            ]
          },
          "metadata": {},
          "execution_count": 104
        }
      ]
    },
    {
      "cell_type": "code",
      "source": [
        "ds = L(enumerate(string.ascii_lowercase))\n",
        "ds"
      ],
      "metadata": {
        "colab": {
          "base_uri": "https://localhost:8080/"
        },
        "id": "P_FiUiveDEOa",
        "outputId": "64512bcc-b11a-4fe0-f3ca-b66e8882f0be"
      },
      "execution_count": null,
      "outputs": [
        {
          "output_type": "execute_result",
          "data": {
            "text/plain": [
              "(#26) [(0, 'a'),(1, 'b'),(2, 'c'),(3, 'd'),(4, 'e'),(5, 'f'),(6, 'g'),(7, 'h'),(8, 'i'),(9, 'j')...]"
            ]
          },
          "metadata": {},
          "execution_count": 105
        }
      ]
    },
    {
      "cell_type": "code",
      "source": [
        "dl = DataLoader(ds, batch_size=6, shuffle=True)\n",
        "list(dl)"
      ],
      "metadata": {
        "colab": {
          "base_uri": "https://localhost:8080/"
        },
        "id": "FwZtGtabDq1u",
        "outputId": "93d4b948-9ebc-4e61-ca01-f6f704f66bc8"
      },
      "execution_count": null,
      "outputs": [
        {
          "output_type": "execute_result",
          "data": {
            "text/plain": [
              "[(tensor([17, 18, 10, 22,  8, 14]), ('r', 's', 'k', 'w', 'i', 'o')),\n",
              " (tensor([20, 15,  9, 13, 21, 12]), ('u', 'p', 'j', 'n', 'v', 'm')),\n",
              " (tensor([ 7, 25,  6,  5, 11, 23]), ('h', 'z', 'g', 'f', 'l', 'x')),\n",
              " (tensor([ 1,  3,  0, 24, 19, 16]), ('b', 'd', 'a', 'y', 't', 'q')),\n",
              " (tensor([2, 4]), ('c', 'e'))]"
            ]
          },
          "metadata": {},
          "execution_count": 106
        }
      ]
    },
    {
      "cell_type": "code",
      "source": [
        "list(dl)"
      ],
      "metadata": {
        "colab": {
          "base_uri": "https://localhost:8080/"
        },
        "id": "RvcRqLseEz48",
        "outputId": "14befd80-d85d-40e0-eaeb-a71a290da662"
      },
      "execution_count": null,
      "outputs": [
        {
          "output_type": "execute_result",
          "data": {
            "text/plain": [
              "[(tensor([14, 19, 24,  3,  8,  2]), ('o', 't', 'y', 'd', 'i', 'c')),\n",
              " (tensor([12, 16, 13,  5,  9, 15]), ('m', 'q', 'n', 'f', 'j', 'p')),\n",
              " (tensor([22, 17, 21,  0,  1, 23]), ('w', 'r', 'v', 'a', 'b', 'x')),\n",
              " (tensor([25, 18,  7, 10,  4, 11]), ('z', 's', 'h', 'k', 'e', 'l')),\n",
              " (tensor([ 6, 20]), ('g', 'u'))]"
            ]
          },
          "metadata": {},
          "execution_count": 107
        }
      ]
    },
    {
      "cell_type": "code",
      "source": [
        "dl = DataLoader(ds, batch_size=6, shuffle=False)\n",
        "list(dl)"
      ],
      "metadata": {
        "colab": {
          "base_uri": "https://localhost:8080/"
        },
        "id": "DcRGPff4EVEN",
        "outputId": "2706e911-3ddb-42c2-8a66-83fb0df97331"
      },
      "execution_count": null,
      "outputs": [
        {
          "output_type": "execute_result",
          "data": {
            "text/plain": [
              "[(tensor([0, 1, 2, 3, 4, 5]), ('a', 'b', 'c', 'd', 'e', 'f')),\n",
              " (tensor([ 6,  7,  8,  9, 10, 11]), ('g', 'h', 'i', 'j', 'k', 'l')),\n",
              " (tensor([12, 13, 14, 15, 16, 17]), ('m', 'n', 'o', 'p', 'q', 'r')),\n",
              " (tensor([18, 19, 20, 21, 22, 23]), ('s', 't', 'u', 'v', 'w', 'x')),\n",
              " (tensor([24, 25]), ('y', 'z'))]"
            ]
          },
          "metadata": {},
          "execution_count": 108
        }
      ]
    },
    {
      "cell_type": "code",
      "source": [
        "list(dl)"
      ],
      "metadata": {
        "colab": {
          "base_uri": "https://localhost:8080/"
        },
        "id": "k9wyV172Enil",
        "outputId": "973ce198-941a-4ac0-bd58-41dbec5ca8fc"
      },
      "execution_count": null,
      "outputs": [
        {
          "output_type": "execute_result",
          "data": {
            "text/plain": [
              "[(tensor([0, 1, 2, 3, 4, 5]), ('a', 'b', 'c', 'd', 'e', 'f')),\n",
              " (tensor([ 6,  7,  8,  9, 10, 11]), ('g', 'h', 'i', 'j', 'k', 'l')),\n",
              " (tensor([12, 13, 14, 15, 16, 17]), ('m', 'n', 'o', 'p', 'q', 'r')),\n",
              " (tensor([18, 19, 20, 21, 22, 23]), ('s', 't', 'u', 'v', 'w', 'x')),\n",
              " (tensor([24, 25]), ('y', 'z'))]"
            ]
          },
          "metadata": {},
          "execution_count": 109
        }
      ]
    },
    {
      "cell_type": "markdown",
      "source": [
        "# Putting it all together"
      ],
      "metadata": {
        "id": "VKewSWPiHK4v"
      }
    },
    {
      "cell_type": "code",
      "source": [
        "def init_params(size, std=1.0): return (torch.randn(size)*std).requires_grad_()"
      ],
      "metadata": {
        "id": "IB6DYwhcWfWn"
      },
      "execution_count": null,
      "outputs": []
    },
    {
      "cell_type": "code",
      "source": [
        "weights = init_params((28*28, 1))\n",
        "bias = init_params(1)"
      ],
      "metadata": {
        "id": "adN1NgvmEyJX"
      },
      "execution_count": null,
      "outputs": []
    },
    {
      "cell_type": "code",
      "source": [
        "dl = DataLoader(dset, batch_size=256)\n",
        "xb,yb = first(dl)\n",
        "xb.shape, yb.shape"
      ],
      "metadata": {
        "colab": {
          "base_uri": "https://localhost:8080/"
        },
        "id": "vi0eLxwpHbFk",
        "outputId": "4bf35a14-6d57-422d-ccdb-43d25c6ebb8a"
      },
      "execution_count": null,
      "outputs": [
        {
          "output_type": "execute_result",
          "data": {
            "text/plain": [
              "(torch.Size([256, 784]), torch.Size([256, 1]))"
            ]
          },
          "metadata": {},
          "execution_count": 112
        }
      ]
    },
    {
      "cell_type": "code",
      "source": [
        "valid_dl = DataLoader(valid_dset, batch_size=256)"
      ],
      "metadata": {
        "id": "XaMscS8nIKNS"
      },
      "execution_count": null,
      "outputs": []
    },
    {
      "cell_type": "code",
      "source": [
        "# mini-batch of size 4 for testing\n",
        "batch = train_x[:4]\n",
        "batch.shape"
      ],
      "metadata": {
        "colab": {
          "base_uri": "https://localhost:8080/"
        },
        "id": "Sn7mFYxGIYTo",
        "outputId": "f0313b25-61ec-4ea0-da99-8767b9ae60d6"
      },
      "execution_count": null,
      "outputs": [
        {
          "output_type": "execute_result",
          "data": {
            "text/plain": [
              "torch.Size([4, 784])"
            ]
          },
          "metadata": {},
          "execution_count": 114
        }
      ]
    },
    {
      "cell_type": "code",
      "source": [
        "preds = linear1(batch)\n",
        "preds"
      ],
      "metadata": {
        "colab": {
          "base_uri": "https://localhost:8080/"
        },
        "id": "3voh-PXvIZdb",
        "outputId": "6e805892-39a6-46c2-af11-8aa4facd4dd9"
      },
      "execution_count": null,
      "outputs": [
        {
          "output_type": "execute_result",
          "data": {
            "text/plain": [
              "tensor([[-7.4451],\n",
              "        [-9.4800],\n",
              "        [-8.0913],\n",
              "        [-7.7861]], grad_fn=<AddBackward0>)"
            ]
          },
          "metadata": {},
          "execution_count": 115
        }
      ]
    },
    {
      "cell_type": "code",
      "source": [
        "loss = mnist_loss(preds, train_y[:4])\n",
        "loss"
      ],
      "metadata": {
        "colab": {
          "base_uri": "https://localhost:8080/"
        },
        "id": "jyZu05p3IxC2",
        "outputId": "688f820f-6210-4fab-b4d4-e3498745efbc"
      },
      "execution_count": null,
      "outputs": [
        {
          "output_type": "execute_result",
          "data": {
            "text/plain": [
              "tensor(0.9997, grad_fn=<MeanBackward0>)"
            ]
          },
          "metadata": {},
          "execution_count": 116
        }
      ]
    },
    {
      "cell_type": "code",
      "source": [
        "loss.backward()\n",
        "weights.grad.shape, weights.grad.mean(), bias.grad"
      ],
      "metadata": {
        "colab": {
          "base_uri": "https://localhost:8080/"
        },
        "id": "oDI-HG_jJQyV",
        "outputId": "9ed83dbb-c934-4a7c-81b7-e4f653f97c39"
      },
      "execution_count": null,
      "outputs": [
        {
          "output_type": "execute_result",
          "data": {
            "text/plain": [
              "(torch.Size([784, 1]), tensor(-5.2777e-05), tensor([-0.0003]))"
            ]
          },
          "metadata": {},
          "execution_count": 117
        }
      ]
    },
    {
      "cell_type": "code",
      "source": [
        "def calc_grad(xb, yb, model):\n",
        "  preds = model(xb)\n",
        "  loss = mnist_loss(preds, yb)\n",
        "  loss.backward()"
      ],
      "metadata": {
        "id": "2IV5zq6TJSsi"
      },
      "execution_count": null,
      "outputs": []
    },
    {
      "cell_type": "code",
      "source": [
        "calc_grad(batch, train_y[:4], linear1)\n",
        "weights.grad.mean(), bias.grad"
      ],
      "metadata": {
        "colab": {
          "base_uri": "https://localhost:8080/"
        },
        "id": "K5a1fvTuKkY5",
        "outputId": "a43585c2-8462-4493-a8cf-5f04013c0ec3"
      },
      "execution_count": null,
      "outputs": [
        {
          "output_type": "execute_result",
          "data": {
            "text/plain": [
              "(tensor(-0.0001), tensor([-0.0007]))"
            ]
          },
          "metadata": {},
          "execution_count": 119
        }
      ]
    },
    {
      "cell_type": "code",
      "source": [
        "calc_grad(batch, train_y[:4], linear1)\n",
        "weights.grad.mean(), bias.grad"
      ],
      "metadata": {
        "colab": {
          "base_uri": "https://localhost:8080/"
        },
        "id": "tQszArxXK5bY",
        "outputId": "12e32c5a-75e0-4251-df34-30503479dd19"
      },
      "execution_count": null,
      "outputs": [
        {
          "output_type": "execute_result",
          "data": {
            "text/plain": [
              "(tensor(-0.0002), tensor([-0.0010]))"
            ]
          },
          "metadata": {},
          "execution_count": 120
        }
      ]
    },
    {
      "cell_type": "markdown",
      "source": [
        "The gradients have changed! The reason for this is that loss.backward actually adds the gradients of loss to any gradients that are currently stored. So, we have to set the current gradients to 0 first:"
      ],
      "metadata": {
        "id": "Ay3bW3WzMZI1"
      }
    },
    {
      "cell_type": "code",
      "source": [
        "weights.grad.zero_()\n",
        "bias.grad.zero_();"
      ],
      "metadata": {
        "id": "OLrS91DsLQ05"
      },
      "execution_count": null,
      "outputs": []
    },
    {
      "cell_type": "markdown",
      "source": [
        "In Pytorch, the method names that end in an underscore modify their objects in place.For instance, bias.zero_() sets all elements of the tensor bias to 0."
      ],
      "metadata": {
        "id": "PCBRhRtzM0_H"
      }
    },
    {
      "cell_type": "code",
      "source": [
        "def train_epoch(model, lr, params):\n",
        "  for xb,yb in dl:\n",
        "    calc_grad(xb, yb, model)\n",
        "    for p in params:\n",
        "      p.data -= p.grad * lr\n",
        "      p.grad.zero_()"
      ],
      "metadata": {
        "id": "kiYPCtE9Nywq"
      },
      "execution_count": null,
      "outputs": []
    },
    {
      "cell_type": "code",
      "source": [
        "(preds>0.0).float() == train_y[:4]"
      ],
      "metadata": {
        "colab": {
          "base_uri": "https://localhost:8080/"
        },
        "id": "Ri3D_HajQQkM",
        "outputId": "0b71948b-21f3-47cd-d062-94d301557812"
      },
      "execution_count": null,
      "outputs": [
        {
          "output_type": "execute_result",
          "data": {
            "text/plain": [
              "tensor([[False],\n",
              "        [False],\n",
              "        [False],\n",
              "        [False]])"
            ]
          },
          "metadata": {},
          "execution_count": 123
        }
      ]
    },
    {
      "cell_type": "code",
      "source": [
        "def batch_accuracy(xb, yb):\n",
        "  preds = xb.sigmoid()\n",
        "  correct = (preds>0.5) == yb\n",
        "  return correct.float().mean()"
      ],
      "metadata": {
        "id": "QY8hFbjjQjdG"
      },
      "execution_count": null,
      "outputs": []
    },
    {
      "cell_type": "code",
      "source": [
        "batch_accuracy(linear1(batch), train_y[:4])"
      ],
      "metadata": {
        "colab": {
          "base_uri": "https://localhost:8080/"
        },
        "id": "t-H2vGnJREP9",
        "outputId": "fc22413d-1cec-44b1-b2d2-810b7f7e0508"
      },
      "execution_count": null,
      "outputs": [
        {
          "output_type": "execute_result",
          "data": {
            "text/plain": [
              "tensor(0.)"
            ]
          },
          "metadata": {},
          "execution_count": 125
        }
      ]
    },
    {
      "cell_type": "code",
      "source": [
        "def validate_epoch(model):\n",
        "  accs = [batch_accuracy(model(xb), yb) for xb,yb in valid_dl]\n",
        "  return round(torch.stack(accs).mean().item(), 4)"
      ],
      "metadata": {
        "id": "738Ydk4BRYxJ"
      },
      "execution_count": null,
      "outputs": []
    },
    {
      "cell_type": "code",
      "source": [
        "validate_epoch(linear1)"
      ],
      "metadata": {
        "colab": {
          "base_uri": "https://localhost:8080/"
        },
        "id": "-ExlyNiVSji2",
        "outputId": "cdb5cfb8-1cad-4682-dbab-006abb864040"
      },
      "execution_count": null,
      "outputs": [
        {
          "output_type": "execute_result",
          "data": {
            "text/plain": [
              "0.3542"
            ]
          },
          "metadata": {},
          "execution_count": 127
        }
      ]
    },
    {
      "cell_type": "code",
      "source": [
        "lr = 1.\n",
        "params = weights, bias\n",
        "train_epoch(linear1, lr, params)\n",
        "validate_epoch(linear1)"
      ],
      "metadata": {
        "colab": {
          "base_uri": "https://localhost:8080/"
        },
        "id": "CshcRXs8SnAv",
        "outputId": "4cec00c1-4841-4fbd-9e03-4101be711f73"
      },
      "execution_count": null,
      "outputs": [
        {
          "output_type": "execute_result",
          "data": {
            "text/plain": [
              "0.6286"
            ]
          },
          "metadata": {},
          "execution_count": 128
        }
      ]
    },
    {
      "cell_type": "code",
      "source": [
        "for i in range(20):\n",
        "  train_epoch(linear1, lr, params)\n",
        "  print(validate_epoch(linear1), end=' ')"
      ],
      "metadata": {
        "colab": {
          "base_uri": "https://localhost:8080/"
        },
        "id": "loh8Toj4S6rD",
        "outputId": "7b542efa-a9f7-4135-aefe-6e7ea5d42798"
      },
      "execution_count": null,
      "outputs": [
        {
          "output_type": "stream",
          "name": "stdout",
          "text": [
            "0.7868 0.8846 0.9178 0.9334 0.9368 0.9471 0.95 0.9535 0.9544 0.9559 0.9583 0.9613 0.9622 0.9632 0.9642 0.9652 0.9657 0.9672 0.9687 0.9696 "
          ]
        }
      ]
    },
    {
      "cell_type": "markdown",
      "source": [
        "## Creating an Optimizer"
      ],
      "metadata": {
        "id": "mX5oF8pqpmnd"
      }
    },
    {
      "cell_type": "markdown",
      "source": [
        "nn.Linear does the same thing as our init_params and linear together. It contains both the weights and biases in a single class."
      ],
      "metadata": {
        "id": "vIoSlm2qp9ri"
      }
    },
    {
      "cell_type": "code",
      "source": [
        "linear_model = nn.Linear(28*28,1)"
      ],
      "metadata": {
        "id": "Fvfwru30ThHe"
      },
      "execution_count": null,
      "outputs": []
    },
    {
      "cell_type": "code",
      "source": [
        "w,b = linear_model.parameters()\n",
        "w.shape, b.shape"
      ],
      "metadata": {
        "colab": {
          "base_uri": "https://localhost:8080/"
        },
        "id": "_ASLOHYqqHlm",
        "outputId": "1f31c8c4-2ca4-4c3d-b61c-63b30c902bba"
      },
      "execution_count": null,
      "outputs": [
        {
          "output_type": "execute_result",
          "data": {
            "text/plain": [
              "(torch.Size([1, 784]), torch.Size([1]))"
            ]
          },
          "metadata": {},
          "execution_count": 131
        }
      ]
    },
    {
      "cell_type": "code",
      "source": [
        "class BasicOptim:\n",
        "  def __init__(self,params,lr): self.params, self.lr = list(params), lr\n",
        "\n",
        "  def step(self, *args, **kwargs): \n",
        "    for p in self.params: p.data -= p.grad.data * self.lr\n",
        "\n",
        "  def zero_grad(self, *args, **kwargs):\n",
        "    for p in self.params: p.grad = None"
      ],
      "metadata": {
        "id": "fB89vEPbq48w"
      },
      "execution_count": null,
      "outputs": []
    },
    {
      "cell_type": "code",
      "source": [
        "opt = BasicOptim(linear_model.parameters(), lr)"
      ],
      "metadata": {
        "id": "ALPOsGSP2EzN"
      },
      "execution_count": null,
      "outputs": []
    },
    {
      "cell_type": "code",
      "source": [
        "def train_epoch(model):\n",
        "  for xb,yb in dl:\n",
        "    calc_grad(xb, yb, model)\n",
        "    opt.step()\n",
        "    opt.zero_grad()"
      ],
      "metadata": {
        "id": "qog4stFN2QKU"
      },
      "execution_count": null,
      "outputs": []
    },
    {
      "cell_type": "code",
      "source": [
        "validate_epoch(linear_model)"
      ],
      "metadata": {
        "colab": {
          "base_uri": "https://localhost:8080/"
        },
        "id": "htwwwBQ82y7x",
        "outputId": "ae01bbc2-433b-4288-a220-011b8aa7e761"
      },
      "execution_count": null,
      "outputs": [
        {
          "output_type": "execute_result",
          "data": {
            "text/plain": [
              "0.6966"
            ]
          },
          "metadata": {},
          "execution_count": 135
        }
      ]
    },
    {
      "cell_type": "code",
      "source": [
        "def train_model(model, epochs):\n",
        "  for i in range(epochs):\n",
        "    train_epoch(model)\n",
        "    print(validate_epoch(model), end=' ')"
      ],
      "metadata": {
        "id": "HsEXzFoV3HeN"
      },
      "execution_count": null,
      "outputs": []
    },
    {
      "cell_type": "code",
      "source": [
        "train_model(linear_model, 20)"
      ],
      "metadata": {
        "colab": {
          "base_uri": "https://localhost:8080/"
        },
        "id": "ill4aLxY3dYw",
        "outputId": "bc39f3f8-ff8d-4eb0-dd35-c9096ca01dd5"
      },
      "execution_count": null,
      "outputs": [
        {
          "output_type": "stream",
          "name": "stdout",
          "text": [
            "0.4932 0.7973 0.8525 0.9165 0.9355 0.9472 0.957 0.9628 0.9658 0.9667 0.9697 0.9711 0.9746 0.9751 0.976 0.977 0.9775 0.978 0.978 0.9785 "
          ]
        }
      ]
    },
    {
      "cell_type": "markdown",
      "source": [
        "fastai provides the **SGD** class which, by default, does the same thing as our BasicOptim:"
      ],
      "metadata": {
        "id": "fYtakg0c5SkT"
      }
    },
    {
      "cell_type": "code",
      "source": [
        "linear_model = nn.Linear(28*28, 1)\n",
        "opt = SGD(linear_model.parameters(), lr)\n",
        "train_model(linear_model, 20)"
      ],
      "metadata": {
        "colab": {
          "base_uri": "https://localhost:8080/"
        },
        "id": "8W1NBC2n3rop",
        "outputId": "1ce1e83f-9350-482a-8824-027eba054f79"
      },
      "execution_count": null,
      "outputs": [
        {
          "output_type": "stream",
          "name": "stdout",
          "text": [
            "0.4932 0.9145 0.8008 0.9062 0.9306 0.9443 0.954 0.9619 0.9643 0.9667 0.9692 0.9711 0.9731 0.9746 0.9755 0.976 0.9775 0.9775 0.9785 0.9785 "
          ]
        }
      ]
    },
    {
      "cell_type": "markdown",
      "source": [
        "fastai also provides **Learner.fit**, which we can use instead of **train_model**."
      ],
      "metadata": {
        "id": "kZeFIQqS9GN8"
      }
    },
    {
      "cell_type": "code",
      "source": [
        "dls = DataLoaders(dl, valid_dl)"
      ],
      "metadata": {
        "id": "qf682qzp7X3N"
      },
      "execution_count": null,
      "outputs": []
    },
    {
      "cell_type": "code",
      "source": [
        "learn = Learner(dls, nn.Linear(28*28, 1), opt_func=SGD,\n",
        "                loss_func=mnist_loss, metrics=batch_accuracy)"
      ],
      "metadata": {
        "id": "1puiwAzf91Zi"
      },
      "execution_count": null,
      "outputs": []
    },
    {
      "cell_type": "code",
      "source": [
        "learn.fit(10, lr=lr)"
      ],
      "metadata": {
        "colab": {
          "base_uri": "https://localhost:8080/",
          "height": 363
        },
        "id": "zJ_vV4yL_HZn",
        "outputId": "a480ff88-3a24-435f-f7c4-3f67c7d05f03"
      },
      "execution_count": null,
      "outputs": [
        {
          "output_type": "display_data",
          "data": {
            "text/html": [
              "\n",
              "<style>\n",
              "    /* Turns off some styling */\n",
              "    progress {\n",
              "        /* gets rid of default border in Firefox and Opera. */\n",
              "        border: none;\n",
              "        /* Needs to be in here for Safari polyfill so background images work as expected. */\n",
              "        background-size: auto;\n",
              "    }\n",
              "    .progress-bar-interrupted, .progress-bar-interrupted::-webkit-progress-bar {\n",
              "        background: #F44336;\n",
              "    }\n",
              "</style>\n"
            ],
            "text/plain": [
              "<IPython.core.display.HTML object>"
            ]
          },
          "metadata": {}
        },
        {
          "output_type": "display_data",
          "data": {
            "text/html": [
              "<table border=\"1\" class=\"dataframe\">\n",
              "  <thead>\n",
              "    <tr style=\"text-align: left;\">\n",
              "      <th>epoch</th>\n",
              "      <th>train_loss</th>\n",
              "      <th>valid_loss</th>\n",
              "      <th>batch_accuracy</th>\n",
              "      <th>time</th>\n",
              "    </tr>\n",
              "  </thead>\n",
              "  <tbody>\n",
              "    <tr>\n",
              "      <td>0</td>\n",
              "      <td>0.636856</td>\n",
              "      <td>0.503651</td>\n",
              "      <td>0.495584</td>\n",
              "      <td>00:00</td>\n",
              "    </tr>\n",
              "    <tr>\n",
              "      <td>1</td>\n",
              "      <td>0.596260</td>\n",
              "      <td>0.160360</td>\n",
              "      <td>0.876349</td>\n",
              "      <td>00:00</td>\n",
              "    </tr>\n",
              "    <tr>\n",
              "      <td>2</td>\n",
              "      <td>0.216385</td>\n",
              "      <td>0.199107</td>\n",
              "      <td>0.818449</td>\n",
              "      <td>00:00</td>\n",
              "    </tr>\n",
              "    <tr>\n",
              "      <td>3</td>\n",
              "      <td>0.093193</td>\n",
              "      <td>0.111049</td>\n",
              "      <td>0.910697</td>\n",
              "      <td>00:00</td>\n",
              "    </tr>\n",
              "    <tr>\n",
              "      <td>4</td>\n",
              "      <td>0.047861</td>\n",
              "      <td>0.079654</td>\n",
              "      <td>0.932287</td>\n",
              "      <td>00:00</td>\n",
              "    </tr>\n",
              "    <tr>\n",
              "      <td>5</td>\n",
              "      <td>0.030258</td>\n",
              "      <td>0.063328</td>\n",
              "      <td>0.946025</td>\n",
              "      <td>00:00</td>\n",
              "    </tr>\n",
              "    <tr>\n",
              "      <td>6</td>\n",
              "      <td>0.023103</td>\n",
              "      <td>0.053282</td>\n",
              "      <td>0.954858</td>\n",
              "      <td>00:00</td>\n",
              "    </tr>\n",
              "    <tr>\n",
              "      <td>7</td>\n",
              "      <td>0.019990</td>\n",
              "      <td>0.046627</td>\n",
              "      <td>0.961236</td>\n",
              "      <td>00:00</td>\n",
              "    </tr>\n",
              "    <tr>\n",
              "      <td>8</td>\n",
              "      <td>0.018458</td>\n",
              "      <td>0.041969</td>\n",
              "      <td>0.965162</td>\n",
              "      <td>00:00</td>\n",
              "    </tr>\n",
              "    <tr>\n",
              "      <td>9</td>\n",
              "      <td>0.017566</td>\n",
              "      <td>0.038557</td>\n",
              "      <td>0.967615</td>\n",
              "      <td>00:00</td>\n",
              "    </tr>\n",
              "  </tbody>\n",
              "</table>"
            ],
            "text/plain": [
              "<IPython.core.display.HTML object>"
            ]
          },
          "metadata": {}
        }
      ]
    },
    {
      "cell_type": "markdown",
      "source": [
        "With these classes, we can now replace our linear model with a neural network."
      ],
      "metadata": {
        "id": "lTl9t20MsBiL"
      }
    },
    {
      "cell_type": "markdown",
      "source": [
        "Here is the entire definition of a basic neural network.\n",
        "\n",
        "Add something nonlinear between two linear classifiers—this is what gives us a neural network."
      ],
      "metadata": {
        "id": "QrEIRVX5t87u"
      }
    },
    {
      "cell_type": "code",
      "source": [
        "def simple_net(xb):\n",
        "  res = xb@w1 + b1\n",
        "  res = res.max(tensor(0.0))\n",
        "  res = res@w2 + b2\n",
        "  return res"
      ],
      "metadata": {
        "id": "fo13LDyE_hsp"
      },
      "execution_count": null,
      "outputs": []
    },
    {
      "cell_type": "code",
      "source": [
        "w1 = init_params((28*28,30))\n",
        "b1 = init_params(30)\n",
        "w2 = init_params((30,1))\n",
        "b2 = init_params(1)"
      ],
      "metadata": {
        "id": "F__IFFQi_kFO"
      },
      "execution_count": null,
      "outputs": []
    },
    {
      "cell_type": "code",
      "source": [
        "plot_function(torch.relu)"
      ],
      "metadata": {
        "colab": {
          "base_uri": "https://localhost:8080/",
          "height": 265
        },
        "id": "K4W_F1QOW1-M",
        "outputId": "f6041826-4c59-4e96-fbbe-6b81d676e831"
      },
      "execution_count": null,
      "outputs": [
        {
          "output_type": "display_data",
          "data": {
            "image/png": "[encoded data removed]",
            "text/plain": [
              "<Figure size 432x288 with 1 Axes>"
            ]
          },
          "metadata": {
            "needs_background": "light"
          }
        }
      ]
    },
    {
      "cell_type": "code",
      "source": [
        "simple_net = nn.Sequential(\n",
        "    nn.Linear(28*28,30),\n",
        "    nn.ReLU(),\n",
        "    nn.Linear(30,1)\n",
        ")"
      ],
      "metadata": {
        "id": "pcM4gqpcW8ZJ"
      },
      "execution_count": null,
      "outputs": []
    },
    {
      "cell_type": "code",
      "source": [
        "learn = Learner(dls, simple_net, loss_func=mnist_loss, \n",
        "                opt_func=SGD, metrics=batch_accuracy)"
      ],
      "metadata": {
        "id": "UI-xkDi4djhc"
      },
      "execution_count": null,
      "outputs": []
    },
    {
      "cell_type": "code",
      "source": [
        "learn.fit(40, 0.1)"
      ],
      "metadata": {
        "colab": {
          "base_uri": "https://localhost:8080/",
          "height": 1000
        },
        "id": "CS_2TXsJhEbH",
        "outputId": "c482ff73-1298-4596-e0d8-ed65fdfd74b9"
      },
      "execution_count": null,
      "outputs": [
        {
          "output_type": "display_data",
          "data": {
            "text/html": [
              "\n",
              "<style>\n",
              "    /* Turns off some styling */\n",
              "    progress {\n",
              "        /* gets rid of default border in Firefox and Opera. */\n",
              "        border: none;\n",
              "        /* Needs to be in here for Safari polyfill so background images work as expected. */\n",
              "        background-size: auto;\n",
              "    }\n",
              "    .progress-bar-interrupted, .progress-bar-interrupted::-webkit-progress-bar {\n",
              "        background: #F44336;\n",
              "    }\n",
              "</style>\n"
            ],
            "text/plain": [
              "<IPython.core.display.HTML object>"
            ]
          },
          "metadata": {}
        },
        {
          "output_type": "display_data",
          "data": {
            "text/html": [
              "<table border=\"1\" class=\"dataframe\">\n",
              "  <thead>\n",
              "    <tr style=\"text-align: left;\">\n",
              "      <th>epoch</th>\n",
              "      <th>train_loss</th>\n",
              "      <th>valid_loss</th>\n",
              "      <th>batch_accuracy</th>\n",
              "      <th>time</th>\n",
              "    </tr>\n",
              "  </thead>\n",
              "  <tbody>\n",
              "    <tr>\n",
              "      <td>0</td>\n",
              "      <td>0.284743</td>\n",
              "      <td>0.410170</td>\n",
              "      <td>0.507360</td>\n",
              "      <td>00:00</td>\n",
              "    </tr>\n",
              "    <tr>\n",
              "      <td>1</td>\n",
              "      <td>0.136559</td>\n",
              "      <td>0.220562</td>\n",
              "      <td>0.814033</td>\n",
              "      <td>00:00</td>\n",
              "    </tr>\n",
              "    <tr>\n",
              "      <td>2</td>\n",
              "      <td>0.077320</td>\n",
              "      <td>0.113300</td>\n",
              "      <td>0.916585</td>\n",
              "      <td>00:00</td>\n",
              "    </tr>\n",
              "    <tr>\n",
              "      <td>3</td>\n",
              "      <td>0.051834</td>\n",
              "      <td>0.077096</td>\n",
              "      <td>0.940137</td>\n",
              "      <td>00:00</td>\n",
              "    </tr>\n",
              "    <tr>\n",
              "      <td>4</td>\n",
              "      <td>0.039834</td>\n",
              "      <td>0.060366</td>\n",
              "      <td>0.957802</td>\n",
              "      <td>00:00</td>\n",
              "    </tr>\n",
              "    <tr>\n",
              "      <td>5</td>\n",
              "      <td>0.033606</td>\n",
              "      <td>0.050959</td>\n",
              "      <td>0.963690</td>\n",
              "      <td>00:00</td>\n",
              "    </tr>\n",
              "    <tr>\n",
              "      <td>6</td>\n",
              "      <td>0.029975</td>\n",
              "      <td>0.045016</td>\n",
              "      <td>0.964671</td>\n",
              "      <td>00:00</td>\n",
              "    </tr>\n",
              "    <tr>\n",
              "      <td>7</td>\n",
              "      <td>0.027581</td>\n",
              "      <td>0.040950</td>\n",
              "      <td>0.966634</td>\n",
              "      <td>00:00</td>\n",
              "    </tr>\n",
              "    <tr>\n",
              "      <td>8</td>\n",
              "      <td>0.025839</td>\n",
              "      <td>0.037980</td>\n",
              "      <td>0.969087</td>\n",
              "      <td>00:00</td>\n",
              "    </tr>\n",
              "    <tr>\n",
              "      <td>9</td>\n",
              "      <td>0.024481</td>\n",
              "      <td>0.035700</td>\n",
              "      <td>0.970069</td>\n",
              "      <td>00:00</td>\n",
              "    </tr>\n",
              "    <tr>\n",
              "      <td>10</td>\n",
              "      <td>0.023374</td>\n",
              "      <td>0.033884</td>\n",
              "      <td>0.971541</td>\n",
              "      <td>00:00</td>\n",
              "    </tr>\n",
              "    <tr>\n",
              "      <td>11</td>\n",
              "      <td>0.022447</td>\n",
              "      <td>0.032396</td>\n",
              "      <td>0.973503</td>\n",
              "      <td>00:00</td>\n",
              "    </tr>\n",
              "    <tr>\n",
              "      <td>12</td>\n",
              "      <td>0.021657</td>\n",
              "      <td>0.031144</td>\n",
              "      <td>0.973994</td>\n",
              "      <td>00:00</td>\n",
              "    </tr>\n",
              "    <tr>\n",
              "      <td>13</td>\n",
              "      <td>0.020973</td>\n",
              "      <td>0.030068</td>\n",
              "      <td>0.975466</td>\n",
              "      <td>00:00</td>\n",
              "    </tr>\n",
              "    <tr>\n",
              "      <td>14</td>\n",
              "      <td>0.020373</td>\n",
              "      <td>0.029130</td>\n",
              "      <td>0.975466</td>\n",
              "      <td>00:00</td>\n",
              "    </tr>\n",
              "    <tr>\n",
              "      <td>15</td>\n",
              "      <td>0.019841</td>\n",
              "      <td>0.028299</td>\n",
              "      <td>0.976448</td>\n",
              "      <td>00:00</td>\n",
              "    </tr>\n",
              "    <tr>\n",
              "      <td>16</td>\n",
              "      <td>0.019365</td>\n",
              "      <td>0.027558</td>\n",
              "      <td>0.976938</td>\n",
              "      <td>00:00</td>\n",
              "    </tr>\n",
              "    <tr>\n",
              "      <td>17</td>\n",
              "      <td>0.018934</td>\n",
              "      <td>0.026892</td>\n",
              "      <td>0.977920</td>\n",
              "      <td>00:00</td>\n",
              "    </tr>\n",
              "    <tr>\n",
              "      <td>18</td>\n",
              "      <td>0.018542</td>\n",
              "      <td>0.026290</td>\n",
              "      <td>0.978410</td>\n",
              "      <td>00:00</td>\n",
              "    </tr>\n",
              "    <tr>\n",
              "      <td>19</td>\n",
              "      <td>0.018183</td>\n",
              "      <td>0.025743</td>\n",
              "      <td>0.978901</td>\n",
              "      <td>00:00</td>\n",
              "    </tr>\n",
              "    <tr>\n",
              "      <td>20</td>\n",
              "      <td>0.017852</td>\n",
              "      <td>0.025244</td>\n",
              "      <td>0.978901</td>\n",
              "      <td>00:00</td>\n",
              "    </tr>\n",
              "    <tr>\n",
              "      <td>21</td>\n",
              "      <td>0.017546</td>\n",
              "      <td>0.024787</td>\n",
              "      <td>0.980373</td>\n",
              "      <td>00:00</td>\n",
              "    </tr>\n",
              "    <tr>\n",
              "      <td>22</td>\n",
              "      <td>0.017261</td>\n",
              "      <td>0.024368</td>\n",
              "      <td>0.980864</td>\n",
              "      <td>00:00</td>\n",
              "    </tr>\n",
              "    <tr>\n",
              "      <td>23</td>\n",
              "      <td>0.016995</td>\n",
              "      <td>0.023983</td>\n",
              "      <td>0.981354</td>\n",
              "      <td>00:00</td>\n",
              "    </tr>\n",
              "    <tr>\n",
              "      <td>24</td>\n",
              "      <td>0.016746</td>\n",
              "      <td>0.023627</td>\n",
              "      <td>0.981354</td>\n",
              "      <td>00:00</td>\n",
              "    </tr>\n",
              "    <tr>\n",
              "      <td>25</td>\n",
              "      <td>0.016512</td>\n",
              "      <td>0.023299</td>\n",
              "      <td>0.981354</td>\n",
              "      <td>00:00</td>\n",
              "    </tr>\n",
              "    <tr>\n",
              "      <td>26</td>\n",
              "      <td>0.016291</td>\n",
              "      <td>0.022995</td>\n",
              "      <td>0.981845</td>\n",
              "      <td>00:00</td>\n",
              "    </tr>\n",
              "    <tr>\n",
              "      <td>27</td>\n",
              "      <td>0.016083</td>\n",
              "      <td>0.022712</td>\n",
              "      <td>0.981845</td>\n",
              "      <td>00:00</td>\n",
              "    </tr>\n",
              "    <tr>\n",
              "      <td>28</td>\n",
              "      <td>0.015886</td>\n",
              "      <td>0.022450</td>\n",
              "      <td>0.982336</td>\n",
              "      <td>00:00</td>\n",
              "    </tr>\n",
              "    <tr>\n",
              "      <td>29</td>\n",
              "      <td>0.015698</td>\n",
              "      <td>0.022206</td>\n",
              "      <td>0.982336</td>\n",
              "      <td>00:00</td>\n",
              "    </tr>\n",
              "    <tr>\n",
              "      <td>30</td>\n",
              "      <td>0.015521</td>\n",
              "      <td>0.021978</td>\n",
              "      <td>0.983317</td>\n",
              "      <td>00:00</td>\n",
              "    </tr>\n",
              "    <tr>\n",
              "      <td>31</td>\n",
              "      <td>0.015351</td>\n",
              "      <td>0.021766</td>\n",
              "      <td>0.983808</td>\n",
              "      <td>00:00</td>\n",
              "    </tr>\n",
              "    <tr>\n",
              "      <td>32</td>\n",
              "      <td>0.015190</td>\n",
              "      <td>0.021566</td>\n",
              "      <td>0.983808</td>\n",
              "      <td>00:00</td>\n",
              "    </tr>\n",
              "    <tr>\n",
              "      <td>33</td>\n",
              "      <td>0.015035</td>\n",
              "      <td>0.021380</td>\n",
              "      <td>0.983317</td>\n",
              "      <td>00:00</td>\n",
              "    </tr>\n",
              "    <tr>\n",
              "      <td>34</td>\n",
              "      <td>0.014888</td>\n",
              "      <td>0.021204</td>\n",
              "      <td>0.983317</td>\n",
              "      <td>00:00</td>\n",
              "    </tr>\n",
              "    <tr>\n",
              "      <td>35</td>\n",
              "      <td>0.014746</td>\n",
              "      <td>0.021039</td>\n",
              "      <td>0.983317</td>\n",
              "      <td>00:00</td>\n",
              "    </tr>\n",
              "    <tr>\n",
              "      <td>36</td>\n",
              "      <td>0.014610</td>\n",
              "      <td>0.020883</td>\n",
              "      <td>0.983317</td>\n",
              "      <td>00:00</td>\n",
              "    </tr>\n",
              "    <tr>\n",
              "      <td>37</td>\n",
              "      <td>0.014479</td>\n",
              "      <td>0.020735</td>\n",
              "      <td>0.983317</td>\n",
              "      <td>00:00</td>\n",
              "    </tr>\n",
              "    <tr>\n",
              "      <td>38</td>\n",
              "      <td>0.014352</td>\n",
              "      <td>0.020595</td>\n",
              "      <td>0.983317</td>\n",
              "      <td>00:00</td>\n",
              "    </tr>\n",
              "    <tr>\n",
              "      <td>39</td>\n",
              "      <td>0.014230</td>\n",
              "      <td>0.020462</td>\n",
              "      <td>0.983317</td>\n",
              "      <td>00:00</td>\n",
              "    </tr>\n",
              "  </tbody>\n",
              "</table>"
            ],
            "text/plain": [
              "<IPython.core.display.HTML object>"
            ]
          },
          "metadata": {}
        }
      ]
    },
    {
      "cell_type": "code",
      "source": [
        "plt.plot(L(learn.recorder.values).itemgot(2));"
      ],
      "metadata": {
        "colab": {
          "base_uri": "https://localhost:8080/",
          "height": 266
        },
        "id": "ecW1AH6dhVTv",
        "outputId": "dcd4e301-bf1f-4d68-9385-edc6647e1590"
      },
      "execution_count": null,
      "outputs": [
        {
          "output_type": "display_data",
          "data": {
            "image/png": "[encoded data removed]",
            "text/plain": [
              "<Figure size 432x288 with 1 Axes>"
            ]
          },
          "metadata": {
            "needs_background": "light"
          }
        }
      ]
    },
    {
      "cell_type": "code",
      "source": [
        "learn.recorder.values[-1][2]"
      ],
      "metadata": {
        "colab": {
          "base_uri": "https://localhost:8080/"
        },
        "id": "o3vdvsfroG-G",
        "outputId": "b487c2ab-6a51-4441-f6d5-c56596bdd9a9"
      },
      "execution_count": null,
      "outputs": [
        {
          "output_type": "execute_result",
          "data": {
            "text/plain": [
              "0.983316957950592"
            ]
          },
          "metadata": {},
          "execution_count": 159
        }
      ]
    },
    {
      "cell_type": "markdown",
      "source": [
        "## Going deeper\n",
        "\n",
        "Here what happens when we train an 18-layer model using the same approach we saw in <>:"
      ],
      "metadata": {
        "id": "w3v55gL7tpq6"
      }
    },
    {
      "cell_type": "code",
      "source": [
        "dls = ImageDataLoaders.from_folder(path)\n",
        "learn = cnn_learner(dls, resnet18, pretrained=False,\n",
        "                    loss_func=F.cross_entropy, metrics=accuracy)\n",
        "learn.fit_one_cycle(1, 0.1)"
      ],
      "metadata": {
        "colab": {
          "base_uri": "https://localhost:8080/",
          "height": 81
        },
        "id": "JgwjTDRotuIW",
        "outputId": "d89f4c71-7dd4-4f69-98a7-cca734cf51d9"
      },
      "execution_count": null,
      "outputs": [
        {
          "output_type": "display_data",
          "data": {
            "text/html": [
              "\n",
              "<style>\n",
              "    /* Turns off some styling */\n",
              "    progress {\n",
              "        /* gets rid of default border in Firefox and Opera. */\n",
              "        border: none;\n",
              "        /* Needs to be in here for Safari polyfill so background images work as expected. */\n",
              "        background-size: auto;\n",
              "    }\n",
              "    .progress-bar-interrupted, .progress-bar-interrupted::-webkit-progress-bar {\n",
              "        background: #F44336;\n",
              "    }\n",
              "</style>\n"
            ],
            "text/plain": [
              "<IPython.core.display.HTML object>"
            ]
          },
          "metadata": {}
        },
        {
          "output_type": "display_data",
          "data": {
            "text/html": [
              "<table border=\"1\" class=\"dataframe\">\n",
              "  <thead>\n",
              "    <tr style=\"text-align: left;\">\n",
              "      <th>epoch</th>\n",
              "      <th>train_loss</th>\n",
              "      <th>valid_loss</th>\n",
              "      <th>accuracy</th>\n",
              "      <th>time</th>\n",
              "    </tr>\n",
              "  </thead>\n",
              "  <tbody>\n",
              "    <tr>\n",
              "      <td>0</td>\n",
              "      <td>0.080212</td>\n",
              "      <td>0.015575</td>\n",
              "      <td>0.995584</td>\n",
              "      <td>03:22</td>\n",
              "    </tr>\n",
              "  </tbody>\n",
              "</table>"
            ],
            "text/plain": [
              "<IPython.core.display.HTML object>"
            ]
          },
          "metadata": {}
        }
      ]
    },
    {
      "cell_type": "markdown",
      "source": [
        "Nearly 100% accuracy! That's a big difference compared to our simple neural net."
      ],
      "metadata": {
        "id": "H71XZ-h7vFXA"
      }
    },
    {
      "cell_type": "markdown",
      "source": [],
      "metadata": {
        "id": "lzxAAMlpeCZG"
      }
    }
  ]
}